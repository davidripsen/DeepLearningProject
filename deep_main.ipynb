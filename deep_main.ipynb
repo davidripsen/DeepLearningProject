{
 "cells": [
  {
   "cell_type": "code",
   "execution_count": null,
   "id": "K7-Pz45xS0qa",
   "metadata": {
    "colab": {
     "base_uri": "https://localhost:8080/"
    },
    "id": "K7-Pz45xS0qa",
    "outputId": "b531d7a9-7c7d-4984-c138-d272908db2dd"
   },
   "outputs": [
    {
     "name": "stdout",
     "output_type": "stream",
     "text": [
      "Collecting pickle5\n",
      "  Downloading pickle5-0.0.11.tar.gz (132 kB)\n",
      "\u001b[K     |████████████████████████████████| 132 kB 5.2 MB/s \n",
      "\u001b[?25hBuilding wheels for collected packages: pickle5\n",
      "  Building wheel for pickle5 (setup.py) ... \u001b[?25l\u001b[?25hdone\n",
      "  Created wheel for pickle5: filename=pickle5-0.0.11-cp37-cp37m-linux_x86_64.whl size=219307 sha256=1f1cd58604fc30b7f79a243d827da9230a109c8a42b8ebbe24a0e7b51eb6cecb\n",
      "  Stored in directory: /root/.cache/pip/wheels/7e/6a/00/67136a90d6aca437d806d1d3cedf98106e840c97a3e5188198\n",
      "Successfully built pickle5\n",
      "Installing collected packages: pickle5\n",
      "Successfully installed pickle5-0.0.11\n"
     ]
    }
   ],
   "source": [
    "pip install pickle5"
   ]
  },
  {
   "cell_type": "code",
   "execution_count": 1,
   "id": "896a6b14",
   "metadata": {
    "colab": {
     "base_uri": "https://localhost:8080/"
    },
    "id": "896a6b14",
    "outputId": "3143fdc9-3851-45ea-bb8c-9241ddceb6e1"
   },
   "outputs": [
    {
     "data": {
      "text/plain": [
       "<torch._C.Generator at 0x11ec43b10>"
      ]
     },
     "execution_count": 1,
     "metadata": {},
     "output_type": "execute_result"
    }
   ],
   "source": [
    "import matplotlib.pyplot as plt\n",
    "from IPython.display import Image, display, clear_output\n",
    "import numpy as np\n",
    "%matplotlib nbagg\n",
    "%matplotlib inline\n",
    "import seaborn as sns\n",
    "import pandas as pd\n",
    "sns.set_style(\"whitegrid\")\n",
    "import pickle5 as pickle\n",
    "import torch\n",
    "from sklearn.model_selection import train_test_split\n",
    "from torch import nn, optim\n",
    "import torch.nn.functional as F\n",
    "import copy\n",
    "import scipy.interpolate as interpolate\n",
    "import random\n",
    "import datetime\n",
    "from torch.utils.data import DataLoader, TensorDataset\n",
    "\n",
    "RANDOM_SEED = 56\n",
    "np.random.seed(RANDOM_SEED)\n",
    "torch.manual_seed(RANDOM_SEED)"
   ]
  },
  {
   "cell_type": "code",
   "execution_count": 52,
   "id": "8f48dbf8-20df-47d8-b1fc-c71d053b8637",
   "metadata": {},
   "outputs": [
    {
     "name": "stdout",
     "output_type": "stream",
     "text": [
      "tensor([[[0.3829, 0.8426, 0.0821],\n",
      "         [0.1265, 0.9413, 0.2288],\n",
      "         [0.7923, 0.6016, 0.4555],\n",
      "         [0.8206, 0.6515, 0.4981],\n",
      "         [0.7851, 0.1315, 0.1132],\n",
      "         [0.8205, 0.3272, 0.4745],\n",
      "         [0.1631, 0.1822, 0.1407],\n",
      "         [0.5953, 0.0452, 0.7859],\n",
      "         [0.8993, 0.0457, 0.4232],\n",
      "         [0.9887, 0.7362, 0.4266]],\n",
      "\n",
      "        [[0.6115, 0.2519, 0.3091],\n",
      "         [0.8785, 0.2119, 0.1581],\n",
      "         [0.6489, 0.6345, 0.9972],\n",
      "         [0.5228, 0.3024, 0.4030],\n",
      "         [0.1261, 0.9702, 0.5693],\n",
      "         [0.8097, 0.3753, 0.1119],\n",
      "         [0.9411, 0.3942, 0.6543],\n",
      "         [0.7221, 0.9654, 0.1435],\n",
      "         [0.7868, 0.3158, 0.1406],\n",
      "         [0.6500, 0.4415, 0.4016]]])\n",
      "tensor([[0.9887, 0.7362, 0.4266],\n",
      "        [0.6500, 0.4415, 0.4016]])\n",
      "torch.Size([2, 3])\n"
     ]
    }
   ],
   "source": [
    "a = torch.rand(2, 10, 3) # 10, seq_len, 128\n",
    "print(a)\n",
    "print(a[:, -1, :])\n",
    "print(a[:, -1, :].shape)"
   ]
  },
  {
   "cell_type": "code",
   "execution_count": 2,
   "id": "1biy1_9IFfWU",
   "metadata": {
    "colab": {
     "base_uri": "https://localhost:8080/"
    },
    "id": "1biy1_9IFfWU",
    "outputId": "9d7e6b87-81ca-40c8-9979-42c0f14d249d"
   },
   "outputs": [
    {
     "ename": "ModuleNotFoundError",
     "evalue": "No module named 'google'",
     "output_type": "error",
     "traceback": [
      "\u001b[0;31m---------------------------------------------------------------------------\u001b[0m",
      "\u001b[0;31mModuleNotFoundError\u001b[0m                       Traceback (most recent call last)",
      "\u001b[0;32m/var/folders/wv/j_lqm8yn4ndb1hvhthjcrb540000gn/T/ipykernel_25928/1050275017.py\u001b[0m in \u001b[0;36m<module>\u001b[0;34m\u001b[0m\n\u001b[0;32m----> 1\u001b[0;31m \u001b[0;32mfrom\u001b[0m \u001b[0mgoogle\u001b[0m\u001b[0;34m.\u001b[0m\u001b[0mcolab\u001b[0m \u001b[0;32mimport\u001b[0m \u001b[0mdrive\u001b[0m\u001b[0;34m\u001b[0m\u001b[0;34m\u001b[0m\u001b[0m\n\u001b[0m\u001b[1;32m      2\u001b[0m \u001b[0mdrive\u001b[0m\u001b[0;34m.\u001b[0m\u001b[0mmount\u001b[0m\u001b[0;34m(\u001b[0m\u001b[0;34m'/content/gdrive'\u001b[0m\u001b[0;34m)\u001b[0m\u001b[0;34m\u001b[0m\u001b[0;34m\u001b[0m\u001b[0m\n",
      "\u001b[0;31mModuleNotFoundError\u001b[0m: No module named 'google'"
     ]
    }
   ],
   "source": [
    "from google.colab import drive\n",
    "drive.mount('/content/gdrive')"
   ]
  },
  {
   "cell_type": "code",
   "execution_count": 3,
   "id": "MMIBRGefFr2K",
   "metadata": {
    "id": "MMIBRGefFr2K"
   },
   "outputs": [],
   "source": [
    "root_path = ''   #change dir to your project folder"
   ]
  },
  {
   "cell_type": "code",
   "execution_count": 4,
   "id": "14f1e006",
   "metadata": {
    "id": "14f1e006",
    "scrolled": true
   },
   "outputs": [],
   "source": [
    "# Load data\n",
    "df0 = pickle.load( open( root_path + \"data/aligned_GM-7792_DRD-d6b1cf27-41ed-43b6-8050-2068ef941a0aDRD-d6b1cf27-41ed-43b6-8050-2068ef941a0a_GM-7792_pass-0_cleaned.pickle\", \"rb\" ) )\n",
    "df1 = pickle.load( open( root_path + \"data/aligned_GM-7792_DRD-d6b1cf27-41ed-43b6-8050-2068ef941a0aDRD-d6b1cf27-41ed-43b6-8050-2068ef941a0a_GM-7792_pass-1_cleaned.pickle\", \"rb\" ) )"
   ]
  },
  {
   "cell_type": "code",
   "execution_count": 5,
   "id": "6a32487f",
   "metadata": {
    "colab": {
     "base_uri": "https://localhost:8080/"
    },
    "id": "6a32487f",
    "outputId": "eccfb479-0b12-4ad0-81a9-f7cd3ae9f164"
   },
   "outputs": [
    {
     "data": {
      "text/plain": [
       "(3830, 10)"
      ]
     },
     "execution_count": 5,
     "metadata": {},
     "output_type": "execute_result"
    }
   ],
   "source": [
    "# Merge the two dataframes\n",
    "df = df0.append(df1, ignore_index=True)\n",
    "# Shuffle df\n",
    "df = df.sample(frac=1.0)\n",
    "df.shape"
   ]
  },
  {
   "cell_type": "code",
   "execution_count": 6,
   "id": "qxZWFrkIULCo",
   "metadata": {
    "id": "qxZWFrkIULCo"
   },
   "outputs": [],
   "source": [
    "# Subselect data for dev\n",
    "#df = df[0:1000]"
   ]
  },
  {
   "cell_type": "code",
   "execution_count": 7,
   "id": "d000068d",
   "metadata": {
    "colab": {
     "base_uri": "https://localhost:8080/"
    },
    "id": "d000068d",
    "outputId": "555ae9b1-dcb5-4743-f647-3131aec99aa3"
   },
   "outputs": [
    {
     "data": {
      "text/plain": [
       "device(type='cpu')"
      ]
     },
     "execution_count": 7,
     "metadata": {},
     "output_type": "execute_result"
    }
   ],
   "source": [
    "device = torch.device(\"cuda\" if torch.cuda.is_available() else \"cpu\")\n",
    "device"
   ]
  },
  {
   "cell_type": "code",
   "execution_count": null,
   "id": "_XPnKaYNITEm",
   "metadata": {
    "colab": {
     "base_uri": "https://localhost:8080/"
    },
    "id": "_XPnKaYNITEm",
    "outputId": "01766462-b678-4356-8cfa-ff350c99c8bf"
   },
   "outputs": [
    {
     "name": "stdout",
     "output_type": "stream",
     "text": [
      "Mon Nov 15 00:37:24 2021       \n",
      "+-----------------------------------------------------------------------------+\n",
      "| NVIDIA-SMI 495.44       Driver Version: 460.32.03    CUDA Version: 11.2     |\n",
      "|-------------------------------+----------------------+----------------------+\n",
      "| GPU  Name        Persistence-M| Bus-Id        Disp.A | Volatile Uncorr. ECC |\n",
      "| Fan  Temp  Perf  Pwr:Usage/Cap|         Memory-Usage | GPU-Util  Compute M. |\n",
      "|                               |                      |               MIG M. |\n",
      "|===============================+======================+======================|\n",
      "|   0  Tesla K80           Off  | 00000000:00:04.0 Off |                    0 |\n",
      "| N/A   35C    P8    25W / 149W |      3MiB / 11441MiB |      0%      Default |\n",
      "|                               |                      |                  N/A |\n",
      "+-------------------------------+----------------------+----------------------+\n",
      "                                                                               \n",
      "+-----------------------------------------------------------------------------+\n",
      "| Processes:                                                                  |\n",
      "|  GPU   GI   CI        PID   Type   Process name                  GPU Memory |\n",
      "|        ID   ID                                                   Usage      |\n",
      "|=============================================================================|\n",
      "|  No running processes found                                                 |\n",
      "+-----------------------------------------------------------------------------+\n"
     ]
    }
   ],
   "source": [
    "!nvidia-smi"
   ]
  },
  {
   "cell_type": "markdown",
   "id": "d97d7833",
   "metadata": {
    "id": "d97d7833"
   },
   "source": [
    "# up/downsample series"
   ]
  },
  {
   "cell_type": "code",
   "execution_count": 8,
   "id": "YbRmJO-JFJ3i",
   "metadata": {
    "id": "YbRmJO-JFJ3i"
   },
   "outputs": [],
   "source": [
    "def resample(seq, to_length, window_size):\n",
    "    '''\n",
    "    Resample a sequence/\n",
    "    Parameters\n",
    "    ----------\n",
    "    seq : np.array\n",
    "        Sequence to be resampled.\n",
    "    to_length : int\n",
    "        Resample to this number of points.\n",
    "    Returns\n",
    "    -------\n",
    "    d_resampled : np.array\n",
    "        resampled distance (0,10)\n",
    "    y_resampled : np.array\n",
    "        resampled input sequence.\n",
    "    '''\n",
    "    # Downsample if needed\n",
    "    seq_len = seq.shape[0]\n",
    "    if seq_len>to_length:\n",
    "        seq = choice(seq, to_length)\n",
    "        seq_len = seq.shape[0] #\n",
    "    # Current\n",
    "    window_size = seq_len #guess if you only want to use first part of TS?\n",
    "    d = np.linspace(0, window_size, seq_len)\n",
    "    f = interpolate.interp1d(d, seq)\n",
    "    # Generate new points\n",
    "    d_new = np.random.uniform(low=0, high=d[-1], size=(to_length - seq_len))\n",
    "    # Append new to the initial\n",
    "    d_resampled = sorted(np.concatenate((d, d_new)))\n",
    "    # Estimate y at points\n",
    "    y_resampled = f(d_resampled)\n",
    "    return d_resampled, y_resampled\n",
    "    \n",
    "def resample_df(df, feats_to_resample, to_lengths_dict = {}, window_size = None):\n",
    "    input_feats_resampled = []\n",
    "    # Filter rows with less than 2 points (can't resample those)\n",
    "    for feat in feats_to_resample:\n",
    "        df[feat+'_len'] =  df[feat].apply(lambda seq: 1 if isinstance(seq, float) else seq.shape[0])\n",
    "        df.mask(df[feat+'_len']<2, inplace = True)\n",
    "    # Drop nans (rows with NaN/len<2) and reset index\n",
    "    df.dropna(subset = feats_to_resample, inplace = True)\n",
    "    df.reset_index(drop = True, inplace = True)\n",
    "    # Resample to the maximum\n",
    "    for feat in feats_to_resample:\n",
    "        print('Resampling feature: ',feat)\n",
    "        #max_len = max(df[feat].apply(lambda seq: seq.shape[0]))\n",
    "        to_length = to_lengths_dict[feat]\n",
    "        new_feats_resampled = ['{0}_d_resampled'.format(feat), '{0}_resampled'.format(feat)]\n",
    "        df[new_feats_resampled ] = df.apply(lambda seq: resample(seq[feat], to_length = to_length, window_size = window_size),\n",
    "                                        axis=1, result_type=\"expand\")\n",
    "        input_feats_resampled.append('{0}_resampled'.format(feat))\n",
    "    return df,  input_feats_resampled"
   ]
  },
  {
   "cell_type": "code",
   "execution_count": 9,
   "id": "9UEV7onP2wgO",
   "metadata": {
    "id": "9UEV7onP2wgO"
   },
   "outputs": [],
   "source": [
    "def choice(seq, to_length):\n",
    "  return np.array([seq[i] for i in sorted(random.sample(range(len(seq)), to_length))])"
   ]
  },
  {
   "cell_type": "code",
   "execution_count": 10,
   "id": "7drJpA0dwfXP",
   "metadata": {
    "id": "7drJpA0dwfXP"
   },
   "outputs": [],
   "source": [
    "feats_to_resample = ['GM.acc.xyz.z']\n",
    "to_lengths_dict = {}\n",
    "\n",
    "for feat in feats_to_resample:\n",
    "  to_lengths_dict[feat] = int(df[feat].apply(len).quantile(0.83))"
   ]
  },
  {
   "cell_type": "code",
   "execution_count": 11,
   "id": "HM9TZ5Fz0FuJ",
   "metadata": {
    "colab": {
     "base_uri": "https://localhost:8080/"
    },
    "id": "HM9TZ5Fz0FuJ",
    "outputId": "e7cda9a3-9726-4511-e80d-fcf0ead51f8e"
   },
   "outputs": [
    {
     "name": "stdout",
     "output_type": "stream",
     "text": [
      "Resampling feature:  GM.acc.xyz.z\n"
     ]
    },
    {
     "data": {
      "text/plain": [
       "(      IRI_mean                                       IRI_sequence  \\\n",
       " 0     3.466545  [4.190362829, 5.7580724565, 3.8626593110000003...   \n",
       " 1      1.81723  [1.2442136609999999, 2.072785271, 1.9020439945...   \n",
       " 2     2.899793  [3.9273969665, 2.9459366989999998, 4.005252755...   \n",
       " 3      4.02106  [2.368106586, 4.421193358, 9.9007087925, 7.132...   \n",
       " 4     2.383059  [1.434841997, 1.9767201665, 1.865241845, 2.084...   \n",
       " ...        ...                                                ...   \n",
       " 3825  3.770514  [6.3919734655, 2.7122621685, 2.3238099795, 3.6...   \n",
       " 3826  3.146434  [2.460614889, 2.4504720825, 1.5724999955, 2.19...   \n",
       " 3827  3.809389  [3.3704721745, 7.177070926999999, 7.5961139440...   \n",
       " 3828  3.641557  [4.800837035000001, 2.0391156305, 1.9153844050...   \n",
       " 3829  4.311855  [4.187966511, 3.8159984395, 2.9084116079999998...   \n",
       " \n",
       "                                       GM.TS_or_Distance  \\\n",
       " 0     [2021-04-22 02:42:14.432000+00:00, 2021-04-22 ...   \n",
       " 1     [2021-04-22 02:57:00.701000+00:00, 2021-04-22 ...   \n",
       " 2     [2021-04-22 01:57:48.952000+00:00, 2021-04-22 ...   \n",
       " 3     [2021-04-22 02:57:16.224000+00:00, 2021-04-22 ...   \n",
       " 4     [2021-04-22 01:11:21.293000+00:00, 2021-04-22 ...   \n",
       " ...                                                 ...   \n",
       " 3825  [2021-04-22 01:54:08.097000+00:00, 2021-04-22 ...   \n",
       " 3826  [2021-04-22 01:57:43.407000+00:00, 2021-04-22 ...   \n",
       " 3827  [2021-04-22 02:26:37.721000+00:00, 2021-04-22 ...   \n",
       " 3828  [2021-04-22 01:33:48.497000+00:00, 2021-04-22 ...   \n",
       " 3829  [2021-04-22 02:51:56.364000+00:00, 2021-04-22 ...   \n",
       " \n",
       "                                                    GM.T  \\\n",
       " 0     [acc.xyz, obd.spd_veh, acc.xyz, acc.xyz, acc.x...   \n",
       " 1     [acc.xyz, acc.xyz, obd.spd_veh, acc.xyz, acc.x...   \n",
       " 2     [acc.xyz, acc.xyz, acc.xyz, acc.xyz, obd.spd_v...   \n",
       " 3     [acc.xyz, obd.spd_veh, acc.xyz, acc.xyz, acc.x...   \n",
       " 4     [acc.xyz, obd.spd_veh, acc.xyz, acc.xyz, acc.x...   \n",
       " ...                                                 ...   \n",
       " 3825  [acc.xyz, acc.xyz, acc.xyz, acc.xyz, obd.spd_v...   \n",
       " 3826  [acc.xyz, obd.spd_veh, acc.xyz, acc.xyz, acc.x...   \n",
       " 3827  [acc.xyz, acc.xyz, obd.spd_veh, acc.xyz, acc.x...   \n",
       " 3828  [acc.xyz, acc.xyz, obd.spd_veh, acc.xyz, acc.x...   \n",
       " 3829  [acc.xyz, acc.xyz, acc.xyz, acc.xyz, acc.xyz, ...   \n",
       " \n",
       "                                              GM.lat_int  \\\n",
       " 0     [55.655798211920526, 55.65579828145695, 55.655...   \n",
       " 1     [55.693304325, 55.693304675, 55.69330485000000...   \n",
       " 2     [55.694865665782494, 55.69486528381963, 55.694...   \n",
       " 3     [55.694392253731344, 55.69439279104478, 55.694...   \n",
       " 4     [55.656146688963204, 55.65614665886287, 55.656...   \n",
       " ...                                                 ...   \n",
       " 3825  [55.7114841056338, 55.71148380985915, 55.71148...   \n",
       " 3826  [55.69534041052631, 55.695336052631575, 55.695...   \n",
       " 3827  [55.66555889274448, 55.66555865141956, 55.6655...   \n",
       " 3828  [55.68614942779292, 55.68614971662126, 55.6861...   \n",
       " 3829  [55.67593627835052, 55.67594070103093, 55.6759...   \n",
       " \n",
       "                                              GM.lon_int  \\\n",
       " 0     [12.485959450331126, 12.485959410596028, 12.48...   \n",
       " 1     [12.5071913375, 12.507192162499999, 12.5071925...   \n",
       " 2     [12.593421535809018, 12.59342100530504, 12.593...   \n",
       " 3     [12.50955394925373, 12.509555041791044, 12.509...   \n",
       " 4     [12.545961926421406, 12.545961725752509, 12.54...   \n",
       " ...                                                 ...   \n",
       " 3825  [12.587847190140845, 12.587847457746479, 12.58...   \n",
       " 3826  [12.593885677192983, 12.593883719298246, 12.59...   \n",
       " 3827  [12.566254104100945, 12.566253588328076, 12.56...   \n",
       " 3828  [12.49831636239782, 12.498316912806539, 12.498...   \n",
       " 3829  [12.487840316151201, 12.487837635738831, 12.48...   \n",
       " \n",
       "                                            GM.acc.xyz.z  \\\n",
       " 0     [0.9492, 0.9492, 0.9492, 0.9492, 0.9766, 0.976...   \n",
       " 1     [0.9375, 0.9375, 0.9375, 0.9375, 0.9375, 0.992...   \n",
       " 2     [1.0352, 1.0352, 1.0352, 1.0859, 1.0859, 1.085...   \n",
       " 3     [0.9844, 0.9844, 0.9844, 0.9844, 0.9844, 0.980...   \n",
       " 4     [1.0195, 0.9805, 0.9805, 0.9805, 0.9805, 0.980...   \n",
       " ...                                                 ...   \n",
       " 3825  [0.918, 0.8984, 0.8984, 0.8984, 0.9727, 0.9727...   \n",
       " 3826  [0.9727, 0.9727, 1.0039, 1.0, 1.0, 1.0, 1.0, 1...   \n",
       " 3827  [1.0391, 1.0391, 1.0391, 1.0391, 0.9414, 0.941...   \n",
       " 3828  [0.8789, 0.9297, 0.9297, 0.9297, 0.9297, 0.929...   \n",
       " 3829  [0.9961, 0.9961, 0.9961, 1.0117, 1.0117, 1.011...   \n",
       " \n",
       "                                            GM.acc.xyz.y  \\\n",
       " 0     [-0.1367, -0.1367, -0.1367, -0.1367, -0.1289, ...   \n",
       " 1     [0.082, 0.082, 0.082, 0.082, 0.082, 0.0703, 0....   \n",
       " 2     [0.0234, 0.0234, 0.0234, 0.0234, -0.0039, -0.0...   \n",
       " 3     [-0.2852, -0.2852, -0.2852, -0.2852, -0.2852, ...   \n",
       " 4     [-0.0977, -0.1016, -0.1016, -0.1016, -0.1016, ...   \n",
       " ...                                                 ...   \n",
       " 3825  [-0.0195, -0.0547, -0.0547, -0.0547, -0.0313, ...   \n",
       " 3826  [0.0625, 0.0625, 0.0508, 0.0625, 0.0625, 0.062...   \n",
       " 3827  [-0.0234, -0.0234, -0.0234, -0.0234, -0.0703, ...   \n",
       " 3828  [-0.2305, -0.2305, -0.2422, -0.2422, -0.2422, ...   \n",
       " 3829  [-0.0938, -0.0938, -0.0938, -0.0977, -0.0977, ...   \n",
       " \n",
       "                                            GM.acc.xyz.x  \\\n",
       " 0     [0.1602, 0.1602, 0.1602, 0.1602, 0.1719, 0.171...   \n",
       " 1     [0.2773, 0.2773, 0.2773, 0.2773, 0.2773, 0.293...   \n",
       " 2     [0.1875, 0.1875, 0.1875, 0.1875, 0.1797, 0.179...   \n",
       " 3     [0.1836, 0.1836, 0.1836, 0.1836, 0.1836, 0.179...   \n",
       " 4     [0.1914, 0.2031, 0.2031, 0.2031, 0.2031, 0.203...   \n",
       " ...                                                 ...   \n",
       " 3825  [0.1289, 0.1367, 0.1367, 0.1367, 0.168, 0.168,...   \n",
       " 3826  [0.2266, 0.2266, 0.2344, 0.2305, 0.2305, 0.230...   \n",
       " 3827  [0.2031, 0.2031, 0.2031, 0.2031, 0.2031, 0.136...   \n",
       " 3828  [0.1758, 0.1758, 0.1719, 0.1719, 0.1719, 0.171...   \n",
       " 3829  [0.1367, 0.1367, 0.1367, 0.1367, 0.1367, 0.136...   \n",
       " \n",
       "                                    GM.obd.spd_veh.value  GM.acc.xyz.z_len  \\\n",
       " 0     [49.83, 49.77, 49.7, 49.64, 49.58, 51.07, 49.5...              2165   \n",
       " 1     [51.67, 51.730000000000004, 51.800000000000004...              1954   \n",
       " 2     [42.19, 42.24, 42.6, 42.64, 42.68, 42.7, 42.75...              2091   \n",
       " 3     [19.88, 19.71, 19.580000000000002, 19.5, 19.3,...              8752   \n",
       " 4     [43.800000000000004, 43.76, 43.730000000000004...              2333   \n",
       " ...                                                 ...               ...   \n",
       " 3825  [53.61, 53.57, 53.54, 53.6, 53.550000000000004...              1892   \n",
       " 3826  [33.1, 33.160000000000004, 33.26, 33.34, 31.48...              2326   \n",
       " 3827  [56.63, 56.64, 56.620000000000005, 56.64, 56.6...              1724   \n",
       " 3828  [31.84, 31.740000000000002, 31.580000000000002...              3291   \n",
       " 3829  [29.36, 29.34, 29.330000000000002, 29.74000000...             10734   \n",
       " \n",
       "                                GM.acc.xyz.z_d_resampled  \\\n",
       " 0     [0.0, 0.4209344301674617, 1.0004621072088724, ...   \n",
       " 1     [0.0, 0.056012442845421395, 0.1784199093275034...   \n",
       " 2     [0.0, 0.4060767948141607, 1.0004784688995216, ...   \n",
       " 3     [0.0, 1.000250312891114, 2.000500625782228, 3....   \n",
       " 4     [0.0, 1.0004288164665522, 2.0008576329331045, ...   \n",
       " ...                                                 ...   \n",
       " 3825  [0.0, 0.26300094781270644, 0.5135064089258856,...   \n",
       " 3826  [0.0, 1.0004301075268818, 2.0008602150537635, ...   \n",
       " 3827  [0.0, 0.6161755084613834, 1.0005803830528148, ...   \n",
       " 3828  [0.0, 1.0003039513677812, 2.0006079027355623, ...   \n",
       " 3829  [0.0, 1.000250312891114, 2.000500625782228, 3....   \n",
       " \n",
       "                                  GM.acc.xyz.z_resampled  \n",
       " 0     [0.9492, 0.9492, 0.9492, 0.9492, 0.9492, 0.949...  \n",
       " 1     [0.9375, 0.9375, 0.9375, 0.9375, 0.9375, 0.937...  \n",
       " 2     [1.0352, 1.0352, 1.0352, 1.0352, 1.0859, 1.085...  \n",
       " 3     [0.9844, 0.9844, 0.9844, 0.9805, 0.9453, 0.945...  \n",
       " 4     [1.0195, 0.9805, 0.9805, 0.9805, 0.9805, 0.980...  \n",
       " ...                                                 ...  \n",
       " 3825  [0.918, 0.9128479059570026, 0.9079405940074707...  \n",
       " 3826  [0.9727, 0.9727, 1.0039, 1.0034718356201662, 1...  \n",
       " 3827  [1.0391, 1.0391, 1.0391, 1.0391, 1.0391, 1.039...  \n",
       " 3828  [0.8789, 0.9297, 0.9297, 0.9297, 0.9297, 0.929...  \n",
       " 3829  [1.0156, 1.0156, 1.0156, 0.9961, 0.9961, 1.003...  \n",
       " \n",
       " [3830 rows x 13 columns],\n",
       " ['GM.acc.xyz.z_resampled'])"
      ]
     },
     "execution_count": 11,
     "metadata": {},
     "output_type": "execute_result"
    }
   ],
   "source": [
    "resample_df(df, feats_to_resample, to_lengths_dict, None )"
   ]
  },
  {
   "cell_type": "markdown",
   "id": "iC92wKP4Ueg3",
   "metadata": {
    "id": "iC92wKP4Ueg3"
   },
   "source": [
    "### Threshold data on IRI_mean > 5  <=> outlier"
   ]
  },
  {
   "cell_type": "code",
   "execution_count": 12,
   "id": "140f2c4f",
   "metadata": {
    "colab": {
     "base_uri": "https://localhost:8080/"
    },
    "id": "140f2c4f",
    "outputId": "987935a1-3872-4d96-9d7e-6c22b838a22e"
   },
   "outputs": [
    {
     "data": {
      "text/plain": [
       "(3410, 3996)"
      ]
     },
     "execution_count": 12,
     "metadata": {},
     "output_type": "execute_result"
    }
   ],
   "source": [
    "iri_threshold = 5\n",
    "normal_df = df['GM.acc.xyz.z_resampled'][df['IRI_mean'] <= iri_threshold]\n",
    "normal_df = pd.DataFrame(normal_df.tolist())\n",
    "normal_df.shape"
   ]
  },
  {
   "cell_type": "code",
   "execution_count": 13,
   "id": "3e82ef74",
   "metadata": {
    "colab": {
     "base_uri": "https://localhost:8080/"
    },
    "id": "3e82ef74",
    "outputId": "2db09e52-3146-47cb-c194-1c3406553c90"
   },
   "outputs": [
    {
     "data": {
      "text/plain": [
       "(420, 3996)"
      ]
     },
     "execution_count": 13,
     "metadata": {},
     "output_type": "execute_result"
    }
   ],
   "source": [
    "anomaly_df = df['GM.acc.xyz.z_resampled'][df['IRI_mean'] >= iri_threshold]\n",
    "anomaly_df = pd.DataFrame(anomaly_df.tolist())\n",
    "anomaly_df.shape"
   ]
  },
  {
   "cell_type": "code",
   "execution_count": 14,
   "id": "99e0e92c",
   "metadata": {
    "id": "99e0e92c"
   },
   "outputs": [],
   "source": [
    "train_df, val_df = train_test_split(\n",
    "  normal_df,\n",
    "  test_size=0.15,\n",
    "  random_state=RANDOM_SEED\n",
    ")\n",
    "\n",
    "val_df, test_df = train_test_split(\n",
    "  val_df,\n",
    "  test_size=0.33, \n",
    "  random_state=RANDOM_SEED\n",
    ")"
   ]
  },
  {
   "cell_type": "markdown",
   "id": "3feed680",
   "metadata": {
    "id": "3feed680"
   },
   "source": [
    "# convert to tensors"
   ]
  },
  {
   "cell_type": "code",
   "execution_count": 15,
   "id": "b3b2f4f2",
   "metadata": {
    "id": "b3b2f4f2"
   },
   "outputs": [],
   "source": [
    "def create_dataset(df):\n",
    "\n",
    "  sequences = df.astype(np.float32).to_numpy().tolist()\n",
    "\n",
    "  dataset = [torch.tensor(s).unsqueeze(1).float() for s in sequences]\n",
    "\n",
    "  n_seq, seq_len, n_features = torch.stack(dataset).shape\n",
    "\n",
    "  return dataset, seq_len, n_features"
   ]
  },
  {
   "cell_type": "code",
   "execution_count": 16,
   "id": "344f044d",
   "metadata": {
    "id": "344f044d"
   },
   "outputs": [],
   "source": [
    "train_dataset, seq_len, n_features = create_dataset(train_df)\n",
    "val_dataset, _, _ = create_dataset(val_df)\n",
    "test_normal_dataset, _, _ = create_dataset(test_df)\n",
    "test_anomaly_dataset, _, _ = create_dataset(anomaly_df)"
   ]
  },
  {
   "cell_type": "markdown",
   "id": "nYIeAtaWU9oQ",
   "metadata": {
    "id": "nYIeAtaWU9oQ"
   },
   "source": [
    "## DataLoader"
   ]
  },
  {
   "cell_type": "code",
   "execution_count": 17,
   "id": "oLF5cAfQr67G",
   "metadata": {
    "id": "oLF5cAfQr67G"
   },
   "outputs": [],
   "source": [
    "batch_size = 100 #crashes at larger than 100 with 1 hidden layer\n",
    "\n",
    "train_dataloader = DataLoader(train_dataset, batch_size=batch_size, shuffle=True, drop_last=True)\n",
    "val_dataloader = DataLoader(val_dataset, batch_size=batch_size, shuffle=True, drop_last=True)"
   ]
  },
  {
   "cell_type": "code",
   "execution_count": 18,
   "id": "lGGSdhvZr-3X",
   "metadata": {
    "colab": {
     "base_uri": "https://localhost:8080/"
    },
    "id": "lGGSdhvZr-3X",
    "outputId": "10995b64-980b-467d-f402-6f9995979f20"
   },
   "outputs": [
    {
     "data": {
      "text/plain": [
       "torch.Size([100, 3996, 1])"
      ]
     },
     "execution_count": 18,
     "metadata": {},
     "output_type": "execute_result"
    }
   ],
   "source": [
    "x = next(iter(train_dataloader))\n",
    "x.shape"
   ]
  },
  {
   "cell_type": "markdown",
   "id": "nBNOcJ9f1BQa",
   "metadata": {
    "id": "nBNOcJ9f1BQa"
   },
   "source": [
    "# Define Model"
   ]
  },
  {
   "cell_type": "code",
   "execution_count": 19,
   "id": "b0faecab",
   "metadata": {
    "id": "b0faecab"
   },
   "outputs": [],
   "source": [
    "class Encoder(nn.Module):\n",
    "\n",
    "    def __init__(self, seq_len, n_features, embedding_dim=64):\n",
    "        super(Encoder, self).__init__()\n",
    "\n",
    "        self.seq_len, self.n_features = seq_len, n_features\n",
    "        self.embedding_dim, self.hidden_dim = embedding_dim, 2 * embedding_dim\n",
    "\n",
    "        self.rnn1 = nn.LSTM(          #(Batch Size, Sequence Length, Hidden Units)\n",
    "          input_size=n_features,\n",
    "          hidden_size=self.hidden_dim,\n",
    "          num_layers=1,\n",
    "          batch_first=True\n",
    "        )\n",
    "\n",
    "        self.rnn2 = nn.LSTM(\n",
    "          input_size=self.hidden_dim,\n",
    "          hidden_size=embedding_dim,\n",
    "          num_layers=1,\n",
    "          batch_first=True\n",
    "        )\n",
    "\n",
    "    def forward(self, x, batch_size):\n",
    "        #x = x.reshape((batch_size, self.seq_len, self.n_features))\n",
    "        #print('førstelag1', x.shape)\n",
    "        x, (_, _) = self.rnn1(x)\n",
    "        #print('førstelag2', x.shape)\n",
    "        x, (hidden_n, _) = self.rnn2(x)\n",
    "        \n",
    "        #print('b', x.shape)\n",
    "        #print('c',hidden_n.shape)\n",
    "        \n",
    "        return hidden_n.reshape((batch_size, self.n_features, self.embedding_dim))"
   ]
  },
  {
   "cell_type": "code",
   "execution_count": 20,
   "id": "b70c28ac",
   "metadata": {
    "id": "b70c28ac"
   },
   "outputs": [],
   "source": [
    "class Decoder(nn.Module):\n",
    "\n",
    "    def __init__(self, seq_len, input_dim=64, n_features=1):\n",
    "        super(Decoder, self).__init__()\n",
    "\n",
    "        self.seq_len, self.input_dim = seq_len, input_dim\n",
    "        self.hidden_dim, self.n_features = 2 * input_dim, n_features\n",
    "\n",
    "        self.rnn1 = nn.LSTM(    \n",
    "          input_size=self.input_dim,\n",
    "          hidden_size=self.input_dim,\n",
    "          num_layers=1,\n",
    "          batch_first=True\n",
    "        )\n",
    "\n",
    "        self.rnn2 = nn.LSTM(\n",
    "          input_size=self.input_dim,\n",
    "          hidden_size=self.hidden_dim,\n",
    "          num_layers=1,\n",
    "          batch_first=True\n",
    "        )\n",
    "\n",
    "        self.output_layer = nn.Linear(self.hidden_dim, n_features)\n",
    "\n",
    "    def forward(self, x, batch_size):\n",
    "        #print('0', x.shape)\n",
    "        x = x.repeat(1, self.seq_len, self.n_features)\n",
    "        #print('1', x.shape)\n",
    "        x = x.reshape((batch_size, self.seq_len, self.input_dim))\n",
    "        #print('2', x.shape)\n",
    "        \n",
    "        x, (hidden_n, cell_n) = self.rnn1(x)\n",
    "        #print('3', x.shape)\n",
    "        x, (hidden_n, cell_n) = self.rnn2(x)\n",
    "        #print('4', x.shape)\n",
    "        \n",
    "        x = x.reshape((batch_size, self.seq_len, self.hidden_dim))\n",
    "        #print('5', x.shape)\n",
    "        return self.output_layer(x)"
   ]
  },
  {
   "cell_type": "code",
   "execution_count": 21,
   "id": "cd8db54b",
   "metadata": {
    "id": "cd8db54b"
   },
   "outputs": [],
   "source": [
    "class RecurrentAutoencoder(nn.Module):\n",
    "\n",
    "    def __init__(self, seq_len, n_features, embedding_dim=64):\n",
    "        super(RecurrentAutoencoder, self).__init__()\n",
    "\n",
    "        self.encoder = Encoder(seq_len, n_features, embedding_dim).to(device)\n",
    "        self.decoder = Decoder(seq_len, embedding_dim, n_features).to(device)\n",
    "\n",
    "    def forward(self, x, batch_size):\n",
    "        \n",
    "        x = self.encoder(x, batch_size)\n",
    "        x = self.decoder(x, batch_size)\n",
    "\n",
    "        return x"
   ]
  },
  {
   "cell_type": "markdown",
   "id": "1rsEfnWU1HSs",
   "metadata": {
    "id": "1rsEfnWU1HSs"
   },
   "source": [
    "# Training loop"
   ]
  },
  {
   "cell_type": "code",
   "execution_count": 25,
   "id": "19cfa238",
   "metadata": {
    "id": "19cfa238"
   },
   "outputs": [],
   "source": [
    "def train_model(model, train_dataloader, val_dataloader, n_epochs, batch_size):\n",
    "    optimizer = torch.optim.Adam(model.parameters(), lr=1e-3)\n",
    "    criterion = nn.MSELoss(reduction='sum').to(device)\n",
    "    history = dict(train=[], val=[])\n",
    "\n",
    "    best_model_wts = copy.deepcopy(model.state_dict())   # Save model\n",
    "    best_loss = 10000.0\n",
    "  \n",
    "    for epoch in range(1, n_epochs + 1):\n",
    "        model = model.train()\n",
    "\n",
    "        train_losses = []\n",
    "        #for seq_true in train_dataset:\n",
    "        for i, X in enumerate(train_dataloader):\n",
    "            seq_true = X.to(device)\n",
    "            seq_pred = model(seq_true, batch_size)\n",
    "\n",
    "            loss = criterion(seq_pred, seq_true)\n",
    "            optimizer.zero_grad()\n",
    "            loss.backward()\n",
    "            optimizer.step()\n",
    "\n",
    "            train_losses.append(loss.item())\n",
    "            print('Batch iteration:', i)\n",
    "     \n",
    "        val_losses = []\n",
    "        model = model.eval()\n",
    "        with torch.no_grad():\n",
    "            for X in val_dataloader:\n",
    "                seq_true = X.to(device)\n",
    "                seq_pred = model(seq_true, batch_size)\n",
    "            \n",
    "                loss = criterion(seq_pred, seq_true)\n",
    "                val_losses.append(loss.item())\n",
    "\n",
    "        #print(train_losses)    \n",
    "        train_loss = np.mean(train_losses)\n",
    "\n",
    "        #print(val_losses)    \n",
    "        val_loss = np.mean(val_losses)\n",
    "\n",
    "        history['train'].append(train_loss)\n",
    "        history['val'].append(val_loss)\n",
    "\n",
    "        if val_loss < best_loss:\n",
    "            best_loss = val_loss\n",
    "            best_model_wts = copy.deepcopy(model.state_dict()) # save model\n",
    "\n",
    "        print(f'Epoch {epoch}: train loss {train_loss} val loss {val_loss}')\n",
    "\n",
    "    model.load_state_dict(best_model_wts)\n",
    "    return model.eval(), history"
   ]
  },
  {
   "cell_type": "markdown",
   "id": "6Wqa470s1LCy",
   "metadata": {
    "id": "6Wqa470s1LCy"
   },
   "source": [
    "# Clear cuda cache"
   ]
  },
  {
   "cell_type": "code",
   "execution_count": 26,
   "id": "vYF1BY1ifpR7",
   "metadata": {
    "colab": {
     "base_uri": "https://localhost:8080/"
    },
    "id": "vYF1BY1ifpR7",
    "outputId": "003ef220-5052-4888-fd7f-5bc1a2bf1e51"
   },
   "outputs": [],
   "source": [
    "# Clear memory\n",
    "try:\n",
    "  del model\n",
    "except:\n",
    "  print(\"No model initiated\")\n",
    "\n",
    "torch.cuda.empty_cache()\n",
    "#print(torch.cuda.memory_summary(device=None, abbreviated=False))"
   ]
  },
  {
   "cell_type": "markdown",
   "id": "jn_TJmVH48Tw",
   "metadata": {
    "id": "jn_TJmVH48Tw"
   },
   "source": [
    "# Instantiate model"
   ]
  },
  {
   "cell_type": "code",
   "execution_count": 27,
   "id": "1_sQX11-5A_N",
   "metadata": {
    "id": "1_sQX11-5A_N"
   },
   "outputs": [],
   "source": [
    "model = RecurrentAutoencoder(seq_len, n_features, 128)\n",
    "model = model.to(device)"
   ]
  },
  {
   "cell_type": "markdown",
   "id": "sxvKjR9R1Qfk",
   "metadata": {
    "id": "sxvKjR9R1Qfk"
   },
   "source": [
    "# Train model"
   ]
  },
  {
   "cell_type": "code",
   "execution_count": 28,
   "id": "df508450",
   "metadata": {
    "colab": {
     "base_uri": "https://localhost:8080/"
    },
    "id": "df508450",
    "outputId": "6827fead-50c7-4714-bd52-e2343733bafa"
   },
   "outputs": [
    {
     "name": "stdout",
     "output_type": "stream",
     "text": [
      "2021-11-15 10:25:01.048099\n",
      "Batch iteration: 0\n",
      "Batch iteration: 1\n"
     ]
    },
    {
     "ename": "KeyboardInterrupt",
     "evalue": "",
     "output_type": "error",
     "traceback": [
      "\u001b[0;31m---------------------------------------------------------------------------\u001b[0m",
      "\u001b[0;31mKeyboardInterrupt\u001b[0m                         Traceback (most recent call last)",
      "\u001b[0;32m/var/folders/wv/j_lqm8yn4ndb1hvhthjcrb540000gn/T/ipykernel_25928/232977437.py\u001b[0m in \u001b[0;36m<module>\u001b[0;34m\u001b[0m\n\u001b[1;32m      1\u001b[0m \u001b[0mprint\u001b[0m\u001b[0;34m(\u001b[0m\u001b[0mdatetime\u001b[0m\u001b[0;34m.\u001b[0m\u001b[0mdatetime\u001b[0m\u001b[0;34m.\u001b[0m\u001b[0mnow\u001b[0m\u001b[0;34m(\u001b[0m\u001b[0;34m)\u001b[0m\u001b[0;34m)\u001b[0m\u001b[0;34m\u001b[0m\u001b[0;34m\u001b[0m\u001b[0m\n\u001b[1;32m      2\u001b[0m \u001b[0;34m\u001b[0m\u001b[0m\n\u001b[0;32m----> 3\u001b[0;31m model, history = train_model(\n\u001b[0m\u001b[1;32m      4\u001b[0m   \u001b[0mmodel\u001b[0m\u001b[0;34m,\u001b[0m\u001b[0;34m\u001b[0m\u001b[0;34m\u001b[0m\u001b[0m\n\u001b[1;32m      5\u001b[0m   \u001b[0mtrain_dataloader\u001b[0m\u001b[0;34m,\u001b[0m\u001b[0;34m\u001b[0m\u001b[0;34m\u001b[0m\u001b[0m\n",
      "\u001b[0;32m/var/folders/wv/j_lqm8yn4ndb1hvhthjcrb540000gn/T/ipykernel_25928/2695946801.py\u001b[0m in \u001b[0;36mtrain_model\u001b[0;34m(model, train_dataloader, val_dataloader, n_epochs, batch_size)\u001b[0m\n\u001b[1;32m     18\u001b[0m             \u001b[0mloss\u001b[0m \u001b[0;34m=\u001b[0m \u001b[0mcriterion\u001b[0m\u001b[0;34m(\u001b[0m\u001b[0mseq_pred\u001b[0m\u001b[0;34m,\u001b[0m \u001b[0mseq_true\u001b[0m\u001b[0;34m)\u001b[0m\u001b[0;34m\u001b[0m\u001b[0;34m\u001b[0m\u001b[0m\n\u001b[1;32m     19\u001b[0m             \u001b[0moptimizer\u001b[0m\u001b[0;34m.\u001b[0m\u001b[0mzero_grad\u001b[0m\u001b[0;34m(\u001b[0m\u001b[0;34m)\u001b[0m\u001b[0;34m\u001b[0m\u001b[0;34m\u001b[0m\u001b[0m\n\u001b[0;32m---> 20\u001b[0;31m             \u001b[0mloss\u001b[0m\u001b[0;34m.\u001b[0m\u001b[0mbackward\u001b[0m\u001b[0;34m(\u001b[0m\u001b[0;34m)\u001b[0m\u001b[0;34m\u001b[0m\u001b[0;34m\u001b[0m\u001b[0m\n\u001b[0m\u001b[1;32m     21\u001b[0m             \u001b[0moptimizer\u001b[0m\u001b[0;34m.\u001b[0m\u001b[0mstep\u001b[0m\u001b[0;34m(\u001b[0m\u001b[0;34m)\u001b[0m\u001b[0;34m\u001b[0m\u001b[0;34m\u001b[0m\u001b[0m\n\u001b[1;32m     22\u001b[0m \u001b[0;34m\u001b[0m\u001b[0m\n",
      "\u001b[0;32m/opt/homebrew/Caskroom/miniforge/base/envs/cforge_env/lib/python3.9/site-packages/torch/tensor.py\u001b[0m in \u001b[0;36mbackward\u001b[0;34m(self, gradient, retain_graph, create_graph, inputs)\u001b[0m\n\u001b[1;32m    243\u001b[0m                 \u001b[0mcreate_graph\u001b[0m\u001b[0;34m=\u001b[0m\u001b[0mcreate_graph\u001b[0m\u001b[0;34m,\u001b[0m\u001b[0;34m\u001b[0m\u001b[0;34m\u001b[0m\u001b[0m\n\u001b[1;32m    244\u001b[0m                 inputs=inputs)\n\u001b[0;32m--> 245\u001b[0;31m         \u001b[0mtorch\u001b[0m\u001b[0;34m.\u001b[0m\u001b[0mautograd\u001b[0m\u001b[0;34m.\u001b[0m\u001b[0mbackward\u001b[0m\u001b[0;34m(\u001b[0m\u001b[0mself\u001b[0m\u001b[0;34m,\u001b[0m \u001b[0mgradient\u001b[0m\u001b[0;34m,\u001b[0m \u001b[0mretain_graph\u001b[0m\u001b[0;34m,\u001b[0m \u001b[0mcreate_graph\u001b[0m\u001b[0;34m,\u001b[0m \u001b[0minputs\u001b[0m\u001b[0;34m=\u001b[0m\u001b[0minputs\u001b[0m\u001b[0;34m)\u001b[0m\u001b[0;34m\u001b[0m\u001b[0;34m\u001b[0m\u001b[0m\n\u001b[0m\u001b[1;32m    246\u001b[0m \u001b[0;34m\u001b[0m\u001b[0m\n\u001b[1;32m    247\u001b[0m     \u001b[0;32mdef\u001b[0m \u001b[0mregister_hook\u001b[0m\u001b[0;34m(\u001b[0m\u001b[0mself\u001b[0m\u001b[0;34m,\u001b[0m \u001b[0mhook\u001b[0m\u001b[0;34m)\u001b[0m\u001b[0;34m:\u001b[0m\u001b[0;34m\u001b[0m\u001b[0;34m\u001b[0m\u001b[0m\n",
      "\u001b[0;32m/opt/homebrew/Caskroom/miniforge/base/envs/cforge_env/lib/python3.9/site-packages/torch/autograd/__init__.py\u001b[0m in \u001b[0;36mbackward\u001b[0;34m(tensors, grad_tensors, retain_graph, create_graph, grad_variables, inputs)\u001b[0m\n\u001b[1;32m    143\u001b[0m         \u001b[0mretain_graph\u001b[0m \u001b[0;34m=\u001b[0m \u001b[0mcreate_graph\u001b[0m\u001b[0;34m\u001b[0m\u001b[0;34m\u001b[0m\u001b[0m\n\u001b[1;32m    144\u001b[0m \u001b[0;34m\u001b[0m\u001b[0m\n\u001b[0;32m--> 145\u001b[0;31m     Variable._execution_engine.run_backward(\n\u001b[0m\u001b[1;32m    146\u001b[0m         \u001b[0mtensors\u001b[0m\u001b[0;34m,\u001b[0m \u001b[0mgrad_tensors_\u001b[0m\u001b[0;34m,\u001b[0m \u001b[0mretain_graph\u001b[0m\u001b[0;34m,\u001b[0m \u001b[0mcreate_graph\u001b[0m\u001b[0;34m,\u001b[0m \u001b[0minputs\u001b[0m\u001b[0;34m,\u001b[0m\u001b[0;34m\u001b[0m\u001b[0;34m\u001b[0m\u001b[0m\n\u001b[1;32m    147\u001b[0m         allow_unreachable=True, accumulate_grad=True)  # allow_unreachable flag\n",
      "\u001b[0;31mKeyboardInterrupt\u001b[0m: "
     ]
    }
   ],
   "source": [
    "print(datetime.datetime.now())\n",
    "\n",
    "model, history = train_model(\n",
    "  model, \n",
    "  train_dataloader, \n",
    "  val_dataloader, \n",
    "  n_epochs=1,\n",
    "  batch_size = batch_size\n",
    ")\n",
    "\n",
    "print(datetime.datetime.now())"
   ]
  },
  {
   "cell_type": "markdown",
   "id": "WpHwgRWc1eUs",
   "metadata": {
    "id": "WpHwgRWc1eUs"
   },
   "source": [
    "# Loss plot"
   ]
  },
  {
   "cell_type": "code",
   "execution_count": null,
   "id": "Ve5D3lFwwTIj",
   "metadata": {
    "id": "Ve5D3lFwwTIj"
   },
   "outputs": [],
   "source": [
    "ax = plt.figure().gca()\n",
    "\n",
    "ax.plot(history['train'])\n",
    "ax.plot(history['val'])\n",
    "plt.ylabel('Loss')\n",
    "plt.xlabel('Epoch')\n",
    "plt.legend(['train', 'test'])\n",
    "plt.title('Loss over training epochs')\n",
    "plt.show();"
   ]
  },
  {
   "cell_type": "markdown",
   "id": "5-AQRNbP0Wle",
   "metadata": {
    "id": "5-AQRNbP0Wle"
   },
   "source": [
    "#Save model"
   ]
  },
  {
   "cell_type": "code",
   "execution_count": null,
   "id": "6hNPNY8qYoQg",
   "metadata": {
    "id": "6hNPNY8qYoQg"
   },
   "outputs": [],
   "source": [
    "MODEL_PATH = 'model.pth'\n",
    "\n",
    "torch.save(model.state_dict(), root_path+MODEL_PATH)"
   ]
  },
  {
   "cell_type": "markdown",
   "id": "RmcEcluB0bu6",
   "metadata": {
    "id": "RmcEcluB0bu6"
   },
   "source": [
    "# Load model"
   ]
  },
  {
   "cell_type": "code",
   "execution_count": null,
   "id": "o9yFiulL0fGr",
   "metadata": {
    "colab": {
     "base_uri": "https://localhost:8080/"
    },
    "id": "o9yFiulL0fGr",
    "outputId": "9fbb1135-c0b9-4dc8-b8b7-05c5f88a7d98"
   },
   "outputs": [
    {
     "data": {
      "text/plain": [
       "RecurrentAutoencoder(\n",
       "  (encoder): Encoder(\n",
       "    (rnn1): LSTM(1, 256, batch_first=True)\n",
       "    (rnn2): LSTM(256, 128, batch_first=True)\n",
       "  )\n",
       "  (decoder): Decoder(\n",
       "    (rnn1): LSTM(128, 128, batch_first=True)\n",
       "    (rnn2): LSTM(128, 256, batch_first=True)\n",
       "    (output_layer): Linear(in_features=256, out_features=1, bias=True)\n",
       "  )\n",
       ")"
      ]
     },
     "execution_count": 85,
     "metadata": {},
     "output_type": "execute_result"
    }
   ],
   "source": [
    "model = RecurrentAutoencoder(seq_len, n_features, 128)\n",
    "model = model.to(device)\n",
    "model.load_state_dict(torch.load(root_path + 'model.pth'))\n",
    "model.eval()"
   ]
  },
  {
   "cell_type": "markdown",
   "id": "JPBV-riG1h2b",
   "metadata": {
    "id": "JPBV-riG1h2b"
   },
   "source": [
    "# Prediction plots"
   ]
  },
  {
   "cell_type": "code",
   "execution_count": null,
   "id": "m9y5K3U5xXw0",
   "metadata": {
    "id": "m9y5K3U5xXw0"
   },
   "outputs": [],
   "source": [
    "def predict(model, dataset, batch_size):\n",
    "  predictions, losses = [], []\n",
    "  criterion = nn.L1Loss(reduction='sum').to(device)\n",
    "  with torch.no_grad():\n",
    "    model = model.eval()\n",
    "    for seq_true in dataset:\n",
    "      seq_true = torch.unsqueeze(seq_true,0)\n",
    "      seq_true = seq_true.to(device)\n",
    "      seq_pred = model(seq_true, batch_size)\n",
    "\n",
    "      loss = criterion(seq_pred, seq_true)\n",
    "\n",
    "      predictions.append(seq_pred.cpu().numpy().flatten())\n",
    "      losses.append(loss.item())\n",
    "  return predictions, losses"
   ]
  },
  {
   "cell_type": "code",
   "execution_count": null,
   "id": "TMIJ0MjLxNU8",
   "metadata": {
    "id": "TMIJ0MjLxNU8"
   },
   "outputs": [],
   "source": [
    "def plot_prediction(data, model, title, ax):\n",
    "  predictions, pred_losses = predict(model, [data], batch_size=1)\n",
    "\n",
    "  ax.plot(data, label='true')\n",
    "  ax.plot(predictions[0], label='reconstructed')\n",
    "  ax.set_title(f'{title} (loss: {np.around(pred_losses[0], 2)})')\n",
    "  ax.legend()"
   ]
  },
  {
   "cell_type": "code",
   "execution_count": null,
   "id": "fRu-x29twik7",
   "metadata": {
    "colab": {
     "base_uri": "https://localhost:8080/",
     "height": 585
    },
    "id": "fRu-x29twik7",
    "outputId": "8be4b742-b4bd-46b0-e9f9-18fdcf4d2ef4"
   },
   "outputs": [
    {
     "data": {
      "image/png": "[encoded data removed]",
      "text/plain": [
       "<Figure size 1584x576 with 12 Axes>"
      ]
     },
     "metadata": {},
     "output_type": "display_data"
    }
   ],
   "source": [
    "fig, axs = plt.subplots(\n",
    "  nrows=2,\n",
    "  ncols=6,\n",
    "  sharey=True,\n",
    "  sharex=True,\n",
    "  figsize=(22, 8)\n",
    ")\n",
    "\n",
    "\n",
    "for i, data in enumerate(test_normal_dataset[:6]):\n",
    "  plot_prediction(data, model, title='Normal', ax=axs[0, i])\n",
    "\n",
    "for i, data in enumerate(test_anomaly_dataset[:6]):\n",
    "  plot_prediction(data, model, title='Anomaly', ax=axs[1, i])\n",
    "\n",
    "fig.tight_layout();"
   ]
  }
 ],
 "metadata": {
  "accelerator": "GPU",
  "colab": {
   "collapsed_sections": [],
   "name": "deep_main.ipynb",
   "provenance": []
  },
  "kernelspec": {
   "display_name": "Python 3 (ipykernel)",
   "language": "python",
   "name": "python3"
  },
  "language_info": {
   "codemirror_mode": {
    "name": "ipython",
    "version": 3
   },
   "file_extension": ".py",
   "mimetype": "text/x-python",
   "name": "python",
   "nbconvert_exporter": "python",
   "pygments_lexer": "ipython3",
   "version": "3.9.7"
  }
 },
 "nbformat": 4,
 "nbformat_minor": 5
}
