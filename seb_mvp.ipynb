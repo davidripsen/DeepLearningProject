{
  "nbformat": 4,
  "nbformat_minor": 5,
  "metadata": {
    "kernelspec": {
      "display_name": "Python 3 (ipykernel)",
      "language": "python",
      "name": "python3"
    },
    "language_info": {
      "codemirror_mode": {
        "name": "ipython",
        "version": 3
      },
      "file_extension": ".py",
      "mimetype": "text/x-python",
      "name": "python",
      "nbconvert_exporter": "python",
      "pygments_lexer": "ipython3",
      "version": "3.9.7"
    },
    "colab": {
      "name": "seb_mvp.ipynb",
      "provenance": [],
      "collapsed_sections": []
    },
    "accelerator": "GPU"
  },
  "cells": [
    {
      "cell_type": "code",
      "metadata": {
        "id": "4ZjiOsBLYbBZ"
      },
      "source": [
        ""
      ],
      "id": "4ZjiOsBLYbBZ",
      "execution_count": null,
      "outputs": []
    },
    {
      "cell_type": "code",
      "metadata": {
        "colab": {
          "base_uri": "https://localhost:8080/"
        },
        "id": "896a6b14",
        "outputId": "37adbcc3-d052-4ddf-c8aa-71dca720490d"
      },
      "source": [
        "import matplotlib.pyplot as plt\n",
        "from IPython.display import Image, display, clear_output\n",
        "import numpy as np\n",
        "%matplotlib nbagg\n",
        "%matplotlib inline\n",
        "import seaborn as sns\n",
        "import pandas as pd\n",
        "sns.set_style(\"whitegrid\")\n",
        "import pickle\n",
        "import torch\n",
        "from sklearn.model_selection import train_test_split\n",
        "from torch import nn, optim\n",
        "import torch.nn.functional as F\n",
        "import copy\n",
        "import pickle5 as pickle\n",
        "\n",
        "RANDOM_SEED = 56\n",
        "np.random.seed(RANDOM_SEED)\n",
        "torch.manual_seed(RANDOM_SEED)"
      ],
      "id": "896a6b14",
      "execution_count": 143,
      "outputs": [
        {
          "output_type": "execute_result",
          "data": {
            "text/plain": [
              "<torch._C.Generator at 0x7f9232195250>"
            ]
          },
          "metadata": {},
          "execution_count": 143
        }
      ]
    },
    {
      "cell_type": "code",
      "metadata": {
        "colab": {
          "base_uri": "https://localhost:8080/"
        },
        "id": "1biy1_9IFfWU",
        "outputId": "23d10b15-8133-40f2-9e65-d639ccb69f9a"
      },
      "source": [
        "from google.colab import drive\n",
        "drive.mount('/content/gdrive')"
      ],
      "id": "1biy1_9IFfWU",
      "execution_count": 2,
      "outputs": [
        {
          "output_type": "stream",
          "name": "stdout",
          "text": [
            "Drive already mounted at /content/gdrive; to attempt to forcibly remount, call drive.mount(\"/content/gdrive\", force_remount=True).\n"
          ]
        }
      ]
    },
    {
      "cell_type": "code",
      "metadata": {
        "id": "MMIBRGefFr2K"
      },
      "source": [
        "root_path = 'gdrive/My Drive/deep/'  #change dir to your project folder"
      ],
      "id": "MMIBRGefFr2K",
      "execution_count": 3,
      "outputs": []
    },
    {
      "cell_type": "code",
      "metadata": {
        "scrolled": true,
        "id": "14f1e006"
      },
      "source": [
        "# Load data\n",
        "df0 = pickle.load( open( root_path + \"data/aligned_GM-7792_DRD-d6b1cf27-41ed-43b6-8050-2068ef941a0aDRD-d6b1cf27-41ed-43b6-8050-2068ef941a0a_GM-7792_pass-0_cleaned.pickle\", \"rb\" ) )\n",
        "df1 = pickle.load( open( root_path + \"data/aligned_GM-7792_DRD-d6b1cf27-41ed-43b6-8050-2068ef941a0aDRD-d6b1cf27-41ed-43b6-8050-2068ef941a0a_GM-7792_pass-1_cleaned.pickle\", \"rb\" ) )"
      ],
      "id": "14f1e006",
      "execution_count": 4,
      "outputs": []
    },
    {
      "cell_type": "code",
      "metadata": {
        "id": "6a32487f"
      },
      "source": [
        "df = df0.append(df1, ignore_index=True)"
      ],
      "id": "6a32487f",
      "execution_count": 237,
      "outputs": []
    },
    {
      "cell_type": "code",
      "metadata": {
        "colab": {
          "base_uri": "https://localhost:8080/"
        },
        "id": "Ss8U4hMFH-Fg",
        "outputId": "1fc9ecff-501a-4dda-baea-fc6b37ce5164"
      },
      "source": [
        "!pip install -qq arff2pandas"
      ],
      "id": "Ss8U4hMFH-Fg",
      "execution_count": 1,
      "outputs": [
        {
          "output_type": "stream",
          "name": "stdout",
          "text": [
            "  Building wheel for arff2pandas (setup.py) ... \u001b[?25l\u001b[?25hdone\n",
            "  Building wheel for liac-arff (setup.py) ... \u001b[?25l\u001b[?25hdone\n"
          ]
        }
      ]
    },
    {
      "cell_type": "code",
      "metadata": {
        "id": "1_kAIwfZIDw-"
      },
      "source": [
        "!pip install -q -U watermark"
      ],
      "id": "1_kAIwfZIDw-",
      "execution_count": 31,
      "outputs": []
    },
    {
      "cell_type": "code",
      "metadata": {
        "colab": {
          "base_uri": "https://localhost:8080/"
        },
        "id": "t6wC0UJ1IHHH",
        "outputId": "a6823d5d-85ff-47af-e03a-999bdc7dd353"
      },
      "source": [
        "!pip install -qq -U pandas"
      ],
      "id": "t6wC0UJ1IHHH",
      "execution_count": 3,
      "outputs": [
        {
          "output_type": "stream",
          "name": "stdout",
          "text": [
            "\u001b[K     |████████████████████████████████| 11.3 MB 5.2 MB/s \n",
            "\u001b[31mERROR: pip's dependency resolver does not currently take into account all the packages that are installed. This behaviour is the source of the following dependency conflicts.\n",
            "google-colab 1.0.0 requires pandas~=1.1.0; python_version >= \"3.0\", but you have pandas 1.3.4 which is incompatible.\u001b[0m\n",
            "\u001b[?25h"
          ]
        }
      ]
    },
    {
      "cell_type": "code",
      "metadata": {
        "colab": {
          "base_uri": "https://localhost:8080/"
        },
        "id": "MwgiJJOzJWuG",
        "outputId": "0aa2a785-ac13-4f65-cff6-548e8f9053d5"
      },
      "source": [
        "!pip install pickle5"
      ],
      "id": "MwgiJJOzJWuG",
      "execution_count": 4,
      "outputs": [
        {
          "output_type": "stream",
          "name": "stdout",
          "text": [
            "Collecting pickle5\n",
            "  Downloading pickle5-0.0.11.tar.gz (132 kB)\n",
            "\u001b[?25l\r\u001b[K     |██▌                             | 10 kB 21.0 MB/s eta 0:00:01\r\u001b[K     |█████                           | 20 kB 25.9 MB/s eta 0:00:01\r\u001b[K     |███████▍                        | 30 kB 15.9 MB/s eta 0:00:01\r\u001b[K     |██████████                      | 40 kB 14.9 MB/s eta 0:00:01\r\u001b[K     |████████████▍                   | 51 kB 5.5 MB/s eta 0:00:01\r\u001b[K     |██████████████▉                 | 61 kB 5.9 MB/s eta 0:00:01\r\u001b[K     |█████████████████▍              | 71 kB 5.5 MB/s eta 0:00:01\r\u001b[K     |███████████████████▉            | 81 kB 6.1 MB/s eta 0:00:01\r\u001b[K     |██████████████████████▎         | 92 kB 6.4 MB/s eta 0:00:01\r\u001b[K     |████████████████████████▉       | 102 kB 5.3 MB/s eta 0:00:01\r\u001b[K     |███████████████████████████▎    | 112 kB 5.3 MB/s eta 0:00:01\r\u001b[K     |█████████████████████████████▊  | 122 kB 5.3 MB/s eta 0:00:01\r\u001b[K     |████████████████████████████████| 132 kB 5.3 MB/s \n",
            "\u001b[?25hBuilding wheels for collected packages: pickle5\n",
            "  Building wheel for pickle5 (setup.py) ... \u001b[?25l\u001b[?25hdone\n",
            "  Created wheel for pickle5: filename=pickle5-0.0.11-cp37-cp37m-linux_x86_64.whl size=219335 sha256=daaf5dcdbb2936ec2ec53590fca2003f4bbc24bd8db2dd485a0469d0a255569d\n",
            "  Stored in directory: /root/.cache/pip/wheels/7e/6a/00/67136a90d6aca437d806d1d3cedf98106e840c97a3e5188198\n",
            "Successfully built pickle5\n",
            "Installing collected packages: pickle5\n",
            "Successfully installed pickle5-0.0.11\n"
          ]
        }
      ]
    },
    {
      "cell_type": "code",
      "metadata": {
        "colab": {
          "base_uri": "https://localhost:8080/"
        },
        "id": "23f8b2cd",
        "outputId": "0bb73f36-d75e-44fa-e97a-a2711b521603"
      },
      "source": [
        "%reload_ext watermark\n",
        "%watermark -v -p numpy,pandas,torch,arff2pandas"
      ],
      "id": "23f8b2cd",
      "execution_count": 10,
      "outputs": [
        {
          "output_type": "stream",
          "name": "stdout",
          "text": [
            "Python implementation: CPython\n",
            "Python version       : 3.7.12\n",
            "IPython version      : 5.5.0\n",
            "\n",
            "numpy      : 1.19.5\n",
            "pandas     : 1.3.4\n",
            "torch      : 1.9.0+cu111\n",
            "arff2pandas: 1.0.1\n",
            "\n"
          ]
        }
      ]
    },
    {
      "cell_type": "code",
      "metadata": {
        "colab": {
          "base_uri": "https://localhost:8080/"
        },
        "id": "d000068d",
        "outputId": "a635994e-2881-457d-cc68-1f1c9099179f"
      },
      "source": [
        "device = torch.device(\"cuda\" if torch.cuda.is_available() else \"cpu\")\n",
        "device"
      ],
      "id": "d000068d",
      "execution_count": 6,
      "outputs": [
        {
          "output_type": "execute_result",
          "data": {
            "text/plain": [
              "device(type='cuda')"
            ]
          },
          "metadata": {},
          "execution_count": 6
        }
      ]
    },
    {
      "cell_type": "code",
      "metadata": {
        "colab": {
          "base_uri": "https://localhost:8080/",
          "height": 643
        },
        "id": "207356d2",
        "outputId": "2976a83c-b222-4f43-d33a-0326930ca33a"
      },
      "source": [
        "df.head()"
      ],
      "id": "207356d2",
      "execution_count": 122,
      "outputs": [
        {
          "output_type": "execute_result",
          "data": {
            "text/html": [
              "<div>\n",
              "<style scoped>\n",
              "    .dataframe tbody tr th:only-of-type {\n",
              "        vertical-align: middle;\n",
              "    }\n",
              "\n",
              "    .dataframe tbody tr th {\n",
              "        vertical-align: top;\n",
              "    }\n",
              "\n",
              "    .dataframe thead th {\n",
              "        text-align: right;\n",
              "    }\n",
              "</style>\n",
              "<table border=\"1\" class=\"dataframe\">\n",
              "  <thead>\n",
              "    <tr style=\"text-align: right;\">\n",
              "      <th></th>\n",
              "      <th>IRI_mean</th>\n",
              "      <th>IRI_sequence</th>\n",
              "      <th>GM.TS_or_Distance</th>\n",
              "      <th>GM.T</th>\n",
              "      <th>GM.lat_int</th>\n",
              "      <th>GM.lon_int</th>\n",
              "      <th>GM.acc.xyz.z</th>\n",
              "      <th>GM.acc.xyz.y</th>\n",
              "      <th>GM.acc.xyz.x</th>\n",
              "      <th>GM.obd.spd_veh.value</th>\n",
              "    </tr>\n",
              "  </thead>\n",
              "  <tbody>\n",
              "    <tr>\n",
              "      <th>0</th>\n",
              "      <td>4.93354</td>\n",
              "      <td>[6.644882798499999, 5.5573473115, 7.666319952,...</td>\n",
              "      <td>[2021-04-22 01:21:54.349000+00:00, 2021-04-22 ...</td>\n",
              "      <td>[acc.xyz, acc.xyz, acc.xyz, acc.xyz, obd.spd_v...</td>\n",
              "      <td>[55.654713308383236, 55.65471373053892, 55.654...</td>\n",
              "      <td>[12.486686901197604, 12.486686532934131, 12.48...</td>\n",
              "      <td>[0.9727, 0.9727, 0.9727, 0.9727, 0.9922, 0.992...</td>\n",
              "      <td>[-0.1172, -0.1172, -0.1172, -0.1172, -0.1211, ...</td>\n",
              "      <td>[0.1602, 0.1602, 0.1602, 0.1602, 0.1563, 0.156...</td>\n",
              "      <td>[31.04, 31.0, 30.970000000000002, 31.470000000...</td>\n",
              "    </tr>\n",
              "    <tr>\n",
              "      <th>1</th>\n",
              "      <td>4.696225</td>\n",
              "      <td>[5.5573473115, 7.666319952, 4.1605364705, 5.35...</td>\n",
              "      <td>[2021-04-22 01:21:55.068000+00:00, 2021-04-22 ...</td>\n",
              "      <td>[acc.xyz, acc.xyz, acc.xyz, acc.xyz, acc.xyz, ...</td>\n",
              "      <td>[55.654781462897525, 55.65478160070671, 55.654...</td>\n",
              "      <td>[12.48662899293286, 12.486628876325089, 12.486...</td>\n",
              "      <td>[0.9727, 0.9727, 0.9727, 0.9727, 0.9727, 0.972...</td>\n",
              "      <td>[-0.0898, -0.0898, -0.0898, -0.0898, -0.0898, ...</td>\n",
              "      <td>[0.1406, 0.1406, 0.1406, 0.1406, 0.1406, 0.140...</td>\n",
              "      <td>[29.52, 29.48, 29.42, 29.400000000000002, 29.3...</td>\n",
              "    </tr>\n",
              "    <tr>\n",
              "      <th>2</th>\n",
              "      <td>4.699145</td>\n",
              "      <td>[7.666319952, 4.1605364705, 5.359907053000001,...</td>\n",
              "      <td>[2021-04-22 01:21:56.327000+00:00, 2021-04-22 ...</td>\n",
              "      <td>[acc.xyz, acc.xyz, acc.xyz, acc.xyz, acc.xyz, ...</td>\n",
              "      <td>[55.654862308917195, 55.65486260509554, 55.654...</td>\n",
              "      <td>[12.486560579617835, 12.486560331210192, 12.48...</td>\n",
              "      <td>[1.0391, 1.0391, 1.0391, 1.0391, 1.0391, 1.015...</td>\n",
              "      <td>[0.0273, 0.0273, 0.0273, 0.0273, 0.0273, 0.011...</td>\n",
              "      <td>[0.1523, 0.1523, 0.1523, 0.1523, 0.1523, 0.160...</td>\n",
              "      <td>[30.080000000000002, 30.14, 30.2, 30.23, 29.54...</td>\n",
              "    </tr>\n",
              "    <tr>\n",
              "      <th>3</th>\n",
              "      <td>4.397566</td>\n",
              "      <td>[4.1605364705, 5.359907053000001, 4.5512844555...</td>\n",
              "      <td>[2021-04-22 01:21:57.983000+00:00, 2021-04-22 ...</td>\n",
              "      <td>[acc.xyz, acc.xyz, acc.xyz, acc.xyz, acc.xyz, ...</td>\n",
              "      <td>[55.654942544169614, 55.65494265017668, 55.654...</td>\n",
              "      <td>[12.486492964664311, 12.486492879858657, 12.48...</td>\n",
              "      <td>[1.0391, 1.0391, 0.9805, 0.9805, 0.9805, 0.980...</td>\n",
              "      <td>[0.1016, 0.1016, 0.0898, 0.0898, 0.0898, 0.089...</td>\n",
              "      <td>[0.2188, 0.2188, 0.1953, 0.1953, 0.1953, 0.195...</td>\n",
              "      <td>[36.910000000000004, 37.0, 37.07, 37.18, 37.25...</td>\n",
              "    </tr>\n",
              "    <tr>\n",
              "      <th>4</th>\n",
              "      <td>4.400549</td>\n",
              "      <td>[5.359907053000001, 4.5512844555, 5.8527534034...</td>\n",
              "      <td>[2021-04-22 01:21:59.120000+00:00, 2021-04-22 ...</td>\n",
              "      <td>[obd.spd_veh, acc.xyz, acc.xyz, acc.xyz, acc.x...</td>\n",
              "      <td>[55.65502238338658, 55.65502269329073, 55.6550...</td>\n",
              "      <td>[12.486424923322684, 12.486424661341852, 12.48...</td>\n",
              "      <td>[0.9492, 0.9961, 0.9961, 0.9961, 0.9961, 0.996...</td>\n",
              "      <td>[0.0859, 0.0977, 0.0977, 0.0977, 0.0977, 0.097...</td>\n",
              "      <td>[0.1875, 0.1563, 0.1563, 0.1563, 0.1563, 0.156...</td>\n",
              "      <td>[41.2, 41.27, 41.38, 41.46, 41.53, 40.76, 41.6...</td>\n",
              "    </tr>\n",
              "  </tbody>\n",
              "</table>\n",
              "</div>"
            ],
            "text/plain": [
              "   IRI_mean  ...                               GM.obd.spd_veh.value\n",
              "0   4.93354  ...  [31.04, 31.0, 30.970000000000002, 31.470000000...\n",
              "1  4.696225  ...  [29.52, 29.48, 29.42, 29.400000000000002, 29.3...\n",
              "2  4.699145  ...  [30.080000000000002, 30.14, 30.2, 30.23, 29.54...\n",
              "3  4.397566  ...  [36.910000000000004, 37.0, 37.07, 37.18, 37.25...\n",
              "4  4.400549  ...  [41.2, 41.27, 41.38, 41.46, 41.53, 40.76, 41.6...\n",
              "\n",
              "[5 rows x 10 columns]"
            ]
          },
          "metadata": {},
          "execution_count": 122
        }
      ]
    },
    {
      "cell_type": "code",
      "metadata": {
        "colab": {
          "base_uri": "https://localhost:8080/"
        },
        "id": "_XPnKaYNITEm",
        "outputId": "32434fb7-a2d5-4fa1-fb4c-1f7008036caf"
      },
      "source": [
        "!nvidia-smi"
      ],
      "id": "_XPnKaYNITEm",
      "execution_count": 8,
      "outputs": [
        {
          "output_type": "stream",
          "name": "stdout",
          "text": [
            "Sun Nov  7 21:52:06 2021       \n",
            "+-----------------------------------------------------------------------------+\n",
            "| NVIDIA-SMI 495.44       Driver Version: 460.32.03    CUDA Version: 11.2     |\n",
            "|-------------------------------+----------------------+----------------------+\n",
            "| GPU  Name        Persistence-M| Bus-Id        Disp.A | Volatile Uncorr. ECC |\n",
            "| Fan  Temp  Perf  Pwr:Usage/Cap|         Memory-Usage | GPU-Util  Compute M. |\n",
            "|                               |                      |               MIG M. |\n",
            "|===============================+======================+======================|\n",
            "|   0  Tesla K80           Off  | 00000000:00:04.0 Off |                    0 |\n",
            "| N/A   59C    P8    30W / 149W |      3MiB / 11441MiB |      0%      Default |\n",
            "|                               |                      |                  N/A |\n",
            "+-------------------------------+----------------------+----------------------+\n",
            "                                                                               \n",
            "+-----------------------------------------------------------------------------+\n",
            "| Processes:                                                                  |\n",
            "|  GPU   GI   CI        PID   Type   Process name                  GPU Memory |\n",
            "|        ID   ID                                                   Usage      |\n",
            "|=============================================================================|\n",
            "|  No running processes found                                                 |\n",
            "+-----------------------------------------------------------------------------+\n"
          ]
        }
      ]
    },
    {
      "cell_type": "code",
      "metadata": {
        "id": "RMn0gAxkfHBQ"
      },
      "source": [
        "df = df0.append(df1, ignore_index=True)"
      ],
      "id": "RMn0gAxkfHBQ",
      "execution_count": 267,
      "outputs": []
    },
    {
      "cell_type": "code",
      "metadata": {
        "colab": {
          "base_uri": "https://localhost:8080/"
        },
        "id": "-WaSuygrfNno",
        "outputId": "a3c881dd-d110-4cba-e17b-1ab56c65d3c9"
      },
      "source": [
        "#shuffle df\n",
        "df = df.sample(frac=1.0)\n",
        "df.shape"
      ],
      "id": "-WaSuygrfNno",
      "execution_count": 268,
      "outputs": [
        {
          "output_type": "execute_result",
          "data": {
            "text/plain": [
              "(3830, 10)"
            ]
          },
          "metadata": {},
          "execution_count": 268
        }
      ]
    },
    {
      "cell_type": "code",
      "metadata": {
        "id": "Ykj14r2HCKfw"
      },
      "source": [
        "df = df[0:20]"
      ],
      "id": "Ykj14r2HCKfw",
      "execution_count": 269,
      "outputs": []
    },
    {
      "cell_type": "markdown",
      "metadata": {
        "id": "d97d7833"
      },
      "source": [
        "# Pad with initial zeroes"
      ],
      "id": "d97d7833"
    },
    {
      "cell_type": "code",
      "metadata": {
        "id": "9ba03046"
      },
      "source": [
        "ts_max_len = max(df['GM.acc.xyz.z'].apply(len))\n",
        "padded_ts = []\n",
        "\n",
        "for index, ls in df['GM.acc.xyz.z'].items():\n",
        "    padded_ts.append(np.concatenate(([0] * (ts_max_len - len(ls)), ls)))\n",
        "    \n",
        "s1 = pd.Series(padded_ts, index=df.index, name='GM.acc.xyz.z')"
      ],
      "id": "9ba03046",
      "execution_count": 270,
      "outputs": []
    },
    {
      "cell_type": "code",
      "metadata": {
        "id": "c167818d"
      },
      "source": [
        "df['GM.acc.xyz.z'] = s1"
      ],
      "id": "c167818d",
      "execution_count": 271,
      "outputs": []
    },
    {
      "cell_type": "code",
      "metadata": {
        "colab": {
          "base_uri": "https://localhost:8080/"
        },
        "id": "140f2c4f",
        "outputId": "b2ebc516-e1c9-4495-ada5-4578b19e0645"
      },
      "source": [
        "iri_threshold = 5\n",
        "normal_df = df['GM.acc.xyz.z'][df['IRI_mean'] <= iri_threshold]\n",
        "normal_df.shape"
      ],
      "id": "140f2c4f",
      "execution_count": 272,
      "outputs": [
        {
          "output_type": "execute_result",
          "data": {
            "text/plain": [
              "(18,)"
            ]
          },
          "metadata": {},
          "execution_count": 272
        }
      ]
    },
    {
      "cell_type": "code",
      "metadata": {
        "colab": {
          "base_uri": "https://localhost:8080/"
        },
        "id": "3e82ef74",
        "outputId": "13600bc8-b3e9-4dd2-efab-d9d5bccd82b3"
      },
      "source": [
        "anomaly_df = df['GM.acc.xyz.z'][df['IRI_mean'] >= iri_threshold]\n",
        "anomaly_df.shape"
      ],
      "id": "3e82ef74",
      "execution_count": 273,
      "outputs": [
        {
          "output_type": "execute_result",
          "data": {
            "text/plain": [
              "(2,)"
            ]
          },
          "metadata": {},
          "execution_count": 273
        }
      ]
    },
    {
      "cell_type": "code",
      "metadata": {
        "id": "218c448c"
      },
      "source": [
        "anomaly_df = pd.DataFrame(anomaly_df.tolist())"
      ],
      "id": "218c448c",
      "execution_count": 274,
      "outputs": []
    },
    {
      "cell_type": "code",
      "metadata": {
        "id": "2fcb52ca"
      },
      "source": [
        "normal_df = pd.DataFrame(normal_df.tolist())"
      ],
      "id": "2fcb52ca",
      "execution_count": 275,
      "outputs": []
    },
    {
      "cell_type": "code",
      "metadata": {
        "id": "99e0e92c"
      },
      "source": [
        "train_df, val_df = train_test_split(\n",
        "  normal_df,\n",
        "  test_size=0.15,\n",
        "  random_state=RANDOM_SEED\n",
        ")\n",
        "\n",
        "val_df, test_df = train_test_split(\n",
        "  val_df,\n",
        "  test_size=0.33, \n",
        "  random_state=RANDOM_SEED\n",
        ")"
      ],
      "id": "99e0e92c",
      "execution_count": 276,
      "outputs": []
    },
    {
      "cell_type": "markdown",
      "metadata": {
        "id": "3feed680"
      },
      "source": [
        "# convert to tensors"
      ],
      "id": "3feed680"
    },
    {
      "cell_type": "code",
      "metadata": {
        "id": "b3b2f4f2"
      },
      "source": [
        "def create_dataset(df):\n",
        "\n",
        "  sequences = df.astype(np.float32).to_numpy().tolist()\n",
        "\n",
        "  dataset = [torch.tensor(s).unsqueeze(1).float() for s in sequences]\n",
        "\n",
        "  n_seq, seq_len, n_features = torch.stack(dataset).shape\n",
        "\n",
        "  return dataset, seq_len, n_features"
      ],
      "id": "b3b2f4f2",
      "execution_count": 277,
      "outputs": []
    },
    {
      "cell_type": "code",
      "metadata": {
        "id": "344f044d"
      },
      "source": [
        "train_dataset, seq_len, n_features = create_dataset(train_df)\n",
        "val_dataset, _, _ = create_dataset(val_df)\n",
        "test_normal_dataset, _, _ = create_dataset(test_df)\n",
        "test_anomaly_dataset, _, _ = create_dataset(anomaly_df)"
      ],
      "id": "344f044d",
      "execution_count": 278,
      "outputs": []
    },
    {
      "cell_type": "code",
      "metadata": {
        "id": "j7HksfYeagQL"
      },
      "source": [
        "batch_size = 2 #64"
      ],
      "id": "j7HksfYeagQL",
      "execution_count": 279,
      "outputs": []
    },
    {
      "cell_type": "code",
      "metadata": {
        "id": "b0faecab"
      },
      "source": [
        "class Encoder(nn.Module):\n",
        "\n",
        "  def __init__(self, seq_len, n_features, embedding_dim=64):\n",
        "    super(Encoder, self).__init__()\n",
        "\n",
        "    self.seq_len, self.n_features = seq_len, n_features\n",
        "    self.embedding_dim, self.hidden_dim = embedding_dim, 2 * embedding_dim\n",
        "\n",
        "    self.rnn1 = nn.LSTM(\n",
        "      input_size=n_features,\n",
        "      hidden_size=self.hidden_dim,\n",
        "      num_layers=1,\n",
        "      batch_first=True\n",
        "    )\n",
        "    \n",
        "    self.rnn2 = nn.LSTM(\n",
        "      input_size=self.hidden_dim,\n",
        "      hidden_size=embedding_dim,\n",
        "      num_layers=1,\n",
        "      batch_first=True\n",
        "    )\n",
        "\n",
        "  def forward(self, x):\n",
        "    x = x.reshape((1, self.seq_len, self.n_features))\n",
        "\n",
        "    x, (_, _) = self.rnn1(x)\n",
        "    x, (hidden_n, _) = self.rnn2(x)\n",
        "\n",
        "    return hidden_n.reshape((self.n_features, self.embedding_dim))"
      ],
      "id": "b0faecab",
      "execution_count": 280,
      "outputs": []
    },
    {
      "cell_type": "code",
      "metadata": {
        "id": "b70c28ac"
      },
      "source": [
        "class Decoder(nn.Module):\n",
        "\n",
        "  def __init__(self, seq_len, input_dim=64, n_features=1):\n",
        "    super(Decoder, self).__init__()\n",
        "\n",
        "    self.seq_len, self.input_dim = seq_len, input_dim\n",
        "    self.hidden_dim, self.n_features = 2 * input_dim, n_features\n",
        "\n",
        "    self.rnn1 = nn.LSTM(\n",
        "      input_size=input_dim,\n",
        "      hidden_size=input_dim,\n",
        "      num_layers=1,\n",
        "      batch_first=True\n",
        "    )\n",
        "\n",
        "    self.rnn2 = nn.LSTM(\n",
        "      input_size=input_dim,\n",
        "      hidden_size=self.hidden_dim,\n",
        "      num_layers=1,\n",
        "      batch_first=True\n",
        "    )\n",
        "\n",
        "    self.output_layer = nn.Linear(self.hidden_dim, n_features)\n",
        "\n",
        "  def forward(self, x):\n",
        "    x = x.repeat(self.seq_len, self.n_features)\n",
        "    x = x.reshape((self.n_features, self.seq_len, self.input_dim))\n",
        "\n",
        "    x, (hidden_n, cell_n) = self.rnn1(x)\n",
        "    x, (hidden_n, cell_n) = self.rnn2(x)\n",
        "    x = x.reshape((self.seq_len, self.hidden_dim))\n",
        "\n",
        "    return self.output_layer(x)"
      ],
      "id": "b70c28ac",
      "execution_count": 281,
      "outputs": []
    },
    {
      "cell_type": "code",
      "metadata": {
        "id": "cd8db54b"
      },
      "source": [
        "class RecurrentAutoencoder(nn.Module):\n",
        "\n",
        "  def __init__(self, seq_len, n_features, embedding_dim=64):\n",
        "    super(RecurrentAutoencoder, self).__init__()\n",
        "\n",
        "    self.encoder = Encoder(seq_len, n_features, embedding_dim).to(device)\n",
        "    self.decoder = Decoder(seq_len, embedding_dim, n_features).to(device)\n",
        "\n",
        "  def forward(self, x):\n",
        "    x = self.encoder(x)\n",
        "    x = self.decoder(x)\n",
        "\n",
        "    return x"
      ],
      "id": "cd8db54b",
      "execution_count": 282,
      "outputs": []
    },
    {
      "cell_type": "code",
      "metadata": {
        "id": "c2edeb92"
      },
      "source": [
        "model = RecurrentAutoencoder(seq_len, n_features, 128)\n",
        "model = model.to(device)"
      ],
      "id": "c2edeb92",
      "execution_count": 283,
      "outputs": []
    },
    {
      "cell_type": "code",
      "metadata": {
        "id": "19cfa238"
      },
      "source": [
        "def train_model(model, train_dataset, val_dataset, n_epochs):\n",
        "  optimizer = torch.optim.Adam(model.parameters(), lr=1e-3)\n",
        "  criterion = nn.L1Loss(reduction='sum').to(device)\n",
        "  history = dict(train=[], val=[])\n",
        "\n",
        "  best_model_wts = copy.deepcopy(model.state_dict())\n",
        "  best_loss = 10000.0\n",
        "  \n",
        "  for epoch in range(1, n_epochs + 1):\n",
        "    model = model.train()\n",
        "\n",
        "    train_losses = []\n",
        "    for seq_true in train_dataset:\n",
        "      optimizer.zero_grad()\n",
        "\n",
        "      seq_true = seq_true.to(device)\n",
        "      seq_pred = model(seq_true)\n",
        "\n",
        "      loss = criterion(seq_pred, seq_true)\n",
        "\n",
        "      loss.backward()\n",
        "      optimizer.step()\n",
        "\n",
        "      train_losses.append(loss.item())\n",
        "\n",
        "      print(f'train loss {loss.item()}')      \n",
        "\n",
        "    val_losses = []\n",
        "    model = model.eval()\n",
        "    with torch.no_grad():\n",
        "      for seq_true in val_dataset:\n",
        "\n",
        "        seq_true = seq_true.to(device)\n",
        "        seq_pred = model(seq_true)\n",
        "\n",
        "        loss = criterion(seq_pred, seq_true)\n",
        "        val_losses.append(loss.item())\n",
        "\n",
        "    train_loss = np.mean(train_losses)\n",
        "    val_loss = np.mean(val_losses)\n",
        "\n",
        "    history['train'].append(train_loss)\n",
        "    history['val'].append(val_loss)\n",
        "\n",
        "    if val_loss < best_loss:\n",
        "      best_loss = val_loss\n",
        "      best_model_wts = copy.deepcopy(model.state_dict())\n",
        "\n",
        "    print(f'Epoch {epoch}: train loss {train_loss} val loss {val_loss}')\n",
        "\n",
        "  model.load_state_dict(best_model_wts)\n",
        "  return model.eval(), history"
      ],
      "id": "19cfa238",
      "execution_count": 284,
      "outputs": []
    },
    {
      "cell_type": "code",
      "metadata": {
        "id": "BXhcpqEZLrU6"
      },
      "source": [
        "import datetime"
      ],
      "id": "BXhcpqEZLrU6",
      "execution_count": 285,
      "outputs": []
    },
    {
      "cell_type": "code",
      "metadata": {
        "colab": {
          "base_uri": "https://localhost:8080/"
        },
        "id": "df508450",
        "outputId": "d7efdfee-1b03-4f90-8d42-7228720c2c3d"
      },
      "source": [
        "print(datetime.datetime.now())\n",
        "model, history = train_model(\n",
        "  model, \n",
        "  train_dataset, \n",
        "  val_dataset, \n",
        "  n_epochs=2\n",
        ")\n",
        "print(datetime.datetime.now())"
      ],
      "id": "df508450",
      "execution_count": 286,
      "outputs": [
        {
          "output_type": "stream",
          "name": "stdout",
          "text": [
            "2021-11-07 23:36:49.807099\n",
            "train loss 1782.451171875\n",
            "train loss 2025.518798828125\n",
            "train loss 2315.296875\n",
            "train loss 1621.081787109375\n",
            "train loss 1954.548583984375\n",
            "train loss 1940.400634765625\n",
            "train loss 1672.182861328125\n",
            "train loss 1639.1722412109375\n",
            "train loss 1860.603271484375\n",
            "train loss 2476.7607421875\n",
            "train loss 1905.01025390625\n",
            "train loss 2179.1123046875\n",
            "train loss 5011.8466796875\n",
            "train loss 2126.730712890625\n",
            "train loss 2451.8876953125\n",
            "Epoch 1: train loss 2197.506974283854 val loss 2049.8228759765625\n",
            "train loss 1858.80078125\n",
            "train loss 1671.6240234375\n",
            "train loss 1964.2425537109375\n",
            "train loss 1250.236328125\n",
            "train loss 1809.447021484375\n",
            "train loss 1924.994140625\n",
            "train loss 1509.4287109375\n",
            "train loss 1425.763916015625\n",
            "train loss 1678.31591796875\n",
            "train loss 2370.94287109375\n",
            "train loss 1916.0916748046875\n",
            "train loss 2154.171875\n",
            "train loss 5030.52490234375\n",
            "train loss 2061.869384765625\n",
            "train loss 2398.5126953125\n",
            "Epoch 2: train loss 2068.331119791667 val loss 1992.5444946289062\n",
            "2021-11-07 23:38:02.379711\n"
          ]
        }
      ]
    },
    {
      "cell_type": "code",
      "metadata": {
        "colab": {
          "base_uri": "https://localhost:8080/",
          "height": 295
        },
        "id": "Ve5D3lFwwTIj",
        "outputId": "c6d09d6d-a414-4e38-bf17-8edb78c08fce"
      },
      "source": [
        "ax = plt.figure().gca()\n",
        "\n",
        "ax.plot(history['train'])\n",
        "ax.plot(history['val'])\n",
        "plt.ylabel('Loss')\n",
        "plt.xlabel('Epoch')\n",
        "plt.legend(['train', 'test'])\n",
        "plt.title('Loss over training epochs')\n",
        "plt.show();"
      ],
      "id": "Ve5D3lFwwTIj",
      "execution_count": 287,
      "outputs": [
        {
          "output_type": "display_data",
          "data": {
            "image/png": "[encoded data removed]",
            "text/plain": [
              "<Figure size 432x288 with 1 Axes>"
            ]
          },
          "metadata": {}
        }
      ]
    },
    {
      "cell_type": "code",
      "metadata": {
        "id": "6hNPNY8qYoQg"
      },
      "source": [
        "MODEL_PATH = 'model.pth'\n",
        "\n",
        "torch.save(model, MODEL_PATH)"
      ],
      "id": "6hNPNY8qYoQg",
      "execution_count": 288,
      "outputs": []
    },
    {
      "cell_type": "code",
      "metadata": {
        "id": "m9y5K3U5xXw0"
      },
      "source": [
        "def predict(model, dataset):\n",
        "  predictions, losses = [], []\n",
        "  criterion = nn.L1Loss(reduction='sum').to(device)\n",
        "  with torch.no_grad():\n",
        "    model = model.eval()\n",
        "    for seq_true in dataset:\n",
        "      seq_true = seq_true.to(device)\n",
        "      seq_pred = model(seq_true)\n",
        "\n",
        "      loss = criterion(seq_pred, seq_true)\n",
        "\n",
        "      predictions.append(seq_pred.cpu().numpy().flatten())\n",
        "      losses.append(loss.item())\n",
        "  return predictions, losses"
      ],
      "id": "m9y5K3U5xXw0",
      "execution_count": 292,
      "outputs": []
    },
    {
      "cell_type": "code",
      "metadata": {
        "id": "TMIJ0MjLxNU8"
      },
      "source": [
        "def plot_prediction(data, model, title, ax):\n",
        "  predictions, pred_losses = predict(model, [data])\n",
        "\n",
        "  ax.plot(data, label='true')\n",
        "  ax.plot(predictions[0], label='reconstructed')\n",
        "  ax.set_title(f'{title} (loss: {np.around(pred_losses[0], 2)})')\n",
        "  ax.legend()"
      ],
      "id": "TMIJ0MjLxNU8",
      "execution_count": 290,
      "outputs": []
    },
    {
      "cell_type": "code",
      "metadata": {
        "colab": {
          "base_uri": "https://localhost:8080/",
          "height": 469
        },
        "id": "fRu-x29twik7",
        "outputId": "066c2183-ef28-4868-9fcc-90543bd52b1e"
      },
      "source": [
        "fig, axs = plt.subplots(\n",
        "  nrows=2,\n",
        "  ncols=6,\n",
        "  sharey=True,\n",
        "  sharex=True,\n",
        "  figsize=(22, 8)\n",
        ")\n",
        "\n",
        "for i, data in enumerate(test_normal_dataset[:6]):\n",
        "  plot_prediction(data, model, title='Normal', ax=axs[0, i])\n",
        "\n",
        "for i, data in enumerate(test_anomaly_dataset[:6]):\n",
        "  plot_prediction(data, model, title='Anomaly', ax=axs[1, i])\n",
        "\n",
        "fig.tight_layout();"
      ],
      "id": "fRu-x29twik7",
      "execution_count": 293,
      "outputs": [
        {
          "output_type": "display_data",
          "data": {
            "image/png": "[encoded data removed]",
            "text/plain": [
              "<Figure size 1584x576 with 12 Axes>"
            ]
          },
          "metadata": {}
        }
      ]
    },
    {
      "cell_type": "code",
      "metadata": {
        "id": "zwQQ3pPrxGme"
      },
      "source": [
        ""
      ],
      "id": "zwQQ3pPrxGme",
      "execution_count": null,
      "outputs": []
    }
  ]
}