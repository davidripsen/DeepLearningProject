{
 "cells": [
  {
   "cell_type": "code",
   "execution_count": 68,
   "id": "896a6b14",
   "metadata": {},
   "outputs": [
    {
     "data": {
      "text/plain": [
       "<torch._C.Generator at 0x1c8252e3a70>"
      ]
     },
     "execution_count": 68,
     "metadata": {},
     "output_type": "execute_result"
    }
   ],
   "source": [
    "import matplotlib.pyplot as plt\n",
    "from IPython.display import Image, display, clear_output\n",
    "import numpy as np\n",
    "%matplotlib nbagg\n",
    "%matplotlib inline\n",
    "import seaborn as sns\n",
    "import pandas as pd\n",
    "sns.set_style(\"whitegrid\")\n",
    "import pickle\n",
    "import torch\n",
    "from sklearn.model_selection import train_test_split\n",
    "from torch import nn, optim\n",
    "import torch.nn.functional as F\n",
    "import copy\n",
    "\n",
    "RANDOM_SEED = 56\n",
    "np.random.seed(RANDOM_SEED)\n",
    "torch.manual_seed(RANDOM_SEED)"
   ]
  },
  {
   "cell_type": "code",
   "execution_count": 2,
   "id": "14f1e006",
   "metadata": {
    "scrolled": true
   },
   "outputs": [],
   "source": [
    "# Load data\n",
    "df0 = pickle.load( open( \"data/aligned_GM-7792_DRD-d6b1cf27-41ed-43b6-8050-2068ef941a0aDRD-d6b1cf27-41ed-43b6-8050-2068ef941a0a_GM-7792_pass-0_cleaned.pickle\", \"rb\" ) )\n",
    "df1 = pickle.load( open( \"data/aligned_GM-7792_DRD-d6b1cf27-41ed-43b6-8050-2068ef941a0aDRD-d6b1cf27-41ed-43b6-8050-2068ef941a0a_GM-7792_pass-1_cleaned.pickle\", \"rb\" ) )"
   ]
  },
  {
   "cell_type": "code",
   "execution_count": 3,
   "id": "6a32487f",
   "metadata": {},
   "outputs": [],
   "source": [
    "df = df0.append(df1, ignore_index=True)"
   ]
  },
  {
   "cell_type": "code",
   "execution_count": 4,
   "id": "23f8b2cd",
   "metadata": {},
   "outputs": [
    {
     "name": "stdout",
     "output_type": "stream",
     "text": [
      "Python implementation: CPython\n",
      "Python version       : 3.9.7\n",
      "IPython version      : 7.29.0\n",
      "\n",
      "numpy      : 1.21.4\n",
      "pandas     : 1.3.4\n",
      "torch      : 1.10.0\n",
      "arff2pandas: 1.0.1\n",
      "\n"
     ]
    }
   ],
   "source": [
    "%reload_ext watermark\n",
    "%watermark -v -p numpy,pandas,torch,arff2pandas"
   ]
  },
  {
   "cell_type": "code",
   "execution_count": 5,
   "id": "d000068d",
   "metadata": {},
   "outputs": [
    {
     "data": {
      "text/plain": [
       "device(type='cpu')"
      ]
     },
     "execution_count": 5,
     "metadata": {},
     "output_type": "execute_result"
    }
   ],
   "source": [
    "device = torch.device(\"cuda\" if torch.cuda.is_available() else \"cpu\")\n",
    "device"
   ]
  },
  {
   "cell_type": "code",
   "execution_count": 7,
   "id": "207356d2",
   "metadata": {},
   "outputs": [
    {
     "data": {
      "text/html": [
       "<div>\n",
       "<style scoped>\n",
       "    .dataframe tbody tr th:only-of-type {\n",
       "        vertical-align: middle;\n",
       "    }\n",
       "\n",
       "    .dataframe tbody tr th {\n",
       "        vertical-align: top;\n",
       "    }\n",
       "\n",
       "    .dataframe thead th {\n",
       "        text-align: right;\n",
       "    }\n",
       "</style>\n",
       "<table border=\"1\" class=\"dataframe\">\n",
       "  <thead>\n",
       "    <tr style=\"text-align: right;\">\n",
       "      <th></th>\n",
       "      <th>IRI_mean</th>\n",
       "      <th>IRI_sequence</th>\n",
       "      <th>GM.TS_or_Distance</th>\n",
       "      <th>GM.T</th>\n",
       "      <th>GM.lat_int</th>\n",
       "      <th>GM.lon_int</th>\n",
       "      <th>GM.acc.xyz.z</th>\n",
       "      <th>GM.acc.xyz.y</th>\n",
       "      <th>GM.acc.xyz.x</th>\n",
       "      <th>GM.obd.spd_veh.value</th>\n",
       "    </tr>\n",
       "  </thead>\n",
       "  <tbody>\n",
       "    <tr>\n",
       "      <th>1697</th>\n",
       "      <td>3.835</td>\n",
       "      <td>[1.8601703035, 3.2504808755, 5.053189786, 4.01...</td>\n",
       "      <td>[2021-04-22 01:08:16.465000+00:00, 2021-04-22 ...</td>\n",
       "      <td>[acc.xyz, acc.xyz, acc.xyz, acc.xyz, acc.xyz, ...</td>\n",
       "      <td>[55.66611856549521, 55.666118079872206, 55.666...</td>\n",
       "      <td>[12.567482945686901, 12.567481884984025, 12.56...</td>\n",
       "      <td>[0.9883, 0.9883, 0.9883, 0.9766, 0.9766, 0.976...</td>\n",
       "      <td>[-0.0508, -0.0508, -0.0508, -0.0586, -0.0586, ...</td>\n",
       "      <td>[0.1367, 0.1367, 0.1367, 0.1367, 0.1367, 0.136...</td>\n",
       "      <td>[56.980000000000004, 56.95, 56.92, 56.9, 56.9,...</td>\n",
       "    </tr>\n",
       "    <tr>\n",
       "      <th>3785</th>\n",
       "      <td>1.75299</td>\n",
       "      <td>[0.9589948954999999, 1.864791327, 1.6323926260...</td>\n",
       "      <td>[2021-04-22 02:37:03.444000+00:00, 2021-04-22 ...</td>\n",
       "      <td>[acc.xyz, acc.xyz, obd.spd_veh, acc.xyz, acc.x...</td>\n",
       "      <td>[55.65223110094637, 55.65223118611987, 55.6522...</td>\n",
       "      <td>[12.495351993690852, 12.495351425867508, 12.49...</td>\n",
       "      <td>[0.9727, 0.9727, 0.9727, 0.9727, 0.9844, 0.984...</td>\n",
       "      <td>[-0.082, -0.082, -0.082, -0.082, -0.0781, -0.0...</td>\n",
       "      <td>[0.1563, 0.1563, 0.1563, 0.1563, 0.1602, 0.160...</td>\n",
       "      <td>[30.43, 30.400000000000002, 30.38, 30.58000000...</td>\n",
       "    </tr>\n",
       "    <tr>\n",
       "      <th>895</th>\n",
       "      <td>2.99175</td>\n",
       "      <td>[2.567165461, 3.065463918, 2.1012670425, 1.499...</td>\n",
       "      <td>[2021-04-22 01:48:01.859000+00:00, 2021-04-22 ...</td>\n",
       "      <td>[acc.xyz, acc.xyz, obd.spd_veh, acc.xyz, acc.x...</td>\n",
       "      <td>[55.72094770915033, 55.72094811111111, 55.7209...</td>\n",
       "      <td>[12.544176196078432, 12.544176666666667, 12.54...</td>\n",
       "      <td>[0.9766, 0.9805, 0.9805, 0.9805, 0.9805, 0.980...</td>\n",
       "      <td>[-0.0781, -0.0664, -0.0664, -0.0664, -0.0664, ...</td>\n",
       "      <td>[0.1328, 0.1328, 0.1328, 0.1328, 0.1328, 0.132...</td>\n",
       "      <td>[47.45, 47.44, 47.43, 47.43, 47.42, 47.42, 47....</td>\n",
       "    </tr>\n",
       "    <tr>\n",
       "      <th>1368</th>\n",
       "      <td>3.433299</td>\n",
       "      <td>[6.6389056895, 3.828659857, 2.5453005429999997...</td>\n",
       "      <td>[2021-04-22 01:56:23.880000+00:00, 2021-04-22 ...</td>\n",
       "      <td>[acc.xyz, acc.xyz, acc.xyz, obd.spd_veh, acc.x...</td>\n",
       "      <td>[55.701853409240925, 55.70185274917492, 55.701...</td>\n",
       "      <td>[12.592269062706272, 12.592269155115511, 12.59...</td>\n",
       "      <td>[1.0313, 1.0313, 1.0313, 1.0313, 1.0313, 1.031...</td>\n",
       "      <td>[-0.0352, -0.0352, -0.0352, -0.0352, -0.0352, ...</td>\n",
       "      <td>[0.2305, 0.2305, 0.2305, 0.2305, 0.2305, 0.230...</td>\n",
       "      <td>[41.74, 42.02, 41.74, 41.74, 41.75, 41.77, 41....</td>\n",
       "    </tr>\n",
       "    <tr>\n",
       "      <th>757</th>\n",
       "      <td>7.488447</td>\n",
       "      <td>[8.930436514, 2.9415233054999996, 1.657743437,...</td>\n",
       "      <td>[2021-04-22 01:42:27.050000+00:00, 2021-04-22 ...</td>\n",
       "      <td>[acc.xyz, acc.xyz, acc.xyz, acc.xyz, acc.xyz, ...</td>\n",
       "      <td>[55.7115501559633, 55.71155024770642, 55.71155...</td>\n",
       "      <td>[12.531196467889908, 12.531196743119265, 12.53...</td>\n",
       "      <td>[1.0508, 1.0508, 1.0508, 1.0508, 1.0352, 1.035...</td>\n",
       "      <td>[0.043, 0.043, 0.043, 0.043, 0.0391, 0.0391, 0...</td>\n",
       "      <td>[0.1758, 0.1758, 0.1758, 0.1758, 0.1758, 0.175...</td>\n",
       "      <td>[35.26, 35.34, 35.42, 35.51, 35.59, 35.65, 35....</td>\n",
       "    </tr>\n",
       "  </tbody>\n",
       "</table>\n",
       "</div>"
      ],
      "text/plain": [
       "      IRI_mean                                       IRI_sequence  \\\n",
       "1697     3.835  [1.8601703035, 3.2504808755, 5.053189786, 4.01...   \n",
       "3785   1.75299  [0.9589948954999999, 1.864791327, 1.6323926260...   \n",
       "895    2.99175  [2.567165461, 3.065463918, 2.1012670425, 1.499...   \n",
       "1368  3.433299  [6.6389056895, 3.828659857, 2.5453005429999997...   \n",
       "757   7.488447  [8.930436514, 2.9415233054999996, 1.657743437,...   \n",
       "\n",
       "                                      GM.TS_or_Distance  \\\n",
       "1697  [2021-04-22 01:08:16.465000+00:00, 2021-04-22 ...   \n",
       "3785  [2021-04-22 02:37:03.444000+00:00, 2021-04-22 ...   \n",
       "895   [2021-04-22 01:48:01.859000+00:00, 2021-04-22 ...   \n",
       "1368  [2021-04-22 01:56:23.880000+00:00, 2021-04-22 ...   \n",
       "757   [2021-04-22 01:42:27.050000+00:00, 2021-04-22 ...   \n",
       "\n",
       "                                                   GM.T  \\\n",
       "1697  [acc.xyz, acc.xyz, acc.xyz, acc.xyz, acc.xyz, ...   \n",
       "3785  [acc.xyz, acc.xyz, obd.spd_veh, acc.xyz, acc.x...   \n",
       "895   [acc.xyz, acc.xyz, obd.spd_veh, acc.xyz, acc.x...   \n",
       "1368  [acc.xyz, acc.xyz, acc.xyz, obd.spd_veh, acc.x...   \n",
       "757   [acc.xyz, acc.xyz, acc.xyz, acc.xyz, acc.xyz, ...   \n",
       "\n",
       "                                             GM.lat_int  \\\n",
       "1697  [55.66611856549521, 55.666118079872206, 55.666...   \n",
       "3785  [55.65223110094637, 55.65223118611987, 55.6522...   \n",
       "895   [55.72094770915033, 55.72094811111111, 55.7209...   \n",
       "1368  [55.701853409240925, 55.70185274917492, 55.701...   \n",
       "757   [55.7115501559633, 55.71155024770642, 55.71155...   \n",
       "\n",
       "                                             GM.lon_int  \\\n",
       "1697  [12.567482945686901, 12.567481884984025, 12.56...   \n",
       "3785  [12.495351993690852, 12.495351425867508, 12.49...   \n",
       "895   [12.544176196078432, 12.544176666666667, 12.54...   \n",
       "1368  [12.592269062706272, 12.592269155115511, 12.59...   \n",
       "757   [12.531196467889908, 12.531196743119265, 12.53...   \n",
       "\n",
       "                                           GM.acc.xyz.z  \\\n",
       "1697  [0.9883, 0.9883, 0.9883, 0.9766, 0.9766, 0.976...   \n",
       "3785  [0.9727, 0.9727, 0.9727, 0.9727, 0.9844, 0.984...   \n",
       "895   [0.9766, 0.9805, 0.9805, 0.9805, 0.9805, 0.980...   \n",
       "1368  [1.0313, 1.0313, 1.0313, 1.0313, 1.0313, 1.031...   \n",
       "757   [1.0508, 1.0508, 1.0508, 1.0508, 1.0352, 1.035...   \n",
       "\n",
       "                                           GM.acc.xyz.y  \\\n",
       "1697  [-0.0508, -0.0508, -0.0508, -0.0586, -0.0586, ...   \n",
       "3785  [-0.082, -0.082, -0.082, -0.082, -0.0781, -0.0...   \n",
       "895   [-0.0781, -0.0664, -0.0664, -0.0664, -0.0664, ...   \n",
       "1368  [-0.0352, -0.0352, -0.0352, -0.0352, -0.0352, ...   \n",
       "757   [0.043, 0.043, 0.043, 0.043, 0.0391, 0.0391, 0...   \n",
       "\n",
       "                                           GM.acc.xyz.x  \\\n",
       "1697  [0.1367, 0.1367, 0.1367, 0.1367, 0.1367, 0.136...   \n",
       "3785  [0.1563, 0.1563, 0.1563, 0.1563, 0.1602, 0.160...   \n",
       "895   [0.1328, 0.1328, 0.1328, 0.1328, 0.1328, 0.132...   \n",
       "1368  [0.2305, 0.2305, 0.2305, 0.2305, 0.2305, 0.230...   \n",
       "757   [0.1758, 0.1758, 0.1758, 0.1758, 0.1758, 0.175...   \n",
       "\n",
       "                                   GM.obd.spd_veh.value  \n",
       "1697  [56.980000000000004, 56.95, 56.92, 56.9, 56.9,...  \n",
       "3785  [30.43, 30.400000000000002, 30.38, 30.58000000...  \n",
       "895   [47.45, 47.44, 47.43, 47.43, 47.42, 47.42, 47....  \n",
       "1368  [41.74, 42.02, 41.74, 41.74, 41.75, 41.77, 41....  \n",
       "757   [35.26, 35.34, 35.42, 35.51, 35.59, 35.65, 35....  "
      ]
     },
     "execution_count": 7,
     "metadata": {},
     "output_type": "execute_result"
    }
   ],
   "source": [
    "df.head()"
   ]
  },
  {
   "cell_type": "markdown",
   "id": "d97d7833",
   "metadata": {},
   "source": [
    "# Pad with initial zeroes"
   ]
  },
  {
   "cell_type": "code",
   "execution_count": 25,
   "id": "9ba03046",
   "metadata": {},
   "outputs": [],
   "source": [
    "ts_max_len = max(df['GM.acc.xyz.z'].apply(len))\n",
    "padded_ts = []\n",
    "\n",
    "for index, ls in df['GM.acc.xyz.z'].items():\n",
    "    padded_ts.append(np.concatenate(([0] * (ts_max_len - len(ls)), ls)))\n",
    "    \n",
    "s1 = pd.Series(padded_ts, index=df.index, name='GM.acc.xyz.z')"
   ]
  },
  {
   "cell_type": "code",
   "execution_count": 30,
   "id": "c167818d",
   "metadata": {},
   "outputs": [],
   "source": [
    "df['GM.acc.xyz.z'] = s1"
   ]
  },
  {
   "cell_type": "code",
   "execution_count": 27,
   "id": "792f2bc2",
   "metadata": {},
   "outputs": [
    {
     "data": {
      "text/plain": [
       "(3830, 11)"
      ]
     },
     "execution_count": 27,
     "metadata": {},
     "output_type": "execute_result"
    }
   ],
   "source": [
    "#shuffle df\n",
    "df = df.sample(frac=1.0)\n",
    "df.shape"
   ]
  },
  {
   "cell_type": "code",
   "execution_count": 45,
   "id": "140f2c4f",
   "metadata": {},
   "outputs": [
    {
     "data": {
      "text/plain": [
       "(3410,)"
      ]
     },
     "execution_count": 45,
     "metadata": {},
     "output_type": "execute_result"
    }
   ],
   "source": [
    "iri_threshold = 5\n",
    "normal_df = df['GM.acc.xyz.z'][df['IRI_mean'] <= iri_threshold]\n",
    "normal_df.shape"
   ]
  },
  {
   "cell_type": "code",
   "execution_count": 46,
   "id": "3e82ef74",
   "metadata": {},
   "outputs": [
    {
     "data": {
      "text/plain": [
       "(420,)"
      ]
     },
     "execution_count": 46,
     "metadata": {},
     "output_type": "execute_result"
    }
   ],
   "source": [
    "anomaly_df = df['GM.acc.xyz.z'][df['IRI_mean'] >= iri_threshold]\n",
    "anomaly_df.shape"
   ]
  },
  {
   "cell_type": "code",
   "execution_count": 48,
   "id": "218c448c",
   "metadata": {},
   "outputs": [],
   "source": [
    "anomaly_df = pd.DataFrame(anomaly_df.tolist())"
   ]
  },
  {
   "cell_type": "code",
   "execution_count": 50,
   "id": "2fcb52ca",
   "metadata": {},
   "outputs": [],
   "source": [
    "normal_df = pd.DataFrame(normal_df.tolist())"
   ]
  },
  {
   "cell_type": "code",
   "execution_count": 55,
   "id": "99e0e92c",
   "metadata": {},
   "outputs": [],
   "source": [
    "train_df, val_df = train_test_split(\n",
    "  normal_df,\n",
    "  test_size=0.15,\n",
    "  random_state=RANDOM_SEED\n",
    ")\n",
    "\n",
    "val_df, test_df = train_test_split(\n",
    "  val_df,\n",
    "  test_size=0.33, \n",
    "  random_state=RANDOM_SEED\n",
    ")"
   ]
  },
  {
   "cell_type": "markdown",
   "id": "3feed680",
   "metadata": {},
   "source": [
    "# convert to tensors"
   ]
  },
  {
   "cell_type": "code",
   "execution_count": 56,
   "id": "b3b2f4f2",
   "metadata": {},
   "outputs": [],
   "source": [
    "def create_dataset(df):\n",
    "\n",
    "  sequences = df.astype(np.float32).to_numpy().tolist()\n",
    "\n",
    "  dataset = [torch.tensor(s).unsqueeze(1).float() for s in sequences]\n",
    "\n",
    "  n_seq, seq_len, n_features = torch.stack(dataset).shape\n",
    "\n",
    "  return dataset, seq_len, n_features"
   ]
  },
  {
   "cell_type": "code",
   "execution_count": 57,
   "id": "344f044d",
   "metadata": {},
   "outputs": [],
   "source": [
    "train_dataset, seq_len, n_features = create_dataset(train_df)\n",
    "val_dataset, _, _ = create_dataset(val_df)\n",
    "test_normal_dataset, _, _ = create_dataset(test_df)\n",
    "test_anomaly_dataset, _, _ = create_dataset(anomaly_df)"
   ]
  },
  {
   "cell_type": "code",
   "execution_count": 60,
   "id": "b0faecab",
   "metadata": {},
   "outputs": [],
   "source": [
    "class Encoder(nn.Module):\n",
    "\n",
    "  def __init__(self, seq_len, n_features, embedding_dim=64):\n",
    "    super(Encoder, self).__init__()\n",
    "\n",
    "    self.seq_len, self.n_features = seq_len, n_features\n",
    "    self.embedding_dim, self.hidden_dim = embedding_dim, 2 * embedding_dim\n",
    "\n",
    "    self.rnn1 = nn.LSTM(\n",
    "      input_size=n_features,\n",
    "      hidden_size=self.hidden_dim,\n",
    "      num_layers=1,\n",
    "      batch_first=True\n",
    "    )\n",
    "    \n",
    "    self.rnn2 = nn.LSTM(\n",
    "      input_size=self.hidden_dim,\n",
    "      hidden_size=embedding_dim,\n",
    "      num_layers=1,\n",
    "      batch_first=True\n",
    "    )\n",
    "\n",
    "  def forward(self, x):\n",
    "    x = x.reshape((1, self.seq_len, self.n_features))\n",
    "\n",
    "    x, (_, _) = self.rnn1(x)\n",
    "    x, (hidden_n, _) = self.rnn2(x)\n",
    "\n",
    "    return hidden_n.reshape((self.n_features, self.embedding_dim))"
   ]
  },
  {
   "cell_type": "code",
   "execution_count": 61,
   "id": "b70c28ac",
   "metadata": {},
   "outputs": [],
   "source": [
    "class Decoder(nn.Module):\n",
    "\n",
    "  def __init__(self, seq_len, input_dim=64, n_features=1):\n",
    "    super(Decoder, self).__init__()\n",
    "\n",
    "    self.seq_len, self.input_dim = seq_len, input_dim\n",
    "    self.hidden_dim, self.n_features = 2 * input_dim, n_features\n",
    "\n",
    "    self.rnn1 = nn.LSTM(\n",
    "      input_size=input_dim,\n",
    "      hidden_size=input_dim,\n",
    "      num_layers=1,\n",
    "      batch_first=True\n",
    "    )\n",
    "\n",
    "    self.rnn2 = nn.LSTM(\n",
    "      input_size=input_dim,\n",
    "      hidden_size=self.hidden_dim,\n",
    "      num_layers=1,\n",
    "      batch_first=True\n",
    "    )\n",
    "\n",
    "    self.output_layer = nn.Linear(self.hidden_dim, n_features)\n",
    "\n",
    "  def forward(self, x):\n",
    "    x = x.repeat(self.seq_len, self.n_features)\n",
    "    x = x.reshape((self.n_features, self.seq_len, self.input_dim))\n",
    "\n",
    "    x, (hidden_n, cell_n) = self.rnn1(x)\n",
    "    x, (hidden_n, cell_n) = self.rnn2(x)\n",
    "    x = x.reshape((self.seq_len, self.hidden_dim))\n",
    "\n",
    "    return self.output_layer(x)"
   ]
  },
  {
   "cell_type": "code",
   "execution_count": 62,
   "id": "cd8db54b",
   "metadata": {},
   "outputs": [],
   "source": [
    "class RecurrentAutoencoder(nn.Module):\n",
    "\n",
    "  def __init__(self, seq_len, n_features, embedding_dim=64):\n",
    "    super(RecurrentAutoencoder, self).__init__()\n",
    "\n",
    "    self.encoder = Encoder(seq_len, n_features, embedding_dim).to(device)\n",
    "    self.decoder = Decoder(seq_len, embedding_dim, n_features).to(device)\n",
    "\n",
    "  def forward(self, x):\n",
    "    x = self.encoder(x)\n",
    "    x = self.decoder(x)\n",
    "\n",
    "    return x"
   ]
  },
  {
   "cell_type": "code",
   "execution_count": 63,
   "id": "c2edeb92",
   "metadata": {},
   "outputs": [],
   "source": [
    "model = RecurrentAutoencoder(seq_len, n_features, 128)\n",
    "model = model.to(device)"
   ]
  },
  {
   "cell_type": "code",
   "execution_count": 64,
   "id": "19cfa238",
   "metadata": {},
   "outputs": [],
   "source": [
    "def train_model(model, train_dataset, val_dataset, n_epochs):\n",
    "  optimizer = torch.optim.Adam(model.parameters(), lr=1e-3)\n",
    "  criterion = nn.L1Loss(reduction='sum').to(device)\n",
    "  history = dict(train=[], val=[])\n",
    "\n",
    "  best_model_wts = copy.deepcopy(model.state_dict())\n",
    "  best_loss = 10000.0\n",
    "  \n",
    "  for epoch in range(1, n_epochs + 1):\n",
    "    model = model.train()\n",
    "\n",
    "    train_losses = []\n",
    "    for seq_true in train_dataset:\n",
    "      optimizer.zero_grad()\n",
    "\n",
    "      seq_true = seq_true.to(device)\n",
    "      seq_pred = model(seq_true)\n",
    "\n",
    "      loss = criterion(seq_pred, seq_true)\n",
    "\n",
    "      loss.backward()\n",
    "      optimizer.step()\n",
    "\n",
    "      train_losses.append(loss.item())\n",
    "\n",
    "    val_losses = []\n",
    "    model = model.eval()\n",
    "    with torch.no_grad():\n",
    "      for seq_true in val_dataset:\n",
    "\n",
    "        seq_true = seq_true.to(device)\n",
    "        seq_pred = model(seq_true)\n",
    "\n",
    "        loss = criterion(seq_pred, seq_true)\n",
    "        val_losses.append(loss.item())\n",
    "\n",
    "    train_loss = np.mean(train_losses)\n",
    "    val_loss = np.mean(val_losses)\n",
    "\n",
    "    history['train'].append(train_loss)\n",
    "    history['val'].append(val_loss)\n",
    "\n",
    "    if val_loss < best_loss:\n",
    "      best_loss = val_loss\n",
    "      best_model_wts = copy.deepcopy(model.state_dict())\n",
    "\n",
    "    print(f'Epoch {epoch}: train loss {train_loss} val loss {val_loss}')\n",
    "\n",
    "  model.load_state_dict(best_model_wts)\n",
    "  return model.eval(), history"
   ]
  },
  {
   "cell_type": "code",
   "execution_count": null,
   "id": "df508450",
   "metadata": {},
   "outputs": [],
   "source": [
    "model, history = train_model(\n",
    "  model, \n",
    "  train_dataset, \n",
    "  val_dataset, \n",
    "  n_epochs=150\n",
    ")"
   ]
  }
 ],
 "metadata": {
  "kernelspec": {
   "display_name": "Python 3 (ipykernel)",
   "language": "python",
   "name": "python3"
  },
  "language_info": {
   "codemirror_mode": {
    "name": "ipython",
    "version": 3
   },
   "file_extension": ".py",
   "mimetype": "text/x-python",
   "name": "python",
   "nbconvert_exporter": "python",
   "pygments_lexer": "ipython3",
   "version": "3.9.7"
  }
 },
 "nbformat": 4,
 "nbformat_minor": 5
}
