{
 "cells": [
  {
   "cell_type": "code",
   "execution_count": 1,
   "id": "af886d29-c839-47b8-8285-3b654a9554b3",
   "metadata": {},
   "outputs": [],
   "source": [
    "import matplotlib.pyplot as plt\n",
    "from IPython.display import Image, display, clear_output\n",
    "import numpy as np\n",
    "%matplotlib nbagg\n",
    "%matplotlib inline\n",
    "import seaborn as sns\n",
    "import pandas as pd\n",
    "sns.set_style(\"whitegrid\")\n",
    "import pickle"
   ]
  },
  {
   "cell_type": "code",
   "execution_count": 2,
   "id": "dbd6cb53-89f3-4301-8e4d-cca00f674865",
   "metadata": {},
   "outputs": [],
   "source": [
    "# Load data\n",
    "df0 = pickle.load( open( \"data/aligned_GM-7792_DRD-d6b1cf27-41ed-43b6-8050-2068ef941a0aDRD-d6b1cf27-41ed-43b6-8050-2068ef941a0a_GM-7792_pass-0_cleaned.pickle\", \"rb\" ) )\n",
    "df1 = pickle.load( open( \"data/aligned_GM-7792_DRD-d6b1cf27-41ed-43b6-8050-2068ef941a0aDRD-d6b1cf27-41ed-43b6-8050-2068ef941a0a_GM-7792_pass-1_cleaned.pickle\", \"rb\" ) )"
   ]
  },
  {
   "cell_type": "code",
   "execution_count": 92,
   "id": "d1669439-cd7a-421d-a316-1529a27136de",
   "metadata": {},
   "outputs": [
    {
     "data": {
      "text/html": [
       "<div>\n",
       "<style scoped>\n",
       "    .dataframe tbody tr th:only-of-type {\n",
       "        vertical-align: middle;\n",
       "    }\n",
       "\n",
       "    .dataframe tbody tr th {\n",
       "        vertical-align: top;\n",
       "    }\n",
       "\n",
       "    .dataframe thead th {\n",
       "        text-align: right;\n",
       "    }\n",
       "</style>\n",
       "<table border=\"1\" class=\"dataframe\">\n",
       "  <thead>\n",
       "    <tr style=\"text-align: right;\">\n",
       "      <th></th>\n",
       "      <th>IRI_mean</th>\n",
       "      <th>IRI_sequence</th>\n",
       "      <th>GM.TS_or_Distance</th>\n",
       "      <th>GM.T</th>\n",
       "      <th>GM.lat_int</th>\n",
       "      <th>GM.lon_int</th>\n",
       "      <th>GM.acc.xyz.z</th>\n",
       "      <th>GM.acc.xyz.y</th>\n",
       "      <th>GM.acc.xyz.x</th>\n",
       "      <th>GM.obd.spd_veh.value</th>\n",
       "    </tr>\n",
       "  </thead>\n",
       "  <tbody>\n",
       "    <tr>\n",
       "      <th>0</th>\n",
       "      <td>4.93354</td>\n",
       "      <td>[6.644882798499999, 5.5573473115, 7.666319952,...</td>\n",
       "      <td>[2021-04-22 01:21:54.349000+00:00, 2021-04-22 ...</td>\n",
       "      <td>[acc.xyz, acc.xyz, acc.xyz, acc.xyz, obd.spd_v...</td>\n",
       "      <td>[55.654713308383236, 55.65471373053892, 55.654...</td>\n",
       "      <td>[12.486686901197604, 12.486686532934131, 12.48...</td>\n",
       "      <td>[0.9727, 0.9727, 0.9727, 0.9727, 0.9922, 0.992...</td>\n",
       "      <td>[-0.1172, -0.1172, -0.1172, -0.1172, -0.1211, ...</td>\n",
       "      <td>[0.1602, 0.1602, 0.1602, 0.1602, 0.1563, 0.156...</td>\n",
       "      <td>[31.04, 31.0, 30.970000000000002, 31.470000000...</td>\n",
       "    </tr>\n",
       "    <tr>\n",
       "      <th>1</th>\n",
       "      <td>4.696225</td>\n",
       "      <td>[5.5573473115, 7.666319952, 4.1605364705, 5.35...</td>\n",
       "      <td>[2021-04-22 01:21:55.068000+00:00, 2021-04-22 ...</td>\n",
       "      <td>[acc.xyz, acc.xyz, acc.xyz, acc.xyz, acc.xyz, ...</td>\n",
       "      <td>[55.654781462897525, 55.65478160070671, 55.654...</td>\n",
       "      <td>[12.48662899293286, 12.486628876325089, 12.486...</td>\n",
       "      <td>[0.9727, 0.9727, 0.9727, 0.9727, 0.9727, 0.972...</td>\n",
       "      <td>[-0.0898, -0.0898, -0.0898, -0.0898, -0.0898, ...</td>\n",
       "      <td>[0.1406, 0.1406, 0.1406, 0.1406, 0.1406, 0.140...</td>\n",
       "      <td>[29.52, 29.48, 29.42, 29.400000000000002, 29.3...</td>\n",
       "    </tr>\n",
       "    <tr>\n",
       "      <th>2</th>\n",
       "      <td>4.699145</td>\n",
       "      <td>[7.666319952, 4.1605364705, 5.359907053000001,...</td>\n",
       "      <td>[2021-04-22 01:21:56.327000+00:00, 2021-04-22 ...</td>\n",
       "      <td>[acc.xyz, acc.xyz, acc.xyz, acc.xyz, acc.xyz, ...</td>\n",
       "      <td>[55.654862308917195, 55.65486260509554, 55.654...</td>\n",
       "      <td>[12.486560579617835, 12.486560331210192, 12.48...</td>\n",
       "      <td>[1.0391, 1.0391, 1.0391, 1.0391, 1.0391, 1.015...</td>\n",
       "      <td>[0.0273, 0.0273, 0.0273, 0.0273, 0.0273, 0.011...</td>\n",
       "      <td>[0.1523, 0.1523, 0.1523, 0.1523, 0.1523, 0.160...</td>\n",
       "      <td>[30.080000000000002, 30.14, 30.2, 30.23, 29.54...</td>\n",
       "    </tr>\n",
       "    <tr>\n",
       "      <th>3</th>\n",
       "      <td>4.397566</td>\n",
       "      <td>[4.1605364705, 5.359907053000001, 4.5512844555...</td>\n",
       "      <td>[2021-04-22 01:21:57.983000+00:00, 2021-04-22 ...</td>\n",
       "      <td>[acc.xyz, acc.xyz, acc.xyz, acc.xyz, acc.xyz, ...</td>\n",
       "      <td>[55.654942544169614, 55.65494265017668, 55.654...</td>\n",
       "      <td>[12.486492964664311, 12.486492879858657, 12.48...</td>\n",
       "      <td>[1.0391, 1.0391, 0.9805, 0.9805, 0.9805, 0.980...</td>\n",
       "      <td>[0.1016, 0.1016, 0.0898, 0.0898, 0.0898, 0.089...</td>\n",
       "      <td>[0.2188, 0.2188, 0.1953, 0.1953, 0.1953, 0.195...</td>\n",
       "      <td>[36.910000000000004, 37.0, 37.07, 37.18, 37.25...</td>\n",
       "    </tr>\n",
       "    <tr>\n",
       "      <th>4</th>\n",
       "      <td>4.400549</td>\n",
       "      <td>[5.359907053000001, 4.5512844555, 5.8527534034...</td>\n",
       "      <td>[2021-04-22 01:21:59.120000+00:00, 2021-04-22 ...</td>\n",
       "      <td>[obd.spd_veh, acc.xyz, acc.xyz, acc.xyz, acc.x...</td>\n",
       "      <td>[55.65502238338658, 55.65502269329073, 55.6550...</td>\n",
       "      <td>[12.486424923322684, 12.486424661341852, 12.48...</td>\n",
       "      <td>[0.9492, 0.9961, 0.9961, 0.9961, 0.9961, 0.996...</td>\n",
       "      <td>[0.0859, 0.0977, 0.0977, 0.0977, 0.0977, 0.097...</td>\n",
       "      <td>[0.1875, 0.1563, 0.1563, 0.1563, 0.1563, 0.156...</td>\n",
       "      <td>[41.2, 41.27, 41.38, 41.46, 41.53, 40.76, 41.6...</td>\n",
       "    </tr>\n",
       "    <tr>\n",
       "      <th>...</th>\n",
       "      <td>...</td>\n",
       "      <td>...</td>\n",
       "      <td>...</td>\n",
       "      <td>...</td>\n",
       "      <td>...</td>\n",
       "      <td>...</td>\n",
       "      <td>...</td>\n",
       "      <td>...</td>\n",
       "      <td>...</td>\n",
       "      <td>...</td>\n",
       "    </tr>\n",
       "    <tr>\n",
       "      <th>2269</th>\n",
       "      <td>4.837542</td>\n",
       "      <td>[1.5040751085, 4.321298265999999, 4.489471549,...</td>\n",
       "      <td>[2021-04-22 01:19:21.517000+00:00, 2021-04-22 ...</td>\n",
       "      <td>[acc.xyz, acc.xyz, acc.xyz, acc.xyz, acc.xyz, ...</td>\n",
       "      <td>[55.65274300664452, 55.65274302657807, 55.6527...</td>\n",
       "      <td>[12.489086900332225, 12.489086601328903, 12.48...</td>\n",
       "      <td>[1.0078, 1.0078, 1.0078, 1.0078, 1.0078, 1.007...</td>\n",
       "      <td>[-0.0938, -0.0938, -0.0938, -0.0938, -0.0938, ...</td>\n",
       "      <td>[0.1563, 0.1563, 0.1563, 0.1563, 0.1563, 0.156...</td>\n",
       "      <td>[28.98, 28.95, 28.93, 28.89, 28.86, 28.8300000...</td>\n",
       "    </tr>\n",
       "    <tr>\n",
       "      <th>2270</th>\n",
       "      <td>5.670908</td>\n",
       "      <td>[4.321298265999999, 4.489471549, 5.3505552615,...</td>\n",
       "      <td>[2021-04-22 01:19:22.841000+00:00, 2021-04-22 ...</td>\n",
       "      <td>[acc.xyz, acc.xyz, obd.spd_veh, acc.xyz, acc.x...</td>\n",
       "      <td>[55.65275300662252, 55.65275303311258, 55.6527...</td>\n",
       "      <td>[12.488921900662252, 12.488921503311257, 12.48...</td>\n",
       "      <td>[0.9922, 0.9922, 0.9922, 0.9922, 1.0117, 1.011...</td>\n",
       "      <td>[-0.3047, -0.3047, -0.3047, -0.3047, -0.3164, ...</td>\n",
       "      <td>[0.1953, 0.1953, 0.1953, 0.1953, 0.1758, 0.175...</td>\n",
       "      <td>[22.89, 22.73, 27.77, 22.56, 28.03, 22.39, 22....</td>\n",
       "    </tr>\n",
       "    <tr>\n",
       "      <th>2271</th>\n",
       "      <td>6.120778</td>\n",
       "      <td>[4.489471549, 5.3505552615, 8.522308649]</td>\n",
       "      <td>[2021-04-22 01:19:24.664000+00:00, 2021-04-22 ...</td>\n",
       "      <td>[acc.xyz, acc.xyz, obd.spd_veh, acc.xyz, acc.x...</td>\n",
       "      <td>[55.65276301754386, 55.65276303157895, 55.6527...</td>\n",
       "      <td>[12.488764824561404, 12.488764684210526, 12.48...</td>\n",
       "      <td>[0.9844, 0.9844, 0.9844, 0.9844, 0.9844, 0.988...</td>\n",
       "      <td>[-0.3125, -0.3125, -0.3125, -0.3125, -0.3125, ...</td>\n",
       "      <td>[0.1758, 0.1758, 0.1758, 0.1758, 0.1758, 0.160...</td>\n",
       "      <td>[7.390000000000001, 12.61, 7.22, 7.05, 6.88, 6...</td>\n",
       "    </tr>\n",
       "    <tr>\n",
       "      <th>2272</th>\n",
       "      <td>6.936432</td>\n",
       "      <td>[5.3505552615, 8.522308649]</td>\n",
       "      <td>[2021-04-22 01:19:25.219000+00:00, 2021-04-22 ...</td>\n",
       "      <td>[acc.xyz, acc.xyz, acc.xyz, acc.xyz, obd.spd_v...</td>\n",
       "      <td>[55.652774221453285, 55.65277434602076, 55.652...</td>\n",
       "      <td>[12.488582802768166, 12.488580754325259, 12.48...</td>\n",
       "      <td>[0.9883, 0.9883, 1.0, 1.0, 1.0, 1.0, 1.0, 0.99...</td>\n",
       "      <td>[-0.1523, -0.1523, -0.1523, -0.1328, -0.1328, ...</td>\n",
       "      <td>[0.168, 0.168, 0.168, 0.1602, 0.1602, 0.1602, ...</td>\n",
       "      <td>[3.92, 3.85, 3.8000000000000003, 3.75, 4.85000...</td>\n",
       "    </tr>\n",
       "    <tr>\n",
       "      <th>2273</th>\n",
       "      <td>8.522309</td>\n",
       "      <td>[8.522308649]</td>\n",
       "      <td>[2021-04-22 01:19:25.363000+00:00, 2021-04-22 ...</td>\n",
       "      <td>[acc.xyz, acc.xyz, acc.xyz, obd.spd_veh, acc.x...</td>\n",
       "      <td>[55.65278319031142, 55.65278337716263, 55.6527...</td>\n",
       "      <td>[12.488435314878892, 12.488432242214532, 12.48...</td>\n",
       "      <td>[0.9922, 0.9922, 0.9922, 0.9922, 0.9922, 0.992...</td>\n",
       "      <td>[-0.1289, -0.1289, -0.1289, -0.1289, -0.1289, ...</td>\n",
       "      <td>[0.1641, 0.1641, 0.1641, 0.1641, 0.1641, 0.156...</td>\n",
       "      <td>[3.45, 3.39, 3.35, 3.3000000000000003, 3.25, 3...</td>\n",
       "    </tr>\n",
       "  </tbody>\n",
       "</table>\n",
       "<p>2274 rows × 10 columns</p>\n",
       "</div>"
      ],
      "text/plain": [
       "      IRI_mean                                       IRI_sequence  \\\n",
       "0      4.93354  [6.644882798499999, 5.5573473115, 7.666319952,...   \n",
       "1     4.696225  [5.5573473115, 7.666319952, 4.1605364705, 5.35...   \n",
       "2     4.699145  [7.666319952, 4.1605364705, 5.359907053000001,...   \n",
       "3     4.397566  [4.1605364705, 5.359907053000001, 4.5512844555...   \n",
       "4     4.400549  [5.359907053000001, 4.5512844555, 5.8527534034...   \n",
       "...        ...                                                ...   \n",
       "2269  4.837542  [1.5040751085, 4.321298265999999, 4.489471549,...   \n",
       "2270  5.670908  [4.321298265999999, 4.489471549, 5.3505552615,...   \n",
       "2271  6.120778           [4.489471549, 5.3505552615, 8.522308649]   \n",
       "2272  6.936432                        [5.3505552615, 8.522308649]   \n",
       "2273  8.522309                                      [8.522308649]   \n",
       "\n",
       "                                      GM.TS_or_Distance  \\\n",
       "0     [2021-04-22 01:21:54.349000+00:00, 2021-04-22 ...   \n",
       "1     [2021-04-22 01:21:55.068000+00:00, 2021-04-22 ...   \n",
       "2     [2021-04-22 01:21:56.327000+00:00, 2021-04-22 ...   \n",
       "3     [2021-04-22 01:21:57.983000+00:00, 2021-04-22 ...   \n",
       "4     [2021-04-22 01:21:59.120000+00:00, 2021-04-22 ...   \n",
       "...                                                 ...   \n",
       "2269  [2021-04-22 01:19:21.517000+00:00, 2021-04-22 ...   \n",
       "2270  [2021-04-22 01:19:22.841000+00:00, 2021-04-22 ...   \n",
       "2271  [2021-04-22 01:19:24.664000+00:00, 2021-04-22 ...   \n",
       "2272  [2021-04-22 01:19:25.219000+00:00, 2021-04-22 ...   \n",
       "2273  [2021-04-22 01:19:25.363000+00:00, 2021-04-22 ...   \n",
       "\n",
       "                                                   GM.T  \\\n",
       "0     [acc.xyz, acc.xyz, acc.xyz, acc.xyz, obd.spd_v...   \n",
       "1     [acc.xyz, acc.xyz, acc.xyz, acc.xyz, acc.xyz, ...   \n",
       "2     [acc.xyz, acc.xyz, acc.xyz, acc.xyz, acc.xyz, ...   \n",
       "3     [acc.xyz, acc.xyz, acc.xyz, acc.xyz, acc.xyz, ...   \n",
       "4     [obd.spd_veh, acc.xyz, acc.xyz, acc.xyz, acc.x...   \n",
       "...                                                 ...   \n",
       "2269  [acc.xyz, acc.xyz, acc.xyz, acc.xyz, acc.xyz, ...   \n",
       "2270  [acc.xyz, acc.xyz, obd.spd_veh, acc.xyz, acc.x...   \n",
       "2271  [acc.xyz, acc.xyz, obd.spd_veh, acc.xyz, acc.x...   \n",
       "2272  [acc.xyz, acc.xyz, acc.xyz, acc.xyz, obd.spd_v...   \n",
       "2273  [acc.xyz, acc.xyz, acc.xyz, obd.spd_veh, acc.x...   \n",
       "\n",
       "                                             GM.lat_int  \\\n",
       "0     [55.654713308383236, 55.65471373053892, 55.654...   \n",
       "1     [55.654781462897525, 55.65478160070671, 55.654...   \n",
       "2     [55.654862308917195, 55.65486260509554, 55.654...   \n",
       "3     [55.654942544169614, 55.65494265017668, 55.654...   \n",
       "4     [55.65502238338658, 55.65502269329073, 55.6550...   \n",
       "...                                                 ...   \n",
       "2269  [55.65274300664452, 55.65274302657807, 55.6527...   \n",
       "2270  [55.65275300662252, 55.65275303311258, 55.6527...   \n",
       "2271  [55.65276301754386, 55.65276303157895, 55.6527...   \n",
       "2272  [55.652774221453285, 55.65277434602076, 55.652...   \n",
       "2273  [55.65278319031142, 55.65278337716263, 55.6527...   \n",
       "\n",
       "                                             GM.lon_int  \\\n",
       "0     [12.486686901197604, 12.486686532934131, 12.48...   \n",
       "1     [12.48662899293286, 12.486628876325089, 12.486...   \n",
       "2     [12.486560579617835, 12.486560331210192, 12.48...   \n",
       "3     [12.486492964664311, 12.486492879858657, 12.48...   \n",
       "4     [12.486424923322684, 12.486424661341852, 12.48...   \n",
       "...                                                 ...   \n",
       "2269  [12.489086900332225, 12.489086601328903, 12.48...   \n",
       "2270  [12.488921900662252, 12.488921503311257, 12.48...   \n",
       "2271  [12.488764824561404, 12.488764684210526, 12.48...   \n",
       "2272  [12.488582802768166, 12.488580754325259, 12.48...   \n",
       "2273  [12.488435314878892, 12.488432242214532, 12.48...   \n",
       "\n",
       "                                           GM.acc.xyz.z  \\\n",
       "0     [0.9727, 0.9727, 0.9727, 0.9727, 0.9922, 0.992...   \n",
       "1     [0.9727, 0.9727, 0.9727, 0.9727, 0.9727, 0.972...   \n",
       "2     [1.0391, 1.0391, 1.0391, 1.0391, 1.0391, 1.015...   \n",
       "3     [1.0391, 1.0391, 0.9805, 0.9805, 0.9805, 0.980...   \n",
       "4     [0.9492, 0.9961, 0.9961, 0.9961, 0.9961, 0.996...   \n",
       "...                                                 ...   \n",
       "2269  [1.0078, 1.0078, 1.0078, 1.0078, 1.0078, 1.007...   \n",
       "2270  [0.9922, 0.9922, 0.9922, 0.9922, 1.0117, 1.011...   \n",
       "2271  [0.9844, 0.9844, 0.9844, 0.9844, 0.9844, 0.988...   \n",
       "2272  [0.9883, 0.9883, 1.0, 1.0, 1.0, 1.0, 1.0, 0.99...   \n",
       "2273  [0.9922, 0.9922, 0.9922, 0.9922, 0.9922, 0.992...   \n",
       "\n",
       "                                           GM.acc.xyz.y  \\\n",
       "0     [-0.1172, -0.1172, -0.1172, -0.1172, -0.1211, ...   \n",
       "1     [-0.0898, -0.0898, -0.0898, -0.0898, -0.0898, ...   \n",
       "2     [0.0273, 0.0273, 0.0273, 0.0273, 0.0273, 0.011...   \n",
       "3     [0.1016, 0.1016, 0.0898, 0.0898, 0.0898, 0.089...   \n",
       "4     [0.0859, 0.0977, 0.0977, 0.0977, 0.0977, 0.097...   \n",
       "...                                                 ...   \n",
       "2269  [-0.0938, -0.0938, -0.0938, -0.0938, -0.0938, ...   \n",
       "2270  [-0.3047, -0.3047, -0.3047, -0.3047, -0.3164, ...   \n",
       "2271  [-0.3125, -0.3125, -0.3125, -0.3125, -0.3125, ...   \n",
       "2272  [-0.1523, -0.1523, -0.1523, -0.1328, -0.1328, ...   \n",
       "2273  [-0.1289, -0.1289, -0.1289, -0.1289, -0.1289, ...   \n",
       "\n",
       "                                           GM.acc.xyz.x  \\\n",
       "0     [0.1602, 0.1602, 0.1602, 0.1602, 0.1563, 0.156...   \n",
       "1     [0.1406, 0.1406, 0.1406, 0.1406, 0.1406, 0.140...   \n",
       "2     [0.1523, 0.1523, 0.1523, 0.1523, 0.1523, 0.160...   \n",
       "3     [0.2188, 0.2188, 0.1953, 0.1953, 0.1953, 0.195...   \n",
       "4     [0.1875, 0.1563, 0.1563, 0.1563, 0.1563, 0.156...   \n",
       "...                                                 ...   \n",
       "2269  [0.1563, 0.1563, 0.1563, 0.1563, 0.1563, 0.156...   \n",
       "2270  [0.1953, 0.1953, 0.1953, 0.1953, 0.1758, 0.175...   \n",
       "2271  [0.1758, 0.1758, 0.1758, 0.1758, 0.1758, 0.160...   \n",
       "2272  [0.168, 0.168, 0.168, 0.1602, 0.1602, 0.1602, ...   \n",
       "2273  [0.1641, 0.1641, 0.1641, 0.1641, 0.1641, 0.156...   \n",
       "\n",
       "                                   GM.obd.spd_veh.value  \n",
       "0     [31.04, 31.0, 30.970000000000002, 31.470000000...  \n",
       "1     [29.52, 29.48, 29.42, 29.400000000000002, 29.3...  \n",
       "2     [30.080000000000002, 30.14, 30.2, 30.23, 29.54...  \n",
       "3     [36.910000000000004, 37.0, 37.07, 37.18, 37.25...  \n",
       "4     [41.2, 41.27, 41.38, 41.46, 41.53, 40.76, 41.6...  \n",
       "...                                                 ...  \n",
       "2269  [28.98, 28.95, 28.93, 28.89, 28.86, 28.8300000...  \n",
       "2270  [22.89, 22.73, 27.77, 22.56, 28.03, 22.39, 22....  \n",
       "2271  [7.390000000000001, 12.61, 7.22, 7.05, 6.88, 6...  \n",
       "2272  [3.92, 3.85, 3.8000000000000003, 3.75, 4.85000...  \n",
       "2273  [3.45, 3.39, 3.35, 3.3000000000000003, 3.25, 3...  \n",
       "\n",
       "[2274 rows x 10 columns]"
      ]
     },
     "execution_count": 92,
     "metadata": {},
     "output_type": "execute_result"
    }
   ],
   "source": [
    "# Show data\n",
    "df0"
   ]
  },
  {
   "cell_type": "code",
   "execution_count": 96,
   "id": "e25e5cbe-9332-40a5-8879-9222163d03e4",
   "metadata": {},
   "outputs": [
    {
     "name": "stdout",
     "output_type": "stream",
     "text": [
      "For the first 5 rows (of 100m each) in df0, print number of measurements: \n",
      "z-axis:        [(2539,), (2661,), (2507,), (2396,), (2355,), (2536,)]\n",
      "speed:         [(461,), (484,), (455,), (426,), (424,), (459,)]\n",
      "IRI_sequence:  [(10,), (10,), (10,), (10,), (10,), (10,)]\n",
      "\n",
      "\n",
      "For the first 5 rows (of 100m each) in df1, print number of measurements: \n",
      "z-axis:        [(1693,), (1679,), (1602,), (1641,), (1706,), (3148,)]\n",
      "speed:         [(327,), (317,), (310,), (315,), (323,), (589,)]\n",
      "IRI_sequence:  [(10,), (10,), (10,), (10,), (10,), (10,)]\n",
      "\n",
      "\n",
      " I.e. each variable cell contain an array of varying length (!)\n"
     ]
    }
   ],
   "source": [
    "print('For the first 5 rows (of 100m each) in df0, print number of measurements: ')\n",
    "print('z-axis:       ', [df0['GM.acc.xyz.z'][i].shape for i in range(0,6)])\n",
    "print('speed:        ', [df0['GM.obd.spd_veh.value'][i].shape for i in range(0,6)])\n",
    "print('IRI_sequence: ', [df0['IRI_sequence'][i].shape for i in range(0,6)])\n",
    "\n",
    "print('\\n\\nFor the first 5 rows (of 100m each) in df1, print number of measurements: ')\n",
    "print('z-axis:       ', [df1['GM.acc.xyz.z'][i].shape for i in range(0,6)])\n",
    "print('speed:        ', [df1['GM.obd.spd_veh.value'][i].shape for i in range(0,6)])\n",
    "print('IRI_sequence: ', [df1['IRI_sequence'][i].shape for i in range(0,6)])\n",
    "\n",
    "print('\\n\\n I.e. each variable cell contain an array of varying length (!)')"
   ]
  },
  {
   "cell_type": "code",
   "execution_count": 99,
   "id": "0f09a164-d365-4dda-bfa1-6f3af821bf60",
   "metadata": {},
   "outputs": [],
   "source": [
    "# Merge two dataframes (MANGLER)"
   ]
  },
  {
   "cell_type": "markdown",
   "id": "044e5708-2322-42e2-830e-920cb82ffade",
   "metadata": {},
   "source": [
    "### Exploring z-variable"
   ]
  },
  {
   "cell_type": "markdown",
   "id": "bd757dd9-fc7f-4381-b84f-8bb6ea059bda",
   "metadata": {},
   "source": [
    "Let's plot the first 100 observations of the first row. It is seen that the z-variable is inherently discrete."
   ]
  },
  {
   "cell_type": "code",
   "execution_count": 57,
   "id": "2a468885-df48-4cb4-9707-6cd6f426714f",
   "metadata": {},
   "outputs": [
    {
     "data": {
      "text/plain": [
       "[<matplotlib.lines.Line2D at 0x14aecca90>]"
      ]
     },
     "execution_count": 57,
     "metadata": {},
     "output_type": "execute_result"
    },
    {
     "data": {
      "image/png": "[encoded data removed]",
      "text/plain": [
       "<Figure size 432x288 with 2 Axes>"
      ]
     },
     "metadata": {},
     "output_type": "display_data"
    }
   ],
   "source": [
    "fig, axs = plt.subplots(2)\n",
    "fig.suptitle('Acceleration of first 100m')\n",
    "axs[0].plot(df0['GM.acc.xyz.z'][0][0:100])\n",
    "axs[1].plot(df0['GM.acc.xyz.z'][0])"
   ]
  },
  {
   "cell_type": "markdown",
   "id": "e44d4b4e-e39a-459e-be5a-8f9b68404d4d",
   "metadata": {},
   "source": [
    "## Data visualisations"
   ]
  },
  {
   "cell_type": "markdown",
   "id": "e9185f08-f30b-47ea-9a16-47dd6b50ede4",
   "metadata": {},
   "source": [
    "### IRI-mean"
   ]
  },
  {
   "cell_type": "markdown",
   "id": "5a7fce14-e480-4776-a4f4-1581b1e5f425",
   "metadata": {},
   "source": [
    "Below, the IRI-mean values are plotted. A threshold value of IRI=5 seems reasonable to distinguish anomalies."
   ]
  },
  {
   "cell_type": "code",
   "execution_count": 98,
   "id": "a5f1961e-2015-40e1-af44-30deaba0f66f",
   "metadata": {},
   "outputs": [
    {
     "data": {
      "text/plain": [
       "<matplotlib.lines.Line2D at 0x29cb55c40>"
      ]
     },
     "execution_count": 98,
     "metadata": {},
     "output_type": "execute_result"
    },
    {
     "data": {
      "image/png": "[encoded data removed]",
      "text/plain": [
       "<Figure size 432x288 with 1 Axes>"
      ]
     },
     "metadata": {},
     "output_type": "display_data"
    }
   ],
   "source": [
    "plt.hist(df0['IRI_mean'], bins=20);\n",
    "plt.axvline(x=5, color='r', linestyle='dashed', linewidth=2)"
   ]
  },
  {
   "cell_type": "code",
   "execution_count": null,
   "id": "a869e20b-25dc-43c5-9621-b159aaa05edc",
   "metadata": {},
   "outputs": [],
   "source": []
  },
  {
   "cell_type": "code",
   "execution_count": null,
   "id": "c7338b7c-fb3f-4d29-b5a4-d9eae71a89cf",
   "metadata": {},
   "outputs": [],
   "source": []
  }
 ],
 "metadata": {
  "kernelspec": {
   "display_name": "Python 3 (ipykernel)",
   "language": "python",
   "name": "python3"
  },
  "language_info": {
   "codemirror_mode": {
    "name": "ipython",
    "version": 3
   },
   "file_extension": ".py",
   "mimetype": "text/x-python",
   "name": "python",
   "nbconvert_exporter": "python",
   "pygments_lexer": "ipython3",
   "version": "3.9.7"
  }
 },
 "nbformat": 4,
 "nbformat_minor": 5
}
