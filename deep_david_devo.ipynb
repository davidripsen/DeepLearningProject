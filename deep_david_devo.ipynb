{
 "cells": [
  {
   "cell_type": "code",
   "execution_count": 18,
   "id": "1_kAIwfZIDw-",
   "metadata": {
    "id": "1_kAIwfZIDw-"
   },
   "outputs": [],
   "source": [
    "!pip install -q -U watermark"
   ]
  },
  {
   "cell_type": "code",
   "execution_count": 19,
   "id": "t6wC0UJ1IHHH",
   "metadata": {
    "colab": {
     "base_uri": "https://localhost:8080/"
    },
    "id": "t6wC0UJ1IHHH",
    "outputId": "ae7b8ab0-5aa4-4128-d863-67590293febc"
   },
   "outputs": [
    {
     "name": "stdout",
     "output_type": "stream",
     "text": [
      "\u001b[31mERROR: pip's dependency resolver does not currently take into account all the packages that are installed. This behaviour is the source of the following dependency conflicts.\n",
      "google-colab 1.0.0 requires pandas~=1.1.0; python_version >= \"3.0\", but you have pandas 1.3.4 which is incompatible.\u001b[0m\n"
     ]
    }
   ],
   "source": [
    "!pip install -qq -U pandas"
   ]
  },
  {
   "cell_type": "code",
   "execution_count": 20,
   "id": "MwgiJJOzJWuG",
   "metadata": {
    "colab": {
     "base_uri": "https://localhost:8080/"
    },
    "id": "MwgiJJOzJWuG",
    "outputId": "ece66730-4e45-41e7-99e0-5c7af3ef4f08"
   },
   "outputs": [
    {
     "name": "stdout",
     "output_type": "stream",
     "text": [
      "Requirement already satisfied: pickle5 in /usr/local/lib/python3.7/dist-packages (0.0.11)\n"
     ]
    }
   ],
   "source": [
    "!pip install pickle5"
   ]
  },
  {
   "cell_type": "code",
   "execution_count": 21,
   "id": "23f8b2cd",
   "metadata": {
    "colab": {
     "base_uri": "https://localhost:8080/"
    },
    "id": "23f8b2cd",
    "outputId": "2ef3a4e2-c7d6-4fac-854d-cdd80bf93722"
   },
   "outputs": [
    {
     "name": "stdout",
     "output_type": "stream",
     "text": [
      "Python implementation: CPython\n",
      "Python version       : 3.7.12\n",
      "IPython version      : 5.5.0\n",
      "\n",
      "numpy : 1.19.5\n",
      "pandas: 1.3.4\n",
      "torch : 1.9.0+cu111\n",
      "\n"
     ]
    }
   ],
   "source": [
    "%reload_ext watermark\n",
    "%watermark -v -p numpy,pandas,torch"
   ]
  },
  {
   "cell_type": "code",
   "execution_count": 22,
   "id": "xuSay1xBLiYH",
   "metadata": {
    "colab": {
     "base_uri": "https://localhost:8080/",
     "height": 392
    },
    "id": "xuSay1xBLiYH",
    "outputId": "171426e4-cdf4-4e02-95d0-927875fbf5d4"
   },
   "outputs": [
    {
     "name": "stdout",
     "output_type": "stream",
     "text": [
      "Found existing installation: pandas 1.3.4\n",
      "Uninstalling pandas-1.3.4:\n",
      "  Would remove:\n",
      "    /usr/local/lib/python3.7/dist-packages/pandas-1.3.4.dist-info/*\n",
      "    /usr/local/lib/python3.7/dist-packages/pandas/*\n",
      "Proceed (y/n)? y\n",
      "  Successfully uninstalled pandas-1.3.4\n",
      "Collecting pandas\n",
      "  Using cached pandas-1.3.4-cp37-cp37m-manylinux_2_17_x86_64.manylinux2014_x86_64.whl (11.3 MB)\n",
      "Requirement already satisfied: pytz>=2017.3 in /usr/local/lib/python3.7/dist-packages (from pandas) (2018.9)\n",
      "Requirement already satisfied: python-dateutil>=2.7.3 in /usr/local/lib/python3.7/dist-packages (from pandas) (2.8.2)\n",
      "Requirement already satisfied: numpy>=1.17.3 in /usr/local/lib/python3.7/dist-packages (from pandas) (1.19.5)\n",
      "Requirement already satisfied: six>=1.5 in /usr/local/lib/python3.7/dist-packages (from python-dateutil>=2.7.3->pandas) (1.15.0)\n",
      "Installing collected packages: pandas\n",
      "\u001b[31mERROR: pip's dependency resolver does not currently take into account all the packages that are installed. This behaviour is the source of the following dependency conflicts.\n",
      "google-colab 1.0.0 requires pandas~=1.1.0; python_version >= \"3.0\", but you have pandas 1.3.4 which is incompatible.\u001b[0m\n",
      "Successfully installed pandas-1.3.4\n"
     ]
    },
    {
     "data": {
      "application/vnd.colab-display-data+json": {
       "pip_warning": {
        "packages": [
         "pandas"
        ]
       }
      }
     },
     "metadata": {},
     "output_type": "display_data"
    }
   ],
   "source": [
    "!pip uninstall pandas\n",
    "!pip install --user pandas"
   ]
  },
  {
   "cell_type": "code",
   "execution_count": 23,
   "id": "E9BLQHojeyn4",
   "metadata": {
    "colab": {
     "base_uri": "https://localhost:8080/",
     "height": 562
    },
    "id": "E9BLQHojeyn4",
    "outputId": "0dfc8403-ada2-473f-b5df-86613e010b68"
   },
   "outputs": [
    {
     "name": "stdout",
     "output_type": "stream",
     "text": [
      "Found existing installation: numpy 1.19.5\n",
      "Uninstalling numpy-1.19.5:\n",
      "  Would remove:\n",
      "    /usr/bin/f2py\n",
      "    /usr/local/bin/f2py\n",
      "    /usr/local/bin/f2py3\n",
      "    /usr/local/bin/f2py3.7\n",
      "    /usr/local/lib/python3.7/dist-packages/numpy-1.19.5.dist-info/*\n",
      "    /usr/local/lib/python3.7/dist-packages/numpy.libs/libgfortran-2e0d59d6.so.5.0.0\n",
      "    /usr/local/lib/python3.7/dist-packages/numpy.libs/libopenblasp-r0-09e95953.3.13.so\n",
      "    /usr/local/lib/python3.7/dist-packages/numpy.libs/libquadmath-2d0c479f.so.0.0.0\n",
      "    /usr/local/lib/python3.7/dist-packages/numpy.libs/libz-eb09ad1d.so.1.2.3\n",
      "    /usr/local/lib/python3.7/dist-packages/numpy/*\n",
      "Proceed (y/n)? y\n",
      "  Successfully uninstalled numpy-1.19.5\n",
      "Collecting numpy\n",
      "  Downloading numpy-1.21.4-cp37-cp37m-manylinux_2_12_x86_64.manylinux2010_x86_64.whl (15.7 MB)\n",
      "\u001b[K     |████████████████████████████████| 15.7 MB 62 kB/s \n",
      "\u001b[?25hInstalling collected packages: numpy\n",
      "\u001b[33m  WARNING: The scripts f2py, f2py3 and f2py3.7 are installed in '/root/.local/bin' which is not on PATH.\n",
      "  Consider adding this directory to PATH or, if you prefer to suppress this warning, use --no-warn-script-location.\u001b[0m\n",
      "\u001b[31mERROR: pip's dependency resolver does not currently take into account all the packages that are installed. This behaviour is the source of the following dependency conflicts.\n",
      "tensorflow 2.6.0 requires numpy~=1.19.2, but you have numpy 1.21.4 which is incompatible.\n",
      "google-colab 1.0.0 requires pandas~=1.1.0; python_version >= \"3.0\", but you have pandas 1.3.4 which is incompatible.\n",
      "datascience 0.10.6 requires folium==0.2.1, but you have folium 0.8.3 which is incompatible.\n",
      "albumentations 0.1.12 requires imgaug<0.2.7,>=0.2.5, but you have imgaug 0.2.9 which is incompatible.\u001b[0m\n",
      "Successfully installed numpy-1.21.4\n"
     ]
    },
    {
     "data": {
      "application/vnd.colab-display-data+json": {
       "pip_warning": {
        "packages": [
         "numpy"
        ]
       }
      }
     },
     "metadata": {},
     "output_type": "display_data"
    }
   ],
   "source": [
    "!pip uninstall numpy\n",
    "!pip install --user numpy"
   ]
  },
  {
   "cell_type": "code",
   "execution_count": 1,
   "id": "896a6b14",
   "metadata": {
    "colab": {
     "base_uri": "https://localhost:8080/"
    },
    "id": "896a6b14",
    "outputId": "fbe0075b-74c1-4cf2-9e85-2ee767fc4179"
   },
   "outputs": [
    {
     "data": {
      "text/plain": [
       "<torch._C.Generator at 0x1492bc810>"
      ]
     },
     "execution_count": 1,
     "metadata": {},
     "output_type": "execute_result"
    }
   ],
   "source": [
    "import matplotlib.pyplot as plt\n",
    "from IPython.display import Image, display, clear_output\n",
    "import numpy as np\n",
    "%matplotlib nbagg\n",
    "%matplotlib inline\n",
    "import seaborn as sns\n",
    "import pandas as pd\n",
    "sns.set_style(\"whitegrid\")\n",
    "import pickle\n",
    "import torch\n",
    "from sklearn.model_selection import train_test_split\n",
    "from torch import nn, optim\n",
    "import torch.nn.functional as F\n",
    "import copy\n",
    "\n",
    "RANDOM_SEED = 56\n",
    "np.random.seed(RANDOM_SEED)\n",
    "torch.manual_seed(RANDOM_SEED)"
   ]
  },
  {
   "cell_type": "code",
   "execution_count": 2,
   "id": "6a32487f",
   "metadata": {
    "id": "6a32487f"
   },
   "outputs": [],
   "source": [
    "df = pickle.load( open( \"data/df_merged.pickle\", \"rb\" ) )"
   ]
  },
  {
   "cell_type": "code",
   "execution_count": 3,
   "id": "d000068d",
   "metadata": {
    "id": "d000068d"
   },
   "outputs": [
    {
     "data": {
      "text/plain": [
       "device(type='cpu')"
      ]
     },
     "execution_count": 3,
     "metadata": {},
     "output_type": "execute_result"
    }
   ],
   "source": [
    "device = torch.device(\"cuda\" if torch.cuda.is_available() else \"cpu\")\n",
    "device"
   ]
  },
  {
   "cell_type": "code",
   "execution_count": 4,
   "id": "207356d2",
   "metadata": {
    "colab": {
     "base_uri": "https://localhost:8080/",
     "height": 164
    },
    "id": "207356d2",
    "outputId": "a0270e1d-5695-4518-a452-218c0d4f69dd"
   },
   "outputs": [
    {
     "data": {
      "text/html": [
       "<div>\n",
       "<style scoped>\n",
       "    .dataframe tbody tr th:only-of-type {\n",
       "        vertical-align: middle;\n",
       "    }\n",
       "\n",
       "    .dataframe tbody tr th {\n",
       "        vertical-align: top;\n",
       "    }\n",
       "\n",
       "    .dataframe thead th {\n",
       "        text-align: right;\n",
       "    }\n",
       "</style>\n",
       "<table border=\"1\" class=\"dataframe\">\n",
       "  <thead>\n",
       "    <tr style=\"text-align: right;\">\n",
       "      <th></th>\n",
       "      <th>IRI_mean</th>\n",
       "      <th>IRI_sequence</th>\n",
       "      <th>GM.TS_or_Distance</th>\n",
       "      <th>GM.T</th>\n",
       "      <th>GM.lat_int</th>\n",
       "      <th>GM.lon_int</th>\n",
       "      <th>GM.acc.xyz.z</th>\n",
       "      <th>GM.acc.xyz.y</th>\n",
       "      <th>GM.acc.xyz.x</th>\n",
       "      <th>GM.obd.spd_veh.value</th>\n",
       "    </tr>\n",
       "  </thead>\n",
       "  <tbody>\n",
       "    <tr>\n",
       "      <th>0</th>\n",
       "      <td>4.93354</td>\n",
       "      <td>[6.644882798499999, 5.5573473115, 7.666319952,...</td>\n",
       "      <td>[2021-04-22 01:21:54.349000+00:00, 2021-04-22 ...</td>\n",
       "      <td>[acc.xyz, acc.xyz, acc.xyz, acc.xyz, obd.spd_v...</td>\n",
       "      <td>[55.654713308383236, 55.65471373053892, 55.654...</td>\n",
       "      <td>[12.486686901197604, 12.486686532934131, 12.48...</td>\n",
       "      <td>[0.9727, 0.9727, 0.9727, 0.9727, 0.9922, 0.992...</td>\n",
       "      <td>[-0.1172, -0.1172, -0.1172, -0.1172, -0.1211, ...</td>\n",
       "      <td>[0.1602, 0.1602, 0.1602, 0.1602, 0.1563, 0.156...</td>\n",
       "      <td>[31.04, 31.0, 30.970000000000002, 31.470000000...</td>\n",
       "    </tr>\n",
       "    <tr>\n",
       "      <th>1</th>\n",
       "      <td>4.696225</td>\n",
       "      <td>[5.5573473115, 7.666319952, 4.1605364705, 5.35...</td>\n",
       "      <td>[2021-04-22 01:21:55.068000+00:00, 2021-04-22 ...</td>\n",
       "      <td>[acc.xyz, acc.xyz, acc.xyz, acc.xyz, acc.xyz, ...</td>\n",
       "      <td>[55.654781462897525, 55.65478160070671, 55.654...</td>\n",
       "      <td>[12.48662899293286, 12.486628876325089, 12.486...</td>\n",
       "      <td>[0.9727, 0.9727, 0.9727, 0.9727, 0.9727, 0.972...</td>\n",
       "      <td>[-0.0898, -0.0898, -0.0898, -0.0898, -0.0898, ...</td>\n",
       "      <td>[0.1406, 0.1406, 0.1406, 0.1406, 0.1406, 0.140...</td>\n",
       "      <td>[29.52, 29.48, 29.42, 29.400000000000002, 29.3...</td>\n",
       "    </tr>\n",
       "    <tr>\n",
       "      <th>2</th>\n",
       "      <td>4.699145</td>\n",
       "      <td>[7.666319952, 4.1605364705, 5.359907053000001,...</td>\n",
       "      <td>[2021-04-22 01:21:56.327000+00:00, 2021-04-22 ...</td>\n",
       "      <td>[acc.xyz, acc.xyz, acc.xyz, acc.xyz, acc.xyz, ...</td>\n",
       "      <td>[55.654862308917195, 55.65486260509554, 55.654...</td>\n",
       "      <td>[12.486560579617835, 12.486560331210192, 12.48...</td>\n",
       "      <td>[1.0391, 1.0391, 1.0391, 1.0391, 1.0391, 1.015...</td>\n",
       "      <td>[0.0273, 0.0273, 0.0273, 0.0273, 0.0273, 0.011...</td>\n",
       "      <td>[0.1523, 0.1523, 0.1523, 0.1523, 0.1523, 0.160...</td>\n",
       "      <td>[30.080000000000002, 30.14, 30.2, 30.23, 29.54...</td>\n",
       "    </tr>\n",
       "    <tr>\n",
       "      <th>3</th>\n",
       "      <td>4.397566</td>\n",
       "      <td>[4.1605364705, 5.359907053000001, 4.5512844555...</td>\n",
       "      <td>[2021-04-22 01:21:57.983000+00:00, 2021-04-22 ...</td>\n",
       "      <td>[acc.xyz, acc.xyz, acc.xyz, acc.xyz, acc.xyz, ...</td>\n",
       "      <td>[55.654942544169614, 55.65494265017668, 55.654...</td>\n",
       "      <td>[12.486492964664311, 12.486492879858657, 12.48...</td>\n",
       "      <td>[1.0391, 1.0391, 0.9805, 0.9805, 0.9805, 0.980...</td>\n",
       "      <td>[0.1016, 0.1016, 0.0898, 0.0898, 0.0898, 0.089...</td>\n",
       "      <td>[0.2188, 0.2188, 0.1953, 0.1953, 0.1953, 0.195...</td>\n",
       "      <td>[36.910000000000004, 37.0, 37.07, 37.18, 37.25...</td>\n",
       "    </tr>\n",
       "    <tr>\n",
       "      <th>4</th>\n",
       "      <td>4.400549</td>\n",
       "      <td>[5.359907053000001, 4.5512844555, 5.8527534034...</td>\n",
       "      <td>[2021-04-22 01:21:59.120000+00:00, 2021-04-22 ...</td>\n",
       "      <td>[obd.spd_veh, acc.xyz, acc.xyz, acc.xyz, acc.x...</td>\n",
       "      <td>[55.65502238338658, 55.65502269329073, 55.6550...</td>\n",
       "      <td>[12.486424923322684, 12.486424661341852, 12.48...</td>\n",
       "      <td>[0.9492, 0.9961, 0.9961, 0.9961, 0.9961, 0.996...</td>\n",
       "      <td>[0.0859, 0.0977, 0.0977, 0.0977, 0.0977, 0.097...</td>\n",
       "      <td>[0.1875, 0.1563, 0.1563, 0.1563, 0.1563, 0.156...</td>\n",
       "      <td>[41.2, 41.27, 41.38, 41.46, 41.53, 40.76, 41.6...</td>\n",
       "    </tr>\n",
       "  </tbody>\n",
       "</table>\n",
       "</div>"
      ],
      "text/plain": [
       "   IRI_mean                                       IRI_sequence  \\\n",
       "0   4.93354  [6.644882798499999, 5.5573473115, 7.666319952,...   \n",
       "1  4.696225  [5.5573473115, 7.666319952, 4.1605364705, 5.35...   \n",
       "2  4.699145  [7.666319952, 4.1605364705, 5.359907053000001,...   \n",
       "3  4.397566  [4.1605364705, 5.359907053000001, 4.5512844555...   \n",
       "4  4.400549  [5.359907053000001, 4.5512844555, 5.8527534034...   \n",
       "\n",
       "                                   GM.TS_or_Distance  \\\n",
       "0  [2021-04-22 01:21:54.349000+00:00, 2021-04-22 ...   \n",
       "1  [2021-04-22 01:21:55.068000+00:00, 2021-04-22 ...   \n",
       "2  [2021-04-22 01:21:56.327000+00:00, 2021-04-22 ...   \n",
       "3  [2021-04-22 01:21:57.983000+00:00, 2021-04-22 ...   \n",
       "4  [2021-04-22 01:21:59.120000+00:00, 2021-04-22 ...   \n",
       "\n",
       "                                                GM.T  \\\n",
       "0  [acc.xyz, acc.xyz, acc.xyz, acc.xyz, obd.spd_v...   \n",
       "1  [acc.xyz, acc.xyz, acc.xyz, acc.xyz, acc.xyz, ...   \n",
       "2  [acc.xyz, acc.xyz, acc.xyz, acc.xyz, acc.xyz, ...   \n",
       "3  [acc.xyz, acc.xyz, acc.xyz, acc.xyz, acc.xyz, ...   \n",
       "4  [obd.spd_veh, acc.xyz, acc.xyz, acc.xyz, acc.x...   \n",
       "\n",
       "                                          GM.lat_int  \\\n",
       "0  [55.654713308383236, 55.65471373053892, 55.654...   \n",
       "1  [55.654781462897525, 55.65478160070671, 55.654...   \n",
       "2  [55.654862308917195, 55.65486260509554, 55.654...   \n",
       "3  [55.654942544169614, 55.65494265017668, 55.654...   \n",
       "4  [55.65502238338658, 55.65502269329073, 55.6550...   \n",
       "\n",
       "                                          GM.lon_int  \\\n",
       "0  [12.486686901197604, 12.486686532934131, 12.48...   \n",
       "1  [12.48662899293286, 12.486628876325089, 12.486...   \n",
       "2  [12.486560579617835, 12.486560331210192, 12.48...   \n",
       "3  [12.486492964664311, 12.486492879858657, 12.48...   \n",
       "4  [12.486424923322684, 12.486424661341852, 12.48...   \n",
       "\n",
       "                                        GM.acc.xyz.z  \\\n",
       "0  [0.9727, 0.9727, 0.9727, 0.9727, 0.9922, 0.992...   \n",
       "1  [0.9727, 0.9727, 0.9727, 0.9727, 0.9727, 0.972...   \n",
       "2  [1.0391, 1.0391, 1.0391, 1.0391, 1.0391, 1.015...   \n",
       "3  [1.0391, 1.0391, 0.9805, 0.9805, 0.9805, 0.980...   \n",
       "4  [0.9492, 0.9961, 0.9961, 0.9961, 0.9961, 0.996...   \n",
       "\n",
       "                                        GM.acc.xyz.y  \\\n",
       "0  [-0.1172, -0.1172, -0.1172, -0.1172, -0.1211, ...   \n",
       "1  [-0.0898, -0.0898, -0.0898, -0.0898, -0.0898, ...   \n",
       "2  [0.0273, 0.0273, 0.0273, 0.0273, 0.0273, 0.011...   \n",
       "3  [0.1016, 0.1016, 0.0898, 0.0898, 0.0898, 0.089...   \n",
       "4  [0.0859, 0.0977, 0.0977, 0.0977, 0.0977, 0.097...   \n",
       "\n",
       "                                        GM.acc.xyz.x  \\\n",
       "0  [0.1602, 0.1602, 0.1602, 0.1602, 0.1563, 0.156...   \n",
       "1  [0.1406, 0.1406, 0.1406, 0.1406, 0.1406, 0.140...   \n",
       "2  [0.1523, 0.1523, 0.1523, 0.1523, 0.1523, 0.160...   \n",
       "3  [0.2188, 0.2188, 0.1953, 0.1953, 0.1953, 0.195...   \n",
       "4  [0.1875, 0.1563, 0.1563, 0.1563, 0.1563, 0.156...   \n",
       "\n",
       "                                GM.obd.spd_veh.value  \n",
       "0  [31.04, 31.0, 30.970000000000002, 31.470000000...  \n",
       "1  [29.52, 29.48, 29.42, 29.400000000000002, 29.3...  \n",
       "2  [30.080000000000002, 30.14, 30.2, 30.23, 29.54...  \n",
       "3  [36.910000000000004, 37.0, 37.07, 37.18, 37.25...  \n",
       "4  [41.2, 41.27, 41.38, 41.46, 41.53, 40.76, 41.6...  "
      ]
     },
     "execution_count": 4,
     "metadata": {},
     "output_type": "execute_result"
    }
   ],
   "source": [
    "df.head()"
   ]
  },
  {
   "cell_type": "code",
   "execution_count": 5,
   "id": "-WaSuygrfNno",
   "metadata": {
    "id": "-WaSuygrfNno"
   },
   "outputs": [
    {
     "data": {
      "text/plain": [
       "(3830, 10)"
      ]
     },
     "execution_count": 5,
     "metadata": {},
     "output_type": "execute_result"
    }
   ],
   "source": [
    "#shuffle df\n",
    "df = df.sample(frac=1.0)\n",
    "df.shape"
   ]
  },
  {
   "cell_type": "markdown",
   "id": "7cPv_QpwgfFL",
   "metadata": {
    "id": "7cPv_QpwgfFL"
   },
   "source": [
    "## Subset data for devo"
   ]
  },
  {
   "cell_type": "code",
   "execution_count": 6,
   "id": "Ykj14r2HCKfw",
   "metadata": {
    "colab": {
     "base_uri": "https://localhost:8080/",
     "height": 164
    },
    "id": "Ykj14r2HCKfw",
    "outputId": "ea2dcb2c-35f8-403e-aa50-0d1643daaa6b"
   },
   "outputs": [],
   "source": [
    "df = df[0:1000]"
   ]
  },
  {
   "cell_type": "markdown",
   "id": "d97d7833",
   "metadata": {
    "id": "d97d7833"
   },
   "source": [
    "# Pad with initial zeroes"
   ]
  },
  {
   "cell_type": "code",
   "execution_count": 7,
   "id": "9ba03046",
   "metadata": {
    "colab": {
     "base_uri": "https://localhost:8080/",
     "height": 232
    },
    "id": "9ba03046",
    "outputId": "375aa4b4-acef-4016-bb34-dd3060365af2"
   },
   "outputs": [],
   "source": [
    "ts_max_len = max(df['GM.acc.xyz.z'].apply(len))\n",
    "padded_ts = []\n",
    "\n",
    "for index, ls in df['GM.acc.xyz.z'].items():\n",
    "    padded_ts.append(np.concatenate(([0] * (ts_max_len - len(ls)), ls)))\n",
    "    \n",
    "s1 = pd.Series(padded_ts, index=df.index, name='GM.acc.xyz.z')"
   ]
  },
  {
   "cell_type": "code",
   "execution_count": 8,
   "id": "c167818d",
   "metadata": {
    "colab": {
     "base_uri": "https://localhost:8080/",
     "height": 164
    },
    "id": "c167818d",
    "outputId": "0093ed1a-69e5-4eb0-c123-fbc522da1e20"
   },
   "outputs": [],
   "source": [
    "df['GM.acc.xyz.z'] = s1"
   ]
  },
  {
   "cell_type": "code",
   "execution_count": 9,
   "id": "140f2c4f",
   "metadata": {
    "id": "140f2c4f"
   },
   "outputs": [
    {
     "data": {
      "text/plain": [
       "(871,)"
      ]
     },
     "execution_count": 9,
     "metadata": {},
     "output_type": "execute_result"
    }
   ],
   "source": [
    "iri_threshold = 5\n",
    "normal_df = df['GM.acc.xyz.z'][df['IRI_mean'] <= iri_threshold]\n",
    "normal_df.shape"
   ]
  },
  {
   "cell_type": "code",
   "execution_count": 10,
   "id": "3e82ef74",
   "metadata": {
    "colab": {
     "base_uri": "https://localhost:8080/",
     "height": 181
    },
    "id": "3e82ef74",
    "outputId": "a8977b31-533d-49f7-96ce-81ed64b0d99f"
   },
   "outputs": [
    {
     "data": {
      "text/plain": [
       "(129,)"
      ]
     },
     "execution_count": 10,
     "metadata": {},
     "output_type": "execute_result"
    }
   ],
   "source": [
    "anomaly_df = df['GM.acc.xyz.z'][df['IRI_mean'] >= iri_threshold]\n",
    "anomaly_df.shape"
   ]
  },
  {
   "cell_type": "code",
   "execution_count": 11,
   "id": "218c448c",
   "metadata": {
    "colab": {
     "base_uri": "https://localhost:8080/",
     "height": 164
    },
    "id": "218c448c",
    "outputId": "fb52ba13-4415-4bd9-d3d2-094e6a8473ac"
   },
   "outputs": [],
   "source": [
    "anomaly_df = pd.DataFrame(anomaly_df.tolist())"
   ]
  },
  {
   "cell_type": "code",
   "execution_count": 12,
   "id": "2fcb52ca",
   "metadata": {
    "id": "2fcb52ca"
   },
   "outputs": [],
   "source": [
    "normal_df = pd.DataFrame(normal_df.tolist())"
   ]
  },
  {
   "cell_type": "code",
   "execution_count": 13,
   "id": "99e0e92c",
   "metadata": {
    "id": "99e0e92c"
   },
   "outputs": [],
   "source": [
    "train_df, val_df = train_test_split(\n",
    "  normal_df,\n",
    "  test_size=0.15,\n",
    "  random_state=RANDOM_SEED\n",
    ")\n",
    "\n",
    "val_df, test_df = train_test_split(\n",
    "  val_df,\n",
    "  test_size=0.33, \n",
    "  random_state=RANDOM_SEED\n",
    ")"
   ]
  },
  {
   "cell_type": "markdown",
   "id": "3feed680",
   "metadata": {
    "id": "3feed680"
   },
   "source": [
    "# convert to tensors"
   ]
  },
  {
   "cell_type": "code",
   "execution_count": 14,
   "id": "b3b2f4f2",
   "metadata": {
    "id": "b3b2f4f2"
   },
   "outputs": [],
   "source": [
    "def create_dataset(df):\n",
    "\n",
    "    sequences = df.astype(np.float32).to_numpy().tolist()\n",
    "\n",
    "    dataset = [torch.tensor(s).unsqueeze(1).float() for s in sequences]\n",
    "\n",
    "    n_seq, seq_len, n_features = torch.stack(dataset).shape\n",
    "\n",
    "    return dataset, seq_len, n_features"
   ]
  },
  {
   "cell_type": "code",
   "execution_count": 15,
   "id": "344f044d",
   "metadata": {
    "id": "344f044d"
   },
   "outputs": [],
   "source": [
    "train_dataset, seq_len, n_features = create_dataset(train_df)\n",
    "val_dataset, _, _ = create_dataset(val_df)\n",
    "test_normal_dataset, _, _ = create_dataset(test_df)\n",
    "test_anomaly_dataset, _, _ = create_dataset(anomaly_df)"
   ]
  },
  {
   "cell_type": "markdown",
   "id": "bcb0f62d-ef95-461a-ac1c-b8685ff21a50",
   "metadata": {},
   "source": [
    "## DataLoader"
   ]
  },
  {
   "cell_type": "code",
   "execution_count": 16,
   "id": "0e5756a6-7362-4c4c-8de5-7df84e9803b6",
   "metadata": {},
   "outputs": [],
   "source": [
    "from torch.utils.data import DataLoader, TensorDataset\n",
    "batch_size = 5\n",
    "\n",
    "train_dataloader = DataLoader(train_dataset, batch_size=batch_size, shuffle=True)\n",
    "val_dataloader = DataLoader(val_dataset, batch_size=batch_size, shuffle=True)"
   ]
  },
  {
   "cell_type": "code",
   "execution_count": 33,
   "id": "03738347-ecf5-4449-aa84-3511b85b71f4",
   "metadata": {},
   "outputs": [
    {
     "data": {
      "text/plain": [
       "torch.Size([5, 26951, 1])"
      ]
     },
     "execution_count": 33,
     "metadata": {},
     "output_type": "execute_result"
    }
   ],
   "source": [
    "x = next(iter(train_dataloader))\n",
    "x.shape"
   ]
  },
  {
   "cell_type": "code",
   "execution_count": 18,
   "id": "b0faecab",
   "metadata": {
    "id": "b0faecab"
   },
   "outputs": [],
   "source": [
    "class Encoder(nn.Module):\n",
    "\n",
    "    def __init__(self, seq_len, n_features, embedding_dim=64):\n",
    "        super(Encoder, self).__init__()\n",
    "\n",
    "        self.seq_len, self.n_features = seq_len, n_features\n",
    "        self.embedding_dim, self.hidden_dim = embedding_dim, 2 * embedding_dim\n",
    "\n",
    "        self.rnn1 = nn.LSTM(          #(Batch Size, Sequence Length,Hidden Units)\n",
    "          input_size=n_features,\n",
    "          hidden_size=self.hidden_dim,\n",
    "          num_layers=1,\n",
    "          batch_first=True\n",
    "        )\n",
    "\n",
    "        self.rnn2 = nn.LSTM(\n",
    "          input_size=self.hidden_dim,\n",
    "          hidden_size=embedding_dim,\n",
    "          num_layers=1,\n",
    "          batch_first=True\n",
    "        )\n",
    "\n",
    "    def forward(self, x):\n",
    "        #x = x.reshape((batch_size, self.seq_len, self.n_features))\n",
    "        x, (_, _) = self.rnn1(x)\n",
    "        x, (hidden_n, _) = self.rnn2(x)\n",
    "\n",
    "        return hidden_n.reshape((batch_size, self.n_features, self.embedding_dim))"
   ]
  },
  {
   "cell_type": "code",
   "execution_count": 111,
   "id": "b70c28ac",
   "metadata": {
    "id": "b70c28ac"
   },
   "outputs": [],
   "source": [
    "class Decoder(nn.Module):\n",
    "\n",
    "    def __init__(self, seq_len, input_dim=64, n_features=1):\n",
    "        super(Decoder, self).__init__()\n",
    "\n",
    "        self.seq_len, self.input_dim = seq_len, input_dim\n",
    "        self.hidden_dim, self.n_features = 2 * input_dim, n_features\n",
    "\n",
    "        self.rnn1 = nn.LSTM(    \n",
    "          input_size=self.input_dim,\n",
    "          hidden_size=self.input_dim,\n",
    "          num_layers=1,\n",
    "          batch_first=True\n",
    "        )\n",
    "\n",
    "        self.rnn2 = nn.LSTM(\n",
    "          input_size=self.input_dim,\n",
    "          hidden_size=self.hidden_dim,\n",
    "          num_layers=1,\n",
    "          batch_first=True\n",
    "        )\n",
    "\n",
    "        self.output_layer = nn.Linear(self.hidden_dim, n_features)\n",
    "\n",
    "    def forward(self, x):\n",
    "        \n",
    "        x = x.repeat(batch_size, self.seq_len, self.n_features)\n",
    "        x = x.reshape((batch_size, self.n_features, self.seq_len, self.input_dim))\n",
    "\n",
    "        x, (hidden_n, cell_n) = self.rnn1(x)\n",
    "        x, (hidden_n, cell_n) = self.rnn2(x)\n",
    "        x = x.reshape((batch_size, self.seq_len, self.hidden_dim))\n",
    "\n",
    "        return self.output_layer(x)"
   ]
  },
  {
   "cell_type": "code",
   "execution_count": 112,
   "id": "cd8db54b",
   "metadata": {
    "id": "cd8db54b"
   },
   "outputs": [],
   "source": [
    "class RecurrentAutoencoder(nn.Module):\n",
    "\n",
    "    def __init__(self, seq_len, n_features, embedding_dim=64):\n",
    "        super(RecurrentAutoencoder, self).__init__()\n",
    "\n",
    "        self.encoder = Encoder(seq_len, n_features, embedding_dim).to(device)\n",
    "        self.decoder = Decoder(seq_len, embedding_dim, n_features).to(device)\n",
    "\n",
    "    def forward(self, x):\n",
    "        x = self.encoder(x)\n",
    "        x = self.decoder(x)\n",
    "\n",
    "        return x"
   ]
  },
  {
   "cell_type": "code",
   "execution_count": 113,
   "id": "c2edeb92",
   "metadata": {
    "id": "c2edeb92"
   },
   "outputs": [],
   "source": [
    "model = RecurrentAutoencoder(seq_len, n_features, 128)\n",
    "model = model.to(device)"
   ]
  },
  {
   "cell_type": "code",
   "execution_count": 114,
   "id": "19cfa238",
   "metadata": {
    "id": "19cfa238"
   },
   "outputs": [],
   "source": [
    "def train_model(model, train_dataloader, val_dataloader, n_epochs):\n",
    "    optimizer = torch.optim.Adam(model.parameters(), lr=1e-3)\n",
    "    criterion = nn.MSELoss(reduction='sum').to(device)\n",
    "    history = dict(train=[], val=[])\n",
    "\n",
    "    best_model_wts = copy.deepcopy(model.state_dict())\n",
    "    best_loss = 10000.0\n",
    "  \n",
    "    for epoch in range(1, n_epochs + 1):\n",
    "        model = model.train()\n",
    "\n",
    "        train_losses = []\n",
    "        #for seq_true in train_dataset:\n",
    "        for X in train_dataloader:\n",
    "            seq_true = X.to(device)\n",
    "            seq_pred = model(seq_true)\n",
    "\n",
    "            loss = criterion(seq_pred, seq_true)\n",
    "            optimizer.zero_grad()\n",
    "            loss.backward()\n",
    "            optimizer.step()\n",
    "\n",
    "            train_losses.append(loss.item())\n",
    "\n",
    "            print(f'train loss {loss.item()}')      \n",
    "    val_losses = []\n",
    "    model = model.eval()\n",
    "    with torch.no_grad():\n",
    "        for X in test_dataloader:\n",
    "            seq_true = X.to(device)\n",
    "            seq_pred = model(seq_true)\n",
    "        \n",
    "            loss = criterion(seq_pred, seq_true)\n",
    "            val_losses.append(loss.item())\n",
    "        \n",
    "    train_loss = np.mean(train_losses)\n",
    "    val_loss = np.mean(val_losses)\n",
    "\n",
    "    history['train'].append(train_loss)\n",
    "    history['val'].append(val_loss)\n",
    "\n",
    "    if val_loss < best_loss:\n",
    "        best_loss = val_loss\n",
    "        best_model_wts = copy.deepcopy(model.state_dict())\n",
    "\n",
    "    print(f'Epoch {epoch}: train loss {train_loss} val loss {val_loss}')\n",
    "\n",
    "    model.load_state_dict(best_model_wts)\n",
    "    return model.eval(), history"
   ]
  },
  {
   "cell_type": "code",
   "execution_count": 115,
   "id": "BXhcpqEZLrU6",
   "metadata": {
    "id": "BXhcpqEZLrU6"
   },
   "outputs": [],
   "source": [
    "import datetime"
   ]
  },
  {
   "cell_type": "code",
   "execution_count": 116,
   "id": "df508450",
   "metadata": {
    "colab": {
     "base_uri": "https://localhost:8080/",
     "height": 1000
    },
    "id": "df508450",
    "outputId": "6209e1f7-a68c-4fd1-ead9-401d6b597782"
   },
   "outputs": [
    {
     "name": "stdout",
     "output_type": "stream",
     "text": [
      "2021-11-09 14:25:52.561879\n"
     ]
    },
    {
     "ename": "TypeError",
     "evalue": "reshape(): argument 'shape' must be tuple of ints, but found element of type float at pos 4",
     "output_type": "error",
     "traceback": [
      "\u001b[0;31m---------------------------------------------------------------------------\u001b[0m",
      "\u001b[0;31mTypeError\u001b[0m                                 Traceback (most recent call last)",
      "\u001b[0;32m/var/folders/wv/j_lqm8yn4ndb1hvhthjcrb540000gn/T/ipykernel_15730/3151089503.py\u001b[0m in \u001b[0;36m<module>\u001b[0;34m\u001b[0m\n\u001b[1;32m      1\u001b[0m \u001b[0mprint\u001b[0m\u001b[0;34m(\u001b[0m\u001b[0mdatetime\u001b[0m\u001b[0;34m.\u001b[0m\u001b[0mdatetime\u001b[0m\u001b[0;34m.\u001b[0m\u001b[0mnow\u001b[0m\u001b[0;34m(\u001b[0m\u001b[0;34m)\u001b[0m\u001b[0;34m)\u001b[0m\u001b[0;34m\u001b[0m\u001b[0;34m\u001b[0m\u001b[0m\n\u001b[0;32m----> 2\u001b[0;31m model, history = train_model(\n\u001b[0m\u001b[1;32m      3\u001b[0m   \u001b[0mmodel\u001b[0m\u001b[0;34m,\u001b[0m\u001b[0;34m\u001b[0m\u001b[0;34m\u001b[0m\u001b[0m\n\u001b[1;32m      4\u001b[0m   \u001b[0mtrain_dataloader\u001b[0m\u001b[0;34m,\u001b[0m\u001b[0;34m\u001b[0m\u001b[0;34m\u001b[0m\u001b[0m\n\u001b[1;32m      5\u001b[0m   \u001b[0mval_dataloader\u001b[0m\u001b[0;34m,\u001b[0m\u001b[0;34m\u001b[0m\u001b[0;34m\u001b[0m\u001b[0m\n",
      "\u001b[0;32m/var/folders/wv/j_lqm8yn4ndb1hvhthjcrb540000gn/T/ipykernel_15730/4220416418.py\u001b[0m in \u001b[0;36mtrain_model\u001b[0;34m(model, train_dataloader, val_dataloader, n_epochs)\u001b[0m\n\u001b[1;32m     14\u001b[0m         \u001b[0;32mfor\u001b[0m \u001b[0mX\u001b[0m \u001b[0;32min\u001b[0m \u001b[0mtrain_dataloader\u001b[0m\u001b[0;34m:\u001b[0m\u001b[0;34m\u001b[0m\u001b[0;34m\u001b[0m\u001b[0m\n\u001b[1;32m     15\u001b[0m             \u001b[0mseq_true\u001b[0m \u001b[0;34m=\u001b[0m \u001b[0mX\u001b[0m\u001b[0;34m.\u001b[0m\u001b[0mto\u001b[0m\u001b[0;34m(\u001b[0m\u001b[0mdevice\u001b[0m\u001b[0;34m)\u001b[0m\u001b[0;34m\u001b[0m\u001b[0;34m\u001b[0m\u001b[0m\n\u001b[0;32m---> 16\u001b[0;31m             \u001b[0mseq_pred\u001b[0m \u001b[0;34m=\u001b[0m \u001b[0mmodel\u001b[0m\u001b[0;34m(\u001b[0m\u001b[0mseq_true\u001b[0m\u001b[0;34m)\u001b[0m\u001b[0;34m\u001b[0m\u001b[0;34m\u001b[0m\u001b[0m\n\u001b[0m\u001b[1;32m     17\u001b[0m \u001b[0;34m\u001b[0m\u001b[0m\n\u001b[1;32m     18\u001b[0m             \u001b[0mloss\u001b[0m \u001b[0;34m=\u001b[0m \u001b[0mcriterion\u001b[0m\u001b[0;34m(\u001b[0m\u001b[0mseq_pred\u001b[0m\u001b[0;34m,\u001b[0m \u001b[0mseq_true\u001b[0m\u001b[0;34m)\u001b[0m\u001b[0;34m\u001b[0m\u001b[0;34m\u001b[0m\u001b[0m\n",
      "\u001b[0;32m/opt/homebrew/Caskroom/miniforge/base/envs/cforge_env/lib/python3.9/site-packages/torch/nn/modules/module.py\u001b[0m in \u001b[0;36m_call_impl\u001b[0;34m(self, *input, **kwargs)\u001b[0m\n\u001b[1;32m    887\u001b[0m             \u001b[0mresult\u001b[0m \u001b[0;34m=\u001b[0m \u001b[0mself\u001b[0m\u001b[0;34m.\u001b[0m\u001b[0m_slow_forward\u001b[0m\u001b[0;34m(\u001b[0m\u001b[0;34m*\u001b[0m\u001b[0minput\u001b[0m\u001b[0;34m,\u001b[0m \u001b[0;34m**\u001b[0m\u001b[0mkwargs\u001b[0m\u001b[0;34m)\u001b[0m\u001b[0;34m\u001b[0m\u001b[0;34m\u001b[0m\u001b[0m\n\u001b[1;32m    888\u001b[0m         \u001b[0;32melse\u001b[0m\u001b[0;34m:\u001b[0m\u001b[0;34m\u001b[0m\u001b[0;34m\u001b[0m\u001b[0m\n\u001b[0;32m--> 889\u001b[0;31m             \u001b[0mresult\u001b[0m \u001b[0;34m=\u001b[0m \u001b[0mself\u001b[0m\u001b[0;34m.\u001b[0m\u001b[0mforward\u001b[0m\u001b[0;34m(\u001b[0m\u001b[0;34m*\u001b[0m\u001b[0minput\u001b[0m\u001b[0;34m,\u001b[0m \u001b[0;34m**\u001b[0m\u001b[0mkwargs\u001b[0m\u001b[0;34m)\u001b[0m\u001b[0;34m\u001b[0m\u001b[0;34m\u001b[0m\u001b[0m\n\u001b[0m\u001b[1;32m    890\u001b[0m         for hook in itertools.chain(\n\u001b[1;32m    891\u001b[0m                 \u001b[0m_global_forward_hooks\u001b[0m\u001b[0;34m.\u001b[0m\u001b[0mvalues\u001b[0m\u001b[0;34m(\u001b[0m\u001b[0;34m)\u001b[0m\u001b[0;34m,\u001b[0m\u001b[0;34m\u001b[0m\u001b[0;34m\u001b[0m\u001b[0m\n",
      "\u001b[0;32m/var/folders/wv/j_lqm8yn4ndb1hvhthjcrb540000gn/T/ipykernel_15730/2260357357.py\u001b[0m in \u001b[0;36mforward\u001b[0;34m(self, x)\u001b[0m\n\u001b[1;32m      9\u001b[0m     \u001b[0;32mdef\u001b[0m \u001b[0mforward\u001b[0m\u001b[0;34m(\u001b[0m\u001b[0mself\u001b[0m\u001b[0;34m,\u001b[0m \u001b[0mx\u001b[0m\u001b[0;34m)\u001b[0m\u001b[0;34m:\u001b[0m\u001b[0;34m\u001b[0m\u001b[0;34m\u001b[0m\u001b[0m\n\u001b[1;32m     10\u001b[0m         \u001b[0mx\u001b[0m \u001b[0;34m=\u001b[0m \u001b[0mself\u001b[0m\u001b[0;34m.\u001b[0m\u001b[0mencoder\u001b[0m\u001b[0;34m(\u001b[0m\u001b[0mx\u001b[0m\u001b[0;34m)\u001b[0m\u001b[0;34m\u001b[0m\u001b[0;34m\u001b[0m\u001b[0m\n\u001b[0;32m---> 11\u001b[0;31m         \u001b[0mx\u001b[0m \u001b[0;34m=\u001b[0m \u001b[0mself\u001b[0m\u001b[0;34m.\u001b[0m\u001b[0mdecoder\u001b[0m\u001b[0;34m(\u001b[0m\u001b[0mx\u001b[0m\u001b[0;34m)\u001b[0m\u001b[0;34m\u001b[0m\u001b[0;34m\u001b[0m\u001b[0m\n\u001b[0m\u001b[1;32m     12\u001b[0m \u001b[0;34m\u001b[0m\u001b[0m\n\u001b[1;32m     13\u001b[0m         \u001b[0;32mreturn\u001b[0m \u001b[0mx\u001b[0m\u001b[0;34m\u001b[0m\u001b[0;34m\u001b[0m\u001b[0m\n",
      "\u001b[0;32m/opt/homebrew/Caskroom/miniforge/base/envs/cforge_env/lib/python3.9/site-packages/torch/nn/modules/module.py\u001b[0m in \u001b[0;36m_call_impl\u001b[0;34m(self, *input, **kwargs)\u001b[0m\n\u001b[1;32m    887\u001b[0m             \u001b[0mresult\u001b[0m \u001b[0;34m=\u001b[0m \u001b[0mself\u001b[0m\u001b[0;34m.\u001b[0m\u001b[0m_slow_forward\u001b[0m\u001b[0;34m(\u001b[0m\u001b[0;34m*\u001b[0m\u001b[0minput\u001b[0m\u001b[0;34m,\u001b[0m \u001b[0;34m**\u001b[0m\u001b[0mkwargs\u001b[0m\u001b[0;34m)\u001b[0m\u001b[0;34m\u001b[0m\u001b[0;34m\u001b[0m\u001b[0m\n\u001b[1;32m    888\u001b[0m         \u001b[0;32melse\u001b[0m\u001b[0;34m:\u001b[0m\u001b[0;34m\u001b[0m\u001b[0;34m\u001b[0m\u001b[0m\n\u001b[0;32m--> 889\u001b[0;31m             \u001b[0mresult\u001b[0m \u001b[0;34m=\u001b[0m \u001b[0mself\u001b[0m\u001b[0;34m.\u001b[0m\u001b[0mforward\u001b[0m\u001b[0;34m(\u001b[0m\u001b[0;34m*\u001b[0m\u001b[0minput\u001b[0m\u001b[0;34m,\u001b[0m \u001b[0;34m**\u001b[0m\u001b[0mkwargs\u001b[0m\u001b[0;34m)\u001b[0m\u001b[0;34m\u001b[0m\u001b[0;34m\u001b[0m\u001b[0m\n\u001b[0m\u001b[1;32m    890\u001b[0m         for hook in itertools.chain(\n\u001b[1;32m    891\u001b[0m                 \u001b[0m_global_forward_hooks\u001b[0m\u001b[0;34m.\u001b[0m\u001b[0mvalues\u001b[0m\u001b[0;34m(\u001b[0m\u001b[0;34m)\u001b[0m\u001b[0;34m,\u001b[0m\u001b[0;34m\u001b[0m\u001b[0;34m\u001b[0m\u001b[0m\n",
      "\u001b[0;32m/var/folders/wv/j_lqm8yn4ndb1hvhthjcrb540000gn/T/ipykernel_15730/2452081165.py\u001b[0m in \u001b[0;36mforward\u001b[0;34m(self, x)\u001b[0m\n\u001b[1;32m     26\u001b[0m \u001b[0;34m\u001b[0m\u001b[0m\n\u001b[1;32m     27\u001b[0m         \u001b[0mx\u001b[0m \u001b[0;34m=\u001b[0m \u001b[0mx\u001b[0m\u001b[0;34m.\u001b[0m\u001b[0mrepeat\u001b[0m\u001b[0;34m(\u001b[0m\u001b[0mbatch_size\u001b[0m\u001b[0;34m,\u001b[0m \u001b[0mself\u001b[0m\u001b[0;34m.\u001b[0m\u001b[0mseq_len\u001b[0m\u001b[0;34m,\u001b[0m \u001b[0mself\u001b[0m\u001b[0;34m.\u001b[0m\u001b[0mn_features\u001b[0m\u001b[0;34m)\u001b[0m\u001b[0;34m\u001b[0m\u001b[0;34m\u001b[0m\u001b[0m\n\u001b[0;32m---> 28\u001b[0;31m         \u001b[0mx\u001b[0m \u001b[0;34m=\u001b[0m \u001b[0mx\u001b[0m\u001b[0;34m.\u001b[0m\u001b[0mreshape\u001b[0m\u001b[0;34m(\u001b[0m\u001b[0;34m(\u001b[0m\u001b[0mbatch_size\u001b[0m\u001b[0;34m,\u001b[0m \u001b[0mself\u001b[0m\u001b[0;34m.\u001b[0m\u001b[0mn_features\u001b[0m\u001b[0;34m,\u001b[0m \u001b[0mself\u001b[0m\u001b[0;34m.\u001b[0m\u001b[0mseq_len\u001b[0m\u001b[0;34m,\u001b[0m \u001b[0mself\u001b[0m\u001b[0;34m.\u001b[0m\u001b[0minput_dim\u001b[0m\u001b[0;34m/\u001b[0m\u001b[0;36m2\u001b[0m\u001b[0;34m)\u001b[0m\u001b[0;34m)\u001b[0m\u001b[0;34m\u001b[0m\u001b[0;34m\u001b[0m\u001b[0m\n\u001b[0m\u001b[1;32m     29\u001b[0m \u001b[0;34m\u001b[0m\u001b[0m\n\u001b[1;32m     30\u001b[0m         \u001b[0mx\u001b[0m\u001b[0;34m,\u001b[0m \u001b[0;34m(\u001b[0m\u001b[0mhidden_n\u001b[0m\u001b[0;34m,\u001b[0m \u001b[0mcell_n\u001b[0m\u001b[0;34m)\u001b[0m \u001b[0;34m=\u001b[0m \u001b[0mself\u001b[0m\u001b[0;34m.\u001b[0m\u001b[0mrnn1\u001b[0m\u001b[0;34m(\u001b[0m\u001b[0mx\u001b[0m\u001b[0;34m)\u001b[0m\u001b[0;34m\u001b[0m\u001b[0;34m\u001b[0m\u001b[0m\n",
      "\u001b[0;31mTypeError\u001b[0m: reshape(): argument 'shape' must be tuple of ints, but found element of type float at pos 4"
     ]
    }
   ],
   "source": [
    "print(datetime.datetime.now())\n",
    "model, history = train_model(\n",
    "  model, \n",
    "  train_dataloader, \n",
    "  val_dataloader, \n",
    "  n_epochs=10\n",
    ")\n",
    "print(datetime.datetime.now())"
   ]
  },
  {
   "cell_type": "code",
   "execution_count": null,
   "id": "f9dca387-f93b-4958-97ae-93d691ab0ae8",
   "metadata": {},
   "outputs": [
    {
     "data": {
      "text/plain": [
       "8624320.0"
      ]
     },
     "execution_count": 104,
     "metadata": {},
     "output_type": "execute_result"
    }
   ],
   "source": [
    "5* 1 * 26951 * 256 /2/2"
   ]
  },
  {
   "cell_type": "code",
   "execution_count": null,
   "id": "Ve5D3lFwwTIj",
   "metadata": {
    "id": "Ve5D3lFwwTIj"
   },
   "outputs": [],
   "source": [
    "ax = plt.figure().gca()\n",
    "\n",
    "ax.plot(history['train'])\n",
    "ax.plot(history['val'])\n",
    "plt.ylabel('Loss')\n",
    "plt.xlabel('Epoch')\n",
    "plt.legend(['train', 'test'])\n",
    "plt.title('Loss over training epochs')\n",
    "plt.show();"
   ]
  },
  {
   "cell_type": "code",
   "execution_count": null,
   "id": "6hNPNY8qYoQg",
   "metadata": {
    "id": "6hNPNY8qYoQg"
   },
   "outputs": [],
   "source": [
    "MODEL_PATH = 'model.pth'\n",
    "\n",
    "torch.save(model, MODEL_PATH)"
   ]
  },
  {
   "cell_type": "code",
   "execution_count": null,
   "id": "m9y5K3U5xXw0",
   "metadata": {
    "id": "m9y5K3U5xXw0"
   },
   "outputs": [],
   "source": [
    "def predict(model, dataset):\n",
    "  predictions, losses = [], []\n",
    "  criterion = nn.L1Loss(reduction='sum').to(device)\n",
    "  with torch.no_grad():\n",
    "    model = model.eval()\n",
    "    for seq_true in dataset:\n",
    "      seq_true = seq_true.to(device)\n",
    "      seq_pred = model(seq_true)\n",
    "\n",
    "      loss = criterion(seq_pred, seq_true)\n",
    "\n",
    "      predictions.append(seq_pred.cpu().numpy().flatten())\n",
    "      losses.append(loss.item())\n",
    "  return predictions, losses"
   ]
  },
  {
   "cell_type": "code",
   "execution_count": null,
   "id": "TMIJ0MjLxNU8",
   "metadata": {
    "id": "TMIJ0MjLxNU8"
   },
   "outputs": [],
   "source": [
    "def plot_prediction(data, model, title, ax):\n",
    "  predictions, pred_losses = predict(model, [data])\n",
    "\n",
    "  ax.plot(data, label='true')\n",
    "  ax.plot(predictions[0], label='reconstructed')\n",
    "  ax.set_title(f'{title} (loss: {np.around(pred_losses[0], 2)})')\n",
    "  ax.legend()"
   ]
  },
  {
   "cell_type": "code",
   "execution_count": null,
   "id": "fRu-x29twik7",
   "metadata": {
    "id": "fRu-x29twik7"
   },
   "outputs": [],
   "source": [
    "fig, axs = plt.subplots(\n",
    "  nrows=2,\n",
    "  ncols=6,\n",
    "  sharey=True,\n",
    "  sharex=True,\n",
    "  figsize=(22, 8)\n",
    ")\n",
    "\n",
    "for i, data in enumerate(test_normal_dataset[:6]):\n",
    "  plot_prediction(data, model, title='Normal', ax=axs[0, i])\n",
    "\n",
    "for i, data in enumerate(test_anomaly_dataset[:6]):\n",
    "  plot_prediction(data, model, title='Anomaly', ax=axs[1, i])\n",
    "\n",
    "fig.tight_layout();"
   ]
  },
  {
   "cell_type": "code",
   "execution_count": null,
   "id": "zwQQ3pPrxGme",
   "metadata": {
    "id": "zwQQ3pPrxGme"
   },
   "outputs": [],
   "source": []
  }
 ],
 "metadata": {
  "accelerator": "GPU",
  "colab": {
   "collapsed_sections": [],
   "name": "deep_david_devo",
   "provenance": []
  },
  "kernelspec": {
   "display_name": "Python 3 (ipykernel)",
   "language": "python",
   "name": "python3"
  },
  "language_info": {
   "codemirror_mode": {
    "name": "ipython",
    "version": 3
   },
   "file_extension": ".py",
   "mimetype": "text/x-python",
   "name": "python",
   "nbconvert_exporter": "python",
   "pygments_lexer": "ipython3",
   "version": "3.9.7"
  }
 },
 "nbformat": 4,
 "nbformat_minor": 5
}
